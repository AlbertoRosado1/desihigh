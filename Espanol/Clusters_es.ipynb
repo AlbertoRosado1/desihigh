{
 "cells": [
  {
   "cell_type": "code",
   "execution_count": null,
   "metadata": {},
   "outputs": [],
   "source": [
    "import pylab             as     pl\n",
    "import pandas            as     pd\n",
    "import numpy             as     np\n",
    "import matplotlib.pyplot as     plt\n",
    "import matplotlib.cm     as     cm\n",
    "import astropy.constants as     const\n",
    "import astropy.units     as     u\n",
    "\n",
    "from   astropy.table     import Table\n",
    "from   tools.legacy      import cutout\n",
    "from   IPython.display   import Image"
   ]
  },
  {
   "cell_type": "markdown",
   "metadata": {
    "lang": "es"
   },
   "source": [
    "# Más allá de lo evidente"
   ]
  },
  {
   "cell_type": "markdown",
   "metadata": {
    "lang": "es"
   },
   "source": [
    "Hay pocas cosas en el Universo más impresionantes que un cúmulo gigante, con hasta 1000 galaxias encerradas en un espacio pequeño."
   ]
  },
  {
   "cell_type": "code",
   "execution_count": null,
   "metadata": {},
   "outputs": [],
   "source": [
    "Image(filename='images/legacy_tsz.png')"
   ]
  },
  {
   "cell_type": "markdown",
   "metadata": {
    "lang": "es"
   },
   "source": [
    "Pero, ¿cómo sabemos que estas galaxias están en el mismo espacio, en lugar de ser proyecciones al azar en el cielo de galaxias que se encuentran a distancias muy diferentes? ¡Con sus espectros por supuesto! Al medir el desplazamiento al rojo de cada galaxia, encontramos que son vecinas cercanas tanto en la dirección radial, como en la proyección en el cielo. Eso los hace increíblemente raros y dignos de una atención dedicada. ¿Quizás hay más de lo que podemos ver a simple vista?"
   ]
  },
  {
   "cell_type": "code",
   "execution_count": null,
   "metadata": {},
   "outputs": [],
   "source": [
    "Image(filename='../images/optical_retriever.jpg', width=500)"
   ]
  },
  {
   "cell_type": "code",
   "execution_count": null,
   "metadata": {},
   "outputs": [],
   "source": [
    "Image(filename='../images/ir_retriever.jpg', width=500)"
   ]
  },
  {
   "cell_type": "markdown",
   "metadata": {
    "lang": "es"
   },
   "source": [
    "¿Qué diferencias hay entre estas dos imágenes? ¡Tómate un minuto para pensarlo!"
   ]
  },
  {
   "cell_type": "code",
   "execution_count": null,
   "metadata": {},
   "outputs": [],
   "source": [
    "Image(filename='../images/thinking.jpeg', width=500)"
   ]
  },
  {
   "cell_type": "markdown",
   "metadata": {
    "lang": "es"
   },
   "source": [
    "¿Ya tienes una respuesta ? No, de acuerdo, toma otro minuto (pista: hay un indicio en el nombre del archivo)."
   ]
  },
  {
   "cell_type": "code",
   "execution_count": null,
   "metadata": {},
   "outputs": [],
   "source": [
    "Image(filename='../images/still_thinking.jpg', width=500)"
   ]
  },
  {
   "cell_type": "code",
   "execution_count": null,
   "metadata": {},
   "outputs": [],
   "source": [
    "Image(filename='../images/happy.jpg', width=500)"
   ]
  },
  {
   "cell_type": "markdown",
   "metadata": {
    "lang": "es"
   },
   "source": [
    "¡Ah, ya lo tienes! Así es, cuando usamos gafas especiales,  infrarrojas, vemos una medida de la temperatura de nuestro perro favorito, en lugar de que tan reflectante es su pelaje como hacemos con \"el visible\".\n",
    "\n",
    "Entonces, ¿qué vemos en un cúmulo de galaxias fuera del rango visible?"
   ]
  },
  {
   "cell_type": "code",
   "execution_count": null,
   "metadata": {},
   "outputs": [],
   "source": [
    "Image(filename='../images/ChandraClusters.jpg', width=1000)"
   ]
  },
  {
   "cell_type": "markdown",
   "metadata": {
    "lang": "es"
   },
   "source": [
    "¡Wow! Bueno, valió la pena solo por la imagen. ¿Qué hemos aprendido? Al observar una longitud de onda mucho _más corta_ que la visible, vemos que los eventos ocurren a una energía muy alta. Aquí, en la radiografía vemos el 'medio intra cúmulo' muy caliente que aumenta el espacio entre galaxias. Este gas es simplemente hidrógeno y helio, como lo que haría prender mechero de Bunsen, pero es demasiado caliente para colapsar y formar estrellas."
   ]
  },
  {
   "cell_type": "markdown",
   "metadata": {
    "lang": "es"
   },
   "source": [
    "Ha sido muy importante hacer una foto como esta. Afortunadamente para nosotros, la atmósfera es opaca a los rayos X, por lo que no fue sino hasta la década de 1950 que pudimos ir al espacio, y ver este mundo completamente nuevo. Recuerda, hasta que apareció SpaceX, los satélites eran un gran problema ya que los lanzamientos de cohetes costaban mucho dinero. Los cohetes también tienen que ser pequeños para minimizar el peso y la resistencia del aire, por lo que los telescopios en el espacio tienen que ser pequeños; Veremos más sobre [SpaceX] (https://www.spacex.com/) en otro cuaderno."
   ]
  },
  {
   "cell_type": "code",
   "execution_count": null,
   "metadata": {},
   "outputs": [],
   "source": [
    "Image(filename='../images/Launch.jpg', width=1000)"
   ]
  },
  {
   "cell_type": "markdown",
   "metadata": {
    "lang": "es"
   },
   "source": [
    "Pero los diseñadores del satélite [Chandra](https://www.nasa.gov/mission_pages/chandra/main/index.html) decidieron que valía la pena explorar esta nueva frontera, la astronomía de rayos X."
   ]
  },
  {
   "cell_type": "code",
   "execution_count": null,
   "metadata": {},
   "outputs": [],
   "source": [
    "Image(filename='../images/Chandra.png', width=1000)"
   ]
  },
  {
   "cell_type": "markdown",
   "metadata": {
    "lang": "es"
   },
   "source": [
    "Entonces, ¿hay una imagen infrarroja de un cúmulo de galaxias? Por supuesto, nos daría información sobre el gas que está un poco menos caliente. Pero, ¿podemos ser más inteligentes y encontrar otras formas nuevas que no dependan de que el gas esté lo suficientemente caliente como para emitir radiación? Claro, somos astrónomos, ¡ese es nuestro trabajo!"
   ]
  },
  {
   "cell_type": "markdown",
   "metadata": {
    "lang": "es"
   },
   "source": [
    "¿Qué pasa si buscamos el efecto que la presencia del cúmulo tendría en la luz emitida por otras fuentes, eso haría el trabajo, verdad? Como de costumbre, Einstein nos dio el primer indicio al predecir que la luz es desviada por la materia presente a medida que ésta viaja por el Universo. ¡Hasta aquí llegó Newton, y sus líneas rectas!\n",
    "\n",
    "Para un fondo muy distante, veríamos varias imágenes a medida que la luz se dobla alrededor de la lente:"
   ]
  },
  {
   "cell_type": "code",
   "execution_count": null,
   "metadata": {},
   "outputs": [],
   "source": [
    "Image(filename='../images/StrongLensDiagram.jpg', width=1000)"
   ]
  },
  {
   "cell_type": "markdown",
   "metadata": {
    "lang": "es"
   },
   "source": [
    "Para una alineación perfecta de la fuente y la lente, incluso podemos ver un anillo de Einstein completo, que está compuesto por imágenes superpuestas:"
   ]
  },
  {
   "cell_type": "code",
   "execution_count": null,
   "metadata": {},
   "outputs": [],
   "source": [
    "Image(filename='../images/StrongLens.jpeg', width=1000)"
   ]
  },
  {
   "cell_type": "markdown",
   "metadata": {
    "lang": "es"
   },
   "source": [
    "Esto es increíblemente útil, ya que, según Einstein, el radio del anillo nos dice la masa exacta encerrada del mismo."
   ]
  },
  {
   "cell_type": "code",
   "execution_count": null,
   "metadata": {},
   "outputs": [],
   "source": [
    "Image(filename='../images/ClusterStrongLensing.jpg', width=1000)"
   ]
  },
  {
   "cell_type": "markdown",
   "metadata": {
    "lang": "es"
   },
   "source": [
    "Para un cúmulo, en lugar de una sola fuente, las cosas se ponen complicadas, ya que en realidad solo vemos anillos parciales, producidos por el efecto de la presencia de toda la materia."
   ]
  },
  {
   "cell_type": "markdown",
   "metadata": {
    "lang": "es"
   },
   "source": [
    "# El teatro de las sombras cósmicas"
   ]
  },
  {
   "cell_type": "markdown",
   "metadata": {
    "lang": "es"
   },
   "source": [
    "Sigamos pensando aún un poco más, fuera de la caja. En lugar de la luz de las galaxias distantes, ¿qué pasa con la deflección de luz proveniente del 'Big Bang'?"
   ]
  },
  {
   "cell_type": "markdown",
   "metadata": {
    "lang": "es"
   },
   "source": [
    "Nuestro primer cuaderno introdujo la expansión del Universo y la reciente detección de una aceleración cósmica. ¿Qué pasa cuando retrocedemos en el tiempo?"
   ]
  },
  {
   "cell_type": "code",
   "execution_count": null,
   "metadata": {},
   "outputs": [],
   "source": [
    "Image(filename='../images/CMB_Cone.jpg', width=1000)"
   ]
  },
  {
   "cell_type": "markdown",
   "metadata": {
    "lang": "es"
   },
   "source": [
    "Si las galaxias se están separando entre sí hoy en día, entonces su distribución debe haber sido aún más densa en el pasado. El único error que hay que evitar aquí es pensar que hay un punto en el que todo colapsa. Más bien, todo el espacio se vuelve más denso al mismo ritmo, a medida que la materia del exterior se acerca más y más."
   ]
  },
  {
   "cell_type": "markdown",
   "metadata": {
    "lang": "es"
   },
   "source": [
    "Las cosas se pusieron tan calientes y tan densas en el pasado que la luz se emitía por todas partes, pero quedó atrapada cuando el hidrógeno absorbió y remitió continuamente cualquier fotón producido. Una vez que el Universo se enfrió lo suficiente, ¡los fotones quedaron libres! Desde entonces, han estado viajando 13.8 mil millones de años hasta llegar a nosotros, y esta es la imagen:"
   ]
  },
  {
   "cell_type": "code",
   "execution_count": null,
   "metadata": {},
   "outputs": [],
   "source": [
    "Image(filename='images/PlanckCMB.jpg', width=1000)"
   ]
  },
  {
   "cell_type": "markdown",
   "metadata": {
    "lang": "es"
   },
   "source": [
    "Aquí, las fluctuaciones de color representan diferencias de temperatura, que son causadas por diferencias de densidad en el volumen, desde el que el fotón comenzó su viaje. Los más entusiastas de ustedes verán que se necesitó otro telescopio espacial para hacer estas mediciones, el [Planck](https://es.wikipedia.org/wiki/Planck_(satélite)). A medida que el Universo se expande, el color de la luz se vuelve más rojo al mismo ritmo. El Universo es muy antiguo, por lo que el CMB tiene una longitud de onda muy larga."
   ]
  },
  {
   "cell_type": "markdown",
   "metadata": {
    "lang": "es"
   },
   "source": [
    "¿Esta luz del CMB, se ve deflectada por la materia, mientras viaja hacia nosotros? ¡Por supuesto, ese podría ser el tema de otro cuaderno! Pero lo más interesante aquí, es el nuevo efecto de que los electrones en el cúmulo también dispersan la luz del CMB de un color (longitud de onda) a otro."
   ]
  },
  {
   "cell_type": "markdown",
   "metadata": {
    "lang": "es"
   },
   "source": [
    "# La regla de oro de los astrónomos"
   ]
  },
  {
   "cell_type": "markdown",
   "metadata": {},
   "source": [
    "$\\Large \\theta = 1.22 \\left ( \\frac{\\lambda}{D} \\right ) $"
   ]
  },
  {
   "cell_type": "markdown",
   "metadata": {
    "lang": "es"
   },
   "source": [
    "Si tienes un telescopio con un espejo de diámetro $D$ [cm], observando la luz de longitud de onda $\\lambda$ [cm], el tamaño angular de las fuentes que se pueden identificar claramente (resolver) es $\\theta$ [radianes] _en el mejor de los casos_. Veamos esto en acción."
   ]
  },
  {
   "cell_type": "code",
   "execution_count": null,
   "metadata": {},
   "outputs": [],
   "source": [
    "space                          = {'CHANDRA': {'BAND': 'XRAY', 'WAVELENGTH': 1.2, 'DIAMETER': 1.2}} # [Angstroms, Meters].\n",
    "\n",
    "space['PLANCK']                = {'BAND': 'MICROWAVE', 'FREQUENCY': 44, 'DIAMETER': 1.6}           # [GigaHertz, Meters].\n",
    "space['PLANCK']['WAVELENGTH']  = 2.9979e8 / space['PLANCK']['FREQUENCY'] / 1.e9                    # [Meters].\n",
    "space['PLANCK']['WAVELENGTH'] *= 1.e10                                                             # [Angstroms]."
   ]
  },
  {
   "cell_type": "code",
   "execution_count": null,
   "metadata": {},
   "outputs": [],
   "source": [
    "ground     = {'DESI': {'BAND': 'GRZ', 'WAVELENGTH': 4000., 'DIAMETER': 3.8}}"
   ]
  },
  {
   "cell_type": "code",
   "execution_count": null,
   "metadata": {},
   "outputs": [],
   "source": [
    "# Revisit.\n",
    "for altitude in [space, ground]:\n",
    "  for key in altitude.keys():\n",
    "    diam   = 100. * altitude[key]['DIAMETER']         # [cm]\n",
    "    wave   = 1.e-8 * altitude[key]['WAVELENGTH']      # [cm]\n",
    "         \n",
    "    theta  = 1.22 * wave / diam                       # [radians]  \n",
    "    theta *= 180. / np.pi                             # [degrees]\n",
    "    theta *= 60.                                      # [arcmin] \n",
    "    \n",
    "    altitude[key]['BEAMSIZE'] = theta\n",
    "    \n",
    "    print('{: <16}\\t{:.1f}\\t{:.1e}'.format(key, diam, theta))"
   ]
  },
  {
   "cell_type": "markdown",
   "metadata": {
    "lang": "es"
   },
   "source": [
    "Ahora, DESI nunca alcanza realmente esta resolución dada por el 'límite de difracción', ya que domina el desenfoque producido por la atmósfera. Si bien, Planck tiene una resolución relativamente pobre, incluso para la fuente más pequeña del Universo, Planck lo vería como $\\simeq(1/6)$ del tamaño de la luna llena."
   ]
  },
  {
   "cell_type": "code",
   "execution_count": null,
   "metadata": {},
   "outputs": [],
   "source": [
    "Image(filename='../images/MoonPlanck.jpg', width=1000)"
   ]
  },
  {
   "cell_type": "markdown",
   "metadata": {
    "lang": "es"
   },
   "source": [
    "¡Eso apesta cuando buscas cúmulos de galaxias en el Universo!.  Así que el equipo del [Telescopio Cosmológico de Atacama](https://en.wikipedia.org/wiki/Atacama_Cosmology_Telescope) (ACT), mira también su página en [inglés](https://act.princeton.edu/), ató sus cosas a la Llama más cercana (¡no literalmente!), y se dispuso a construir un telescopio _terrestre_. ¿Por qué? ¡Porque no se puede colocar un telescopio de 6 m en un cohete!"
   ]
  },
  {
   "cell_type": "code",
   "execution_count": null,
   "metadata": {},
   "outputs": [],
   "source": [
    "Image(filename='../images/ACT.jpg', width=1000)"
   ]
  },
  {
   "cell_type": "markdown",
   "metadata": {
    "lang": "es"
   },
   "source": [
    "¡Es justo decir que ACT se parece más a un cubo que a un telescopio convencional! Pero hace un gran trabajo en la búsqueda de cúmulos."
   ]
  },
  {
   "cell_type": "code",
   "execution_count": null,
   "metadata": {
    "scrolled": true
   },
   "outputs": [],
   "source": [
    "Image(filename='../images/act_louis+16.jpg', width=600)"
   ]
  },
  {
   "cell_type": "markdown",
   "metadata": {
    "lang": "es"
   },
   "source": [
    "Bastante psicodélico ¿no?. Los patrones similares a bacterias, en rojo y azul, son el CMB principal, como en el caso de Planck. Los puntos marcados en un círculo son grupos resueltos identificados por ACT. ¿Cómo? Porque la luz del CMB que pasó a través del cúmulo cambió su frecuencia al interactuar con los electrones allí. ¡El resultado es una sombra del gas más frío alrededor de las galaxias del cúmulo! Solo hemos sabido de este [efecto térmico Sunyaev-Zel'dovich](https://es.wikipedia.org/wiki/Efecto_Siunyáiev-Zeldóvich) durante_ 50_ años más o menos."
   ]
  },
  {
   "cell_type": "markdown",
   "metadata": {
    "lang": "es"
   },
   "source": [
    "Esta dispersión es similar a por qué el cielo a veces es más azul, cuanto más lejos del Sol y más rosado cerca de él, particularmente durante las puestas de Sol. Esto se debe a que el aire desvía o \"dispersa\" la luz azul del Sol. Como resultado, el cielo se ve azul lejos del Sol. Cerca de éste, debido a que el aire desvía la luz azul solo la luz rosada llega a tus ojos."
   ]
  },
  {
   "cell_type": "markdown",
   "metadata": {
    "lang": "es"
   },
   "source": [
    "Usemos la alta resolución de ACT para hacer un acercamiento al clúster:"
   ]
  },
  {
   "cell_type": "code",
   "execution_count": null,
   "metadata": {},
   "outputs": [],
   "source": [
    "decs = np.loadtxt('dat/comptony/decmap_ra0.96_dec2.08.txt')\n",
    "ras  = np.loadtxt('dat/comptony/ramap_ra0.96_dec2.08.txt')\n",
    "ys   = np.loadtxt('dat/comptony/stampmap_ra0.96_dec2.08.txt')"
   ]
  },
  {
   "cell_type": "code",
   "execution_count": null,
   "metadata": {},
   "outputs": [],
   "source": [
    "plt.imshow(ys, extent=(ras.min(), ras.max(), decs.min(), decs.max()),\n",
    "           interpolation='nearest', cmap=cm.gist_rainbow)"
   ]
  },
  {
   "cell_type": "markdown",
   "metadata": {
    "lang": "es"
   },
   "source": [
    "La verdadera belleza es que Planck y ACT miden el cúmulo en _diferentes_ longitudes de onda, pero no tan diferentes como lo harían Chandra o DESI. Dada nuestra comprensión de la dispersión entre electrones y grupos, podemos predecir cómo se vería esto en los diferentes 'canales' de longitud de onda."
   ]
  },
  {
   "cell_type": "markdown",
   "metadata": {
    "lang": "es"
   },
   "source": [
    "Necesitaremos algunas unidades comunes en Astronomía:"
   ]
  },
  {
   "cell_type": "code",
   "execution_count": null,
   "metadata": {},
   "outputs": [],
   "source": [
    "# Constante de Boltzmann,https://es.wikipedia.org/wiki/Constante_de_Boltzmann . \n",
    "kB = const.k_B.value\n",
    "\n",
    "# Constante de Planck, https://es.wikipedia.org/wiki/Constante_de_Planck\n",
    "hh = const.h.value"
   ]
  },
  {
   "cell_type": "markdown",
   "metadata": {
    "lang": "es"
   },
   "source": [
    "¡Esta pequeña celda nos dio algunas de las cantidades más importantes de la física! También necesitamos la temperatura media observada del CMB."
   ]
  },
  {
   "cell_type": "code",
   "execution_count": null,
   "metadata": {},
   "outputs": [],
   "source": [
    "TT = 2.755"
   ]
  },
  {
   "cell_type": "code",
   "execution_count": null,
   "metadata": {},
   "outputs": [],
   "source": [
    "def theta(y, nu):\n",
    "    # Eqn. 1 of https://arxiv.org/pdf/astro-ph/0402115.pdf. \n",
    "    x = hh * nu / kB / TT \n",
    "    \n",
    "    return - 2 * y * (2. - 0.5 * x / np.tanh(x / 2.))"
   ]
  },
  {
   "cell_type": "code",
   "execution_count": null,
   "metadata": {},
   "outputs": [],
   "source": [
    "fig, axes = plt.subplots(1, 3, figsize=(15, 5))\n",
    "\n",
    "for i, nu in enumerate([98., 148., 220.]):\n",
    "    cluster_map = theta(ys, 1.e9 * nu) \n",
    "    \n",
    "    axes[i].imshow(cluster_map, extent=(ras.min(), ras.max(), decs.min(), decs.max()),\n",
    "           interpolation='nearest', cmap=cm.gist_rainbow)\n",
    "    \n",
    "    axes[i].set_title('{:.1f} GHz'.format(nu))"
   ]
  },
  {
   "cell_type": "markdown",
   "metadata": {
    "lang": "es"
   },
   "source": [
    "El hecho de que la temperatura observada de los fotones en una dirección dada pase de negativa a positiva nos dice que se trata de un cúmulo auténtico."
   ]
  },
  {
   "cell_type": "markdown",
   "metadata": {
    "lang": "es"
   },
   "source": [
    "Es bueno que pudimos encontrar estos bariones 'cálidos' encerrados en los cúmulos, con el CMB y ACT, hasta ese momento solo sabíamos dónde estaban [¡el 50% de los átomos!](https://en.wikipedia.org/wiki/Missing_baryon_problem)."
   ]
  },
  {
   "cell_type": "markdown",
   "metadata": {
    "lang": "en"
   },
   "source": [
    "# DESCANSO"
   ]
  },
  {
   "cell_type": "markdown",
   "metadata": {
    "lang": "es"
   },
   "source": [
    "¡Eso fue mucho! Tómate un descanso y un café, recompensa por tu arduo trabajo hasta ahora. Cuando regreses, resumiremos por qué se necesitan dos telescopios terrestres y dos satélites para comprender mejor la energía oscura con cúmulos de galaxias."
   ]
  },
  {
   "cell_type": "code",
   "execution_count": null,
   "metadata": {},
   "outputs": [],
   "source": [
    "Image(filename='../images/Fireworks.jpg', width=1000)"
   ]
  },
  {
   "cell_type": "markdown",
   "metadata": {
    "lang": "es"
   },
   "source": [
    "¿Suficiente descanso? Bien, ¡volvamos al trabajo! Si no has revisado nbody.ipynb, házlo ahora y regresa aquí después. "
   ]
  },
  {
   "cell_type": "markdown",
   "metadata": {
    "lang": "es"
   },
   "source": [
    "Elegiremos un cúmulo que DESI observará pronto. DESI tenía un hermano pequeño, el sondedo [BOSS](http://www.sdss3.org/surveys/boss.php)([mira también esta nota reciente](https://www.fisica.unam.mx/es/noticias.php?id=1301)), que ya observo dicho cúmulo. Una vez que DESI realmente se ponga en marcha, observará el mismo número de galaxias que el estudio BOSS _en un mes_."
   ]
  },
  {
   "cell_type": "code",
   "execution_count": null,
   "metadata": {},
   "outputs": [],
   "source": [
    "fig, ax = plt.subplots(1,1, figsize=(10,5))\n",
    "\n",
    "cutout(ax, 0.96, 2.08)"
   ]
  },
  {
   "cell_type": "markdown",
   "metadata": {
    "lang": "es"
   },
   "source": [
    "Al obtener corrimientos al rojo para las galaxias en el cúmulo, podemos determinar qué galaxias son solo proyecciones al azar en el cielo."
   ]
  },
  {
   "cell_type": "code",
   "execution_count": null,
   "metadata": {},
   "outputs": [],
   "source": [
    "clusters = Table.read('dat/tsz_boss_cluster_zs.fits')\n",
    "clusters.sort('RA')\n",
    "clusters"
   ]
  },
  {
   "cell_type": "markdown",
   "metadata": {
    "lang": "es"
   },
   "source": [
    "Si conocemos el tamaño de un cúmulo típico, entonces las galaxias que no estén lo suficientemente cerca del desplazamiento al rojo medio no deberían contarse como miembros del cúmulo."
   ]
  },
  {
   "cell_type": "code",
   "execution_count": null,
   "metadata": {},
   "outputs": [],
   "source": [
    "# desplazamiento al rojo del cúmulo. \n",
    "meanz = np.mean(clusters['Z'])\n",
    "\n",
    "# Diferencia típica respecto a meanz, para una galaxia en el cúmulo.\n",
    "stdz  =  np.std(clusters['Z'])"
   ]
  },
  {
   "cell_type": "code",
   "execution_count": null,
   "metadata": {},
   "outputs": [],
   "source": [
    "in_cluster = ((clusters['Z'] - meanz) / stdz) < 1.0"
   ]
  },
  {
   "cell_type": "code",
   "execution_count": null,
   "metadata": {},
   "outputs": [],
   "source": [
    "pl.plot(clusters['RA'][in_cluster],  clusters['Dec'][in_cluster],  marker='.', lw=0.0, c='b', alpha=0.6, label='In Cluster')\n",
    "pl.plot(clusters['RA'][~in_cluster], clusters['Dec'][~in_cluster], marker='.', lw=0.0, c='r', alpha=0.6, label='Spy!')\n",
    "\n",
    "pl.xlabel('RA')\n",
    "pl.ylabel('DEC')\n",
    "\n",
    "pl.legend(loc=2)"
   ]
  },
  {
   "cell_type": "markdown",
   "metadata": {},
   "source": [
    "Si sabemos cuántas galaxias hay en el cúmulo, podemos hacer una \n",
    "estimación burda de cuánta materia oscura hay, asociada a dicho cúmulo. \n",
    "Es un método complicado, ¡y no para cualquiera! Un método mucho mejor, más noble,\n",
    "es usar mediciones de los anillos de Einstein para determinar la masa, vía el efecto de lente gravitatoria."
   ]
  },
  {
   "cell_type": "markdown",
   "metadata": {},
   "source": [
    "¿Por qué nos interesa? Porque las simulaciones de n-cuerpos, nos dicen\n",
    "indican que el número de cúmulos en un cierto rango de masas, realmente es sensible \n",
    "al tipo de Energía Oscura que hay en el Universo. Esto es genial, ya que si hacemos bien \n",
    "las cuentas estaremos aprendiendo mucho sobre la Energía Oscura. Pero si cometemos pequeños \n",
    "errores, entonces las implicaciones de nuestras conclusiones sobre la energía oscura estarán realmente mal... no solo un poco mal. "
   ]
  },
  {
   "cell_type": "code",
   "execution_count": null,
   "metadata": {},
   "outputs": [],
   "source": [
    "Image(filename='../images/Mistake.jpg', width=600)"
   ]
  },
  {
   "cell_type": "markdown",
   "metadata": {},
   "source": [
    "¿Y qué pasa con los datos del CMB? Bueno, si tenemos muestras realmente buenas de masas derivadas del efecto de lente gravitatoria, entonces podemos calibrar la relación entre la masa y la diferencia de frecuencia observada en el CMB. Esto nos dará un estimado de las masas para una muestra mucho más grande en el Universo, bajo unas cuantas condiciones. "
   ]
  },
  {
   "cell_type": "code",
   "execution_count": null,
   "metadata": {},
   "outputs": [],
   "source": []
  }
 ],
 "metadata": {
  "kernelspec": {
   "display_name": "Python 3",
   "language": "python",
   "name": "python3"
  },
  "language_info": {
   "codemirror_mode": {
    "name": "ipython",
    "version": 3
   },
   "file_extension": ".py",
   "mimetype": "text/x-python",
   "name": "python",
   "nbconvert_exporter": "python",
   "pygments_lexer": "ipython3",
   "version": "3.7.9"
  },
  "latex_envs": {
   "LaTeX_envs_menu_present": true,
   "autoclose": false,
   "autocomplete": false,
   "bibliofile": "biblio.bib",
   "cite_by": "apalike",
   "current_citInitial": 1,
   "eqLabelWithNumbers": true,
   "eqNumInitial": 1,
   "hotkeys": {
    "equation": "Ctrl-E",
    "itemize": "Ctrl-I"
   },
   "labels_anchors": false,
   "latex_user_defs": false,
   "report_style_numbering": false,
   "user_envs_cfg": false
  },
  "nbTranslate": {
   "displayLangs": [
    "es"
   ],
   "hotkey": "alt-t",
   "langInMainMenu": true,
   "sourceLang": "en",
   "targetLang": "es",
   "useGoogleTranslate": true
  }
 },
 "nbformat": 4,
 "nbformat_minor": 4
}
