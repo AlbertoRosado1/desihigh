{
 "cells": [
  {
   "cell_type": "code",
   "execution_count": null,
   "metadata": {},
   "outputs": [],
   "source": [
    "import time\n",
    "import astropy\n",
    "import itertools\n",
    "\n",
    "import numpy             as np\n",
    "import pylab             as pl\n",
    "import matplotlib.pyplot as plt\n",
    "import astropy.units     as u\n",
    "\n",
    "from   astropy.cosmology import FlatLambdaCDM\n",
    "from   IPython.display   import YouTubeVideo\n",
    "from   tools.flops       import flops"
   ]
  },
  {
   "cell_type": "code",
   "execution_count": null,
   "metadata": {},
   "outputs": [],
   "source": [
    "%matplotlib notebook\n",
    "\n",
    "plt.style.use('dark_background')"
   ]
  },
  {
   "cell_type": "markdown",
   "metadata": {
    "lang": "es"
   },
   "source": [
    "# DESI y la supercomputadora más rápida de Occidente"
   ]
  },
  {
   "cell_type": "markdown",
   "metadata": {
    "lang": "es"
   },
   "source": [
    "Entender _cómo_ los 30 millones de galaxias estudiadas por DESI se formaron en el Universo es difícil, realmente difícil. De hecho, es tan difícil que DESI explota [Summit](https://www.olcf.ornl.gov/summit/), la supercomputadora más rápida del mundo en el Laboratorio Nacional de Oak Ridge para calcular cómo debería verse la distribución de las galaxias según el tipo de Energía Oscura:"
   ]
  },
  {
   "cell_type": "markdown",
   "metadata": {},
   "source": [
    "<img src=\"images/summit.jpg\" alt=\"Drawing\" style=\"width: 800px;\"/>"
   ]
  },
  {
   "cell_type": "markdown",
   "metadata": {
    "lang": "es"
   },
   "source": [
    "Con un costo de construcción de 325 millones de dólares, Summit es capaz de calcular $1.486 \\times 10^{17}$ operaciones de suma y multiplicación por segundo, equivalente a $1.486 \\times 10^{11}$ MegaFlops o MFLOPS. A modo de comparación, veamos qué proporciona Binder (necesitarás un poco de paciencia, tal vez quieras dejar esto para más adelante):"
   ]
  },
  {
   "cell_type": "code",
   "execution_count": null,
   "metadata": {},
   "outputs": [],
   "source": [
    "_ = flops()"
   ]
  },
  {
   "cell_type": "markdown",
   "metadata": {
    "lang": "es"
   },
   "source": [
    "¡Así que Summit es al menos mil millones de veces más poderoso! Con Summit, podemos resolver los detalles más finos de la distribución de _materia oscura_ que trazan todas las galaxias:"
   ]
  },
  {
   "cell_type": "markdown",
   "metadata": {},
   "source": [
    "<img src=\"images/abacus.png\" alt=\"Drawing\" style=\"width: 600px;\"/>"
   ]
  },
  {
   "cell_type": "markdown",
   "metadata": {
    "lang": "es"
   },
   "source": [
    "Aquí, las regiones más brillantes significan las regiones más densas de materia oscura en el Universo, en las que esperamos encontrar más galaxias. El siguiente video muestra que hemos observado esta estructura predicha en la distribución de galaxias reales, observadas con experimentos antes de DESI:"
   ]
  },
  {
   "cell_type": "code",
   "execution_count": null,
   "metadata": {},
   "outputs": [],
   "source": [
    "YouTubeVideo('08LBltePDZw', width=800, height=400)"
   ]
  },
  {
   "cell_type": "markdown",
   "metadata": {
    "lang": "es"
   },
   "source": [
    "[La Materia Oscura](https://es.wikipedia.org/wiki/Materia_oscura) es un elemento omnipresente en nuestro Universo, que constituye el 25% de la densidad (de energía) total. Con la Energía Oscura y los átomos comunes (materia bariónica) formando el resto. No sabemos casi nada sobre la materia oscura, más allá de su atracción gravitacional a otra materia y luz en el Universo."
   ]
  },
  {
   "cell_type": "markdown",
   "metadata": {
    "lang": "es"
   },
   "source": [
    "Afortunadamente, las ecuaciones que describen la evolución de la materia oscura, a diferencia de la [formación compleja de galaxias](https://es.wikipedia.org/wiki/Formación_y_evolución_de_las_galaxias) (ver [también](https://www.space.com/15680-galaxies.html)), son relativamente simples para el Universo en el que vivimos. Todo lo que se requiere es rastrear la atracción gravitacional de las partículas de materia oscura (en un Universo en expansión)."
   ]
  },
  {
   "cell_type": "markdown",
   "metadata": {
    "lang": "es"
   },
   "source": [
    "Podemos predecir la evolución de la materia oscura muestreando la fuerza gravitacional, la velocidad y la posición con un conjunto de partículas (ficticias) que representan cada una un \"grupo\" de materia oscura con una masa total. Por supuesto, esto significa que no podemos resolver la distribución de la materia oscura dentro de estas regiones del tamaño de grupos, pero solo la distribución entre aglomerados conduce a la estructura que puede verse arriba. Con Summit, el grupo más pequeño que podemos resolver no está lejos de la masa del 'halo' de materia oscura que rodea el centro de nuestra propia [Vía Láctea](https://manuastronomo.wordpress.com/2019/03/11/hubble-y-gaia-pesan-con-precision-la-via-lactea/):"
   ]
  },
  {
   "cell_type": "markdown",
   "metadata": {},
   "source": [
    "<img src=\"images/MilkyWay.jpg\" alt=\"Drawing\" style=\"width: 1000px;\"/>"
   ]
  },
  {
   "cell_type": "markdown",
   "metadata": {
    "lang": "es"
   },
   "source": [
    "Para empezar, colocaremos inicialmente un conjunto de grupos en posiciones aleatorias dentro de un cubo 3D y les daremos velocidades iniciales cero. Las velocidades se generarán en momentos posteriores, ya que la atracción gravitacional ($1/r^2$) de una partícula hacia todas las demás provoca una aceleración neta."
   ]
  },
  {
   "cell_type": "code",
   "execution_count": null,
   "metadata": {},
   "outputs": [],
   "source": [
    "def init_dof(npt=1):\n",
    "  #Crea un conjunto de partículas con posiciones aleatorias en una caja, \n",
    "  #las cuales predicen la distribución de materia oscura, como vemos arriba.\n",
    "  xs     = np.random.uniform(0., 1., npt)\n",
    "  ys     = np.random.uniform(0., 1., npt)\n",
    "  zs     = np.random.uniform(0., 1., npt)\n",
    "\n",
    "  pos    = np.vstack((xs, ys, zs)).T\n",
    "  vel    = np.zeros_like(pos)              \n",
    "\n",
    "  return  pos, vel"
   ]
  },
  {
   "cell_type": "markdown",
   "metadata": {
    "lang": "es"
   },
   "source": [
    "La fuerza gravitacional experimentada por cada partícula de materia oscura es $F = \\frac{GmM}{r^2} \\hat r$, la ley de gravitación Universal de [Newton](https://en.wikipedia.org/wiki/Isaac_Newton),  con la que puede que estés familiarizado. Solo necesitamos hacer un trabajo minucioso en la contabilidad requerida para calcular la fuerza total experimentada por una partícula debido a todas las demás:"
   ]
  },
  {
   "cell_type": "code",
   "execution_count": null,
   "metadata": {},
   "outputs": [],
   "source": [
    "def g_at_particle(index, pos, mass, epsilon=1.0, doimages=True):\n",
    "    # Ecuación 10 de http://www.skiesanduniverses.org/resources/KlypinNbody.pdf \n",
    "    # Para español puedes ver también https://rmf.smf.mx/pdf/rmf/38/5/38_5_701.pdf\n",
    "\n",
    "    indices = np.arange(len(pos))\n",
    "    rest    = pos[indices != index,:]\n",
    "\n",
    "    #Aquí epsilón es un factor de control para prevenir que las partículas se acerquen, y la fuerza gravitacional sea infinita. \n",
    "    result  = mass * np.sum((rest - pos[index]) / ((rest - pos[index])**2. + epsilon**2.)**(3./2.), axis=0)\n",
    "\n",
    "    if doimages:\n",
    "        # Nuestra simulación asume condiciones de frontera periódicas, para la aceleración de cada partícula \n",
    "        # está la correspondiente aceleración de una imagen de la partícula producida al aplicar cambios periódicos en su posición. \n",
    "        shift  = np.array([-1, 0, 1]) \n",
    "        images = []\n",
    "\n",
    "        for triple in itertools.product(shift, repeat=3):\n",
    "            images.append(triple)\n",
    "    \n",
    "        images.remove((0, 0, 0))\n",
    "    \n",
    "        images = np.array(images)\n",
    "    \n",
    "        for image in images:\n",
    "            result += mass * np.sum((rest + image - pos[index]) / ((rest + image - pos[index])**2. + epsilon**2.)**(3./2.), axis=0)\n",
    "\n",
    "    return  result"
   ]
  },
  {
   "cell_type": "markdown",
   "metadata": {
    "lang": "es"
   },
   "source": [
    "En un experimento notable en 1941, Erik Holmberg utilizó el hecho de que el brillo de la luz decae con la distancia al mismo ritmo ($1/r^2$) que la gravedad. Para calcular la fuerza total sobre una 'partícula' en su 'simulación', Erik colocó una bombilla en la posición de cada partícula y calculó la fuerza efectiva sobre una partícula dada midiendo el brillo total en cada punto. La siguiente figura ilustra esta idea. ¡Intenta ejecutar la siguiente celda varias veces! Obtendrás un diseño aleatorio diferente de bombillas cada vez."
   ]
  },
  {
   "cell_type": "code",
   "execution_count": null,
   "metadata": {},
   "outputs": [],
   "source": [
    "fig, ax   = plt.subplots(1, 1, figsize=(5,5))\n",
    "\n",
    "xmin, xmax, ymin, ymax = (0., 1., 0., 1.)\n",
    "\n",
    "N         = 100\n",
    "xx, yy    = np.meshgrid(np.linspace(xmin, xmax, N), np.linspace(ymin, ymax, N))\n",
    "epsilon   = 0.1\n",
    "\n",
    "weights   = np.zeros_like(xx) \n",
    "\n",
    "pos, vel  = init_dof(npt=10)\n",
    "\n",
    "for par in pos:\n",
    "  weights += 1. / ((xx - par[0])**2 + (yy - par[1])**2 + epsilon**2.)\n",
    "\n",
    "ax.imshow(weights, extent=(xmin, xmax, ymin, ymax), cmap=plt.cm.afmhot, alpha=0.5, origin='lower')\n",
    "\n",
    "ax.plot(xx[:,0], xx[:,1], '.', c='darkorange', alpha=0.75)\n",
    "ax.tick_params(labelbottom=False, labelleft=False)  \n",
    "\n",
    "ax.set_xlim(0., 1.)\n",
    "ax.set_ylim(0., 1.)\n",
    "\n",
    "plt.axis('off')"
   ]
  },
  {
   "cell_type": "markdown",
   "metadata": {
    "lang": "es"
   },
   "source": [
    "Este trabajo fue el concepto original de las simulaciones gravitacionales de 'n-cuerpos' que se describen aquí. ¡Es casi un crimen que solo 118 autores hayan hecho referencia a esta innovadora idea!"
   ]
  },
  {
   "cell_type": "markdown",
   "metadata": {},
   "source": [
    "<img src=\"images/Holmberg.png\" alt=\"Drawing\" style=\"width: 800px;\"/>"
   ]
  },
  {
   "cell_type": "markdown",
   "metadata": {
    "lang": "es"
   },
   "source": [
    "Hoy, dadas las mini supercomputadoras que tenemos a menudo al alcance de la mano, podemos determinar la distribución final de la materia oscura con mayor precisión con computadoras que con bombillas. Evolucionando una distribución homogénea inicial (una distribución casi uniforme de aglomeraciones de materia oscura, como el universo produjo en el Big Bang) bajo la gravedad, podemos predecir con precisión la ubicación de las galaxias (los lugares donde se forman los grupos de materia oscura más grandes).\n",
    " \n",
    "Para hacer esto, solo necesitamos calcular la aceleración de cada partícula en una serie de pasos de tiempo y actualizar la velocidad y la posición de acuerdo con la aceleración que experimenta la partícula. Habrás experimentado esto como la sensación que sientes cuando un automóvil dobla una esquina o acelera."
   ]
  },
  {
   "cell_type": "code",
   "execution_count": null,
   "metadata": {},
   "outputs": [],
   "source": [
    "# Haremos un muestreo de las ecuaciones de movimiento en pasos de tiempo discretos.\n",
    " \n",
    "dt         = 1.e-2\n",
    "nsteps     = 500\n",
    "\n",
    "timesteps  = np.linspace(0.0, nsteps * dt, nsteps)\n",
    "dt         = np.diff(timesteps)[0]\n",
    "\n",
    "mass       = 0.25"
   ]
  },
  {
   "cell_type": "markdown",
   "metadata": {
    "lang": "es"
   },
   "source": [
    "Ahora simplemente tenemos que ejecutar la simulación,"
   ]
  },
  {
   "cell_type": "code",
   "execution_count": null,
   "metadata": {
    "scrolled": true
   },
   "outputs": [],
   "source": [
    "fig, ax = plt.subplots(1,1, figsize=(8,8))\n",
    "\n",
    "ax.tick_params(labelbottom=False, labelleft=False)  \n",
    "\n",
    "plt.axis('off')\n",
    "\n",
    "# Reinitialise particles.\n",
    "pos, vel = init_dof(npt=50)\n",
    "\n",
    "for index_in_timestep , time in enumerate(timesteps):    \n",
    "    pl.cla()\n",
    "    \n",
    "    ax.text(0.01, 1.05, '$t={:d}$'.format(index_in_timestep), transform=ax.transAxes)\n",
    "\n",
    "    dvel                        = np.zeros_like(vel)\n",
    "    dpos                        = np.zeros_like(pos)\n",
    "    \n",
    "    for index_in_particle, _ in enumerate(pos):\n",
    "        g_X                     = g_at_particle(index_in_particle, pos, mass, doimages=True)\n",
    "        \n",
    "        # Update velocities. \n",
    "        dvel[index_in_particle] = dt * g_X \n",
    "        \n",
    "        # Update positions.\n",
    "        dpos[index_in_particle] = dt * vel[index_in_particle]           \n",
    "        \n",
    "    vel += dvel\n",
    "    pos += dpos\n",
    "    \n",
    "    # Our simulation has periodic boundaries, if you go off one side you come back on the other!\n",
    "    pos = pos % 1.\n",
    "    \n",
    "    ax.plot(pos[:,0], pos[:,1], '.', c='darkorange', alpha=0.75)\n",
    "    \n",
    "    ax.set_xlim(0., 1.)\n",
    "    ax.set_ylim(0., 1.)\n",
    "    \n",
    "    fig.canvas.draw()"
   ]
  },
  {
   "cell_type": "markdown",
   "metadata": {
    "lang": "es"
   },
   "source": [
    "¡Intenta jugar con la configuración! Sin embargo, más de 100 partículas no funcionarán muy bien. Con la configuración predeterminada, encontrarás que las partículas tienden a caer en uno o dos cúmulos en poco tiempo. Esto se debe al arrastre que aplicamos. El arrastre simula el efecto que tiene el universo en expansión sobre las partículas reales de materia oscura, que es alentarlas y hacer que se agrupen. Estos grupos se conocen como halos y forman criaderos galácticos donde el gas puede acumularse para formar nuevas estrellas y galaxias.\n",
    "\n",
    "Ahora, cuando DESI ejecuta grandes simulaciones, como las que se ejecutan en Summit, se resuelve un total de ~ 48 _billones de_ partículas. ¡No intentes esto aquí! Pero los resultados son realmente extraordinarios (¡salte al minuto 6 y 45 segundos si estás impaciente por ver el resultado!):"
   ]
  },
  {
   "cell_type": "code",
   "execution_count": null,
   "metadata": {},
   "outputs": [],
   "source": [
    "YouTubeVideo('LQMLFryA_7k', width=800, height=400)"
   ]
  },
  {
   "cell_type": "markdown",
   "metadata": {
    "lang": "es"
   },
   "source": [
    "Con este gran éxito, viene una responsabilidad adicional. Esta informática de alto rendimiento, si bien es fantástica para DESI y la ciencia, ahora tiene una [huella de carbono](https://es.wikipedia.org/wiki/Huella_de_carbono) comparable a la [industria mundial de las aerolíneas](https://www.hpcwire.com/solution_content/ibm/cross-industry/five-tips-to-reduce-your-hpc-carbon-footprint/) ([aquí](https://porelclima.es/equipo/2873-centros-de-datos-sostenibles-reduciendo-la-huella-de-internet) un artículo similar en español) y consume la misma cantidad de electricidad que el país de Irán (¡82 millones de personas!).\n",
    "\n",
    "Más preocupante aún, esto pronto crecerá del 2% del consumo de energía del mundo a ~ 30%. ¡Una tarifa extraordinaria!"
   ]
  },
  {
   "cell_type": "markdown",
   "metadata": {
    "lang": "es"
   },
   "source": [
    "Afortunadamente, Summit también se encuentra entre las supercomputadoras más ecológicas. Sus 14,7 GFlops/watt la pone número 1 en la [lista global Green 500 2019](https://www.top500.org/lists/green500/2019/06/). ¡Mejor suerte el año que viene, E.U.!"
   ]
  },
  {
   "cell_type": "markdown",
   "metadata": {},
   "source": [
    "<img src=\"images/Amazon.jpg\" alt=\"Drawing\" style=\"width: 800px;\"/>"
   ]
  }
 ],
 "metadata": {
  "kernelspec": {
   "display_name": "Python 3",
   "language": "python",
   "name": "python3"
  },
  "language_info": {
   "codemirror_mode": {
    "name": "ipython",
    "version": 3
   },
   "file_extension": ".py",
   "mimetype": "text/x-python",
   "name": "python",
   "nbconvert_exporter": "python",
   "pygments_lexer": "ipython3",
   "version": "3.7.7"
  },
  "latex_envs": {
   "LaTeX_envs_menu_present": true,
   "autoclose": false,
   "autocomplete": true,
   "bibliofile": "biblio.bib",
   "cite_by": "apalike",
   "current_citInitial": 1,
   "eqLabelWithNumbers": true,
   "eqNumInitial": 1,
   "hotkeys": {
    "equation": "Ctrl-E",
    "itemize": "Ctrl-I"
   },
   "labels_anchors": false,
   "latex_user_defs": false,
   "report_style_numbering": false,
   "user_envs_cfg": false
  },
  "nbTranslate": {
   "displayLangs": [
    "es"
   ],
   "hotkey": "alt-t",
   "langInMainMenu": true,
   "sourceLang": "en",
   "targetLang": "es",
   "useGoogleTranslate": true
  }
 },
 "nbformat": 4,
 "nbformat_minor": 4
}
