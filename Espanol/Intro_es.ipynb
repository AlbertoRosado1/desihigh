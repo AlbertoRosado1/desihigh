{
  "cells": [
    {
      "cell_type": "code",
      "source": [
        "from IPython.display import IFrame\n"
      ],
      "metadata": {
        "id": "Xos3ro_gZYap"
      },
      "execution_count": 35,
      "outputs": []
    },
    {
      "cell_type": "code",
      "source": [
        "%matplotlib inline"
      ],
      "metadata": {
        "id": "KJP7_WaHZbyB"
      },
      "execution_count": 36,
      "outputs": []
    },
    {
      "cell_type": "markdown",
      "metadata": {
        "lang": "es",
        "id": "byGjUzlTXe6W"
      },
      "source": [
        "# *Hubble y los orígenes de DESI*"
      ]
    },
    {
      "cell_type": "markdown",
      "metadata": {
        "lang": "es",
        "id": "Hci7ua6CXe6Y"
      },
      "source": [
        "¡El año 1929 nos trajo los Oscar, la primera radio de coche y la inesperada observación de Edwin Hubble de que todas las galaxias se están alejando de nosotros!"
      ]
    },
    {
      "cell_type": "code",
      "source": [],
      "metadata": {
        "id": "aBE7fZTzYRJq"
      },
      "execution_count": 3,
      "outputs": []
    },
    {
      "cell_type": "markdown",
      "metadata": {
        "id": "fMuaQFRTXe6Z"
      },
      "source": [
        "![title](https://github.com/michaelJwilson/desihigh/blob/main/desihigh/images/edwin-hubble.jpg?raw=1)"
      ]
    },
    {
      "cell_type": "markdown",
      "metadata": {
        "lang": "es",
        "id": "rjUu9zkOXe6Z"
      },
      "source": [
        "Echemos un vistazo rápido a algunas de las galaxias que estaba viendo, Triángulo y la Gran Nube de Magallanes."
      ]
    },
    {
      "cell_type": "markdown",
      "metadata": {
        "id": "a4Ka1PYJXe6a"
      },
      "source": [
        "![title](https://github.com/michaelJwilson/desihigh/blob/main/desihigh/images/Triangulum.jpg?raw=1)\n",
        "![title](https://github.com/michaelJwilson/desihigh/blob/main/desihigh/images/LMC.jpg?raw=1)"
      ]
    },
    {
      "cell_type": "markdown",
      "metadata": {
        "lang": "es",
        "id": "aghiH3VdXe6b"
      },
      "source": [
        "En total, Edwin estudió la distancia de nosotros a 24 galaxias, y sus 'desplazamientos al rojo' observados. ¿Qué significa eso?"
      ]
    },
    {
      "cell_type": "markdown",
      "metadata": {
        "lang": "es",
        "id": "7gIpwX2HXe6b"
      },
      "source": [
        "Tal vez ya sepas que los niveles de energía del hidrógeno están __cuantizados__, con electrones que habitan una serie de capas con energías __discretas__. Cuando un electrón transita de un nivel de mayor energía a otro de menor, se emite luz con una longitud de onda  dada específicamente por la fórmula de \"Rydberg\":\n",
        "\n",
        "$$ \\frac{1}{\\lambda_{\\rm vac}} = 1.096 \\times 10^{7} \\left ( \\frac{1}{n^2} - \\frac{1}{m^2} \\right ) $$\n",
        "\n",
        "donde $n$ y $m$ (cualquiera de $[0, 1, 2, ... \\infty]$) etiquetan los dos niveles de energía."
      ]
    },
    {
      "cell_type": "code",
      "execution_count": 12,
      "metadata": {
        "id": "wRrRXxNuXe6c"
      },
      "outputs": [],
      "source": [
        "# Primero, importemos algunos paquetes útiles :\n",
        "import astropy\n",
        "import pylab           as     pl\n",
        "import pandas          as     pd\n",
        "import numpy           as     np\n",
        "\n",
        "from   matplotlib      import pyplot as plt\n",
        "from   scipy           import stats\n",
        "from   IPython.display import Image\n",
        "from   pkg_resources   import resource_filename"
      ]
    },
    {
      "cell_type": "code",
      "source": [
        "# Para nuestros amigos utilizando Google Colab - recuerda \n",
        "# montar tu drive para poder ejecutar los cuadernos de trabajo, excepto para Colab.ipynb\n",
        "# \n",
        "# Ignora estas celdas si no estás en Colab!\n",
        "sys.path.append('/content/drive/MyDrive/desihigh/')"
      ],
      "metadata": {
        "id": "DRz4ht__ZiPb"
      },
      "execution_count": null,
      "outputs": []
    },
    {
      "cell_type": "code",
      "source": [
        "from   tools           import pubplot\n",
        "\n",
        "from   tools.wave2rgb  import wavelength_to_rgb"
      ],
      "metadata": {
        "id": "oXtbZNBGZ2tY"
      },
      "execution_count": null,
      "outputs": []
    },
    {
      "cell_type": "code",
      "execution_count": 5,
      "metadata": {
        "id": "9vXkPUZYXe6f"
      },
      "outputs": [],
      "source": [
        "def Rydberg(n, m):\n",
        "    # Longitud de onda [nanometros]\n",
        "    result = 1.096e-2 * (1. / n / n - 1. / m / m)\n",
        "    return 1. / result"
      ]
    },
    {
      "cell_type": "markdown",
      "metadata": {
        "lang": "es",
        "id": "BVGSe-owXe6g"
      },
      "source": [
        "Veamos qué longitudes de onda de la luz que puede emitir el hidrógeno:"
      ]
    },
    {
      "cell_type": "code",
      "execution_count": 6,
      "metadata": {
        "id": "hmq79zXCXe6g",
        "outputId": "f2c1c90a-cc63-4da9-a4dd-604a5adaa4e1",
        "colab": {
          "base_uri": "https://localhost:8080/"
        }
      },
      "outputs": [
        {
          "output_type": "stream",
          "name": "stdout",
          "text": [
            "n \t m \t Longitud de onda [nm]\n",
            "1 \t 2 \t 121.655\n",
            "1 \t 3 \t 102.646\n",
            "1 \t 4 \t 97.324\n",
            "1 \t 5 \t 95.043\n",
            "1 \t 6 \t 93.848\n",
            "1 \t 7 \t 93.142\n",
            "1 \t 8 \t 92.689\n",
            "1 \t 9 \t 92.381\n",
            "2 \t 3 \t 656.934\n",
            "2 \t 4 \t 486.618\n",
            "2 \t 5 \t 434.480\n",
            "2 \t 6 \t 410.584\n",
            "2 \t 7 \t 397.405\n",
            "2 \t 8 \t 389.294\n",
            "2 \t 9 \t 383.923\n",
            "3 \t 4 \t 1876.955\n",
            "3 \t 5 \t 1283.075\n",
            "3 \t 6 \t 1094.891\n",
            "3 \t 7 \t 1005.931\n",
            "3 \t 8 \t 955.541\n",
            "3 \t 9 \t 923.814\n",
            "4 \t 5 \t 4055.150\n",
            "4 \t 6 \t 2627.737\n",
            "4 \t 7 \t 2167.662\n",
            "4 \t 8 \t 1946.472\n",
            "4 \t 9 \t 1819.203\n",
            "5 \t 6 \t 7465.163\n",
            "5 \t 7 \t 4657.086\n",
            "5 \t 8 \t 3743.215\n",
            "5 \t 9 \t 3299.335\n",
            "6 \t 7 \t 12380.685\n",
            "6 \t 8 \t 7507.821\n",
            "6 \t 9 \t 5912.409\n",
            "7 \t 8 \t 19075.426\n",
            "7 \t 9 \t 11316.720\n",
            "8 \t 9 \t 27823.100\n"
          ]
        }
      ],
      "source": [
        "waves = []\n",
        "\n",
        "print('n \\t m \\t Longitud de onda [nm]')\n",
        "\n",
        "for n in np.arange(1, 10, 1):\n",
        "    for m in np.arange(n+1, 10, 1):\n",
        "        wave = Rydberg(n, m)        \n",
        "        waves.append(wave)\n",
        "        \n",
        "        print('{:d} \\t {:d} \\t {:.3f}'.format(n, m, wave))"
      ]
    },
    {
      "cell_type": "markdown",
      "metadata": {
        "lang": "es",
        "id": "uThEX3clXe6h"
      },
      "source": [
        "Ahora grafiquemos las longitudes de onda y veamos el color de estas líneas. Si tuviéramos que mirar un átomo de hidrógeno emisor, veríamos esto:"
      ]
    },
    {
      "cell_type": "code",
      "execution_count": 7,
      "metadata": {
        "id": "xkVhcr6-Xe6h",
        "outputId": "50407a68-5416-476c-abfb-e3a70dcbb771",
        "colab": {
          "base_uri": "https://localhost:8080/",
          "height": 301
        }
      },
      "outputs": [
        {
          "output_type": "execute_result",
          "data": {
            "text/plain": [
              "(380.0, 780.0)"
            ]
          },
          "metadata": {},
          "execution_count": 7
        },
        {
          "output_type": "display_data",
          "data": {
            "text/plain": [
              "<Figure size 432x288 with 1 Axes>"
            ],
            "image/png": "[encoded data removed]"
          },
          "metadata": {
            "needs_background": "light"
          }
        }
      ],
      "source": [
        "for wave in waves:\n",
        "  # color = [r, g, b]\n",
        "  color = wavelength_to_rgb(wave)       \n",
        "  pl.axvline(x=wave, c=color)\n",
        "\n",
        "pl.xlabel('Longitud de onda en el vacío [nanómetros]')\n",
        "pl.xlim(380., 780.)"
      ]
    },
    {
      "cell_type": "markdown",
      "metadata": {
        "lang": "es",
        "id": "pfhTVePVXe6i"
      },
      "source": [
        "Si existe hidrógeno en una galaxia que se está moviendo, vemos que las líneas se desplazan por efecto Doppler. A esto lo llamamos \"desplazamiento al rojo\" o \"corrimiento al rojo\", comúnmente denotado como $z$, puedes leer más sobre esto [aquí](https://es.wikipedia.org/wiki/Corrimiento_al_rojo). Supongamos que una galaxia se está moviendo a 1% de la velocidad de la luz ($v=0.1*c$), podemos calcular el corrimiento al rojo con la siguiente ecuación.\n",
        "$$\n",
        "1 + z = \\sqrt{\\frac{1 + v/c}{1 - v/c}}\n",
        "$$"
      ]
    },
    {
      "cell_type": "code",
      "execution_count": 8,
      "metadata": {
        "id": "BXN42z9wXe6i"
      },
      "outputs": [],
      "source": [
        "def redshift(v):\n",
        "    # v [velocidad de la Luz] (velocidad considerando c=1).\n",
        "    result = (1. + v) / (1. - v) \n",
        "    result = np.sqrt(result) - 1.\n",
        "    \n",
        "    return  result"
      ]
    },
    {
      "cell_type": "code",
      "execution_count": 9,
      "metadata": {
        "id": "0qlrfG5RXe6i",
        "outputId": "6d6928e9-e16f-4e75-e64e-c5a6dc1972f6",
        "colab": {
          "base_uri": "https://localhost:8080/",
          "height": 301
        }
      },
      "outputs": [
        {
          "output_type": "execute_result",
          "data": {
            "text/plain": [
              "(380.0, 780.0)"
            ]
          },
          "metadata": {},
          "execution_count": 9
        },
        {
          "output_type": "display_data",
          "data": {
            "text/plain": [
              "<Figure size 432x288 with 1 Axes>"
            ],
            "image/png": "[encoded data removed]"
          },
          "metadata": {
            "needs_background": "light"
          }
        }
      ],
      "source": [
        "zz = redshift(0.01) \n",
        "\n",
        "for restwave in waves:\n",
        "  obswave = (1. + zz) * restwave     \n",
        "\n",
        "  color   = wavelength_to_rgb(restwave)       \n",
        "  pl.axvline(x=restwave, c=color, alpha=0.25)\n",
        "\n",
        "  color   = wavelength_to_rgb(obswave)       \n",
        "  pl.axvline(x=obswave, c=color)\n",
        "\n",
        "pl.xlabel('Longitud de onda en el vacío [nanómetros]')\n",
        "pl.xlim(380., 780.)"
      ]
    },
    {
      "cell_type": "markdown",
      "metadata": {
        "lang": "es",
        "id": "n4OjM-AtXe6j"
      },
      "source": [
        "Aquí puedes ver la línea original (tenue) y la línea desplazada debido a que la galaxia con el hidrógeno emisor se está moviendo. [Aquí](https://es.wikipedia.org/wiki/Efecto_Doppler) encontrarás todos los detalles."
      ]
    },
    {
      "cell_type": "markdown",
      "metadata": {
        "lang": "es",
        "id": "E6riPhKiXe6k"
      },
      "source": [
        "Hubble conocía las líneas del hidrógeno y muchos otros elementos. Al invertir lo anterior, pudo calcular la velocidad de muchas galaxias. Descubrió qué tan lejos estaban (usando la información de qué tan brillantes eran algunas [estrellas especiales en la galaxia](https://es.wikipedia.org/wiki/Estrella_variable_Cefeida)) y qué tan rápido se estaban moviendo (a partir de su desplazamiento al rojo):"
      ]
    },
    {
      "cell_type": "code",
      "source": [
        "hub = resource_filename('desihigh','dat/hubble.dat')"
      ],
      "metadata": {
        "id": "f_j5jCAtY3hS"
      },
      "execution_count": 13,
      "outputs": []
    },
    {
      "cell_type": "code",
      "execution_count": 14,
      "metadata": {
        "id": "OD2kIw50Xe6k",
        "outputId": "45255005-0572-4906-ca8d-f0280e2b338d",
        "colab": {
          "base_uri": "https://localhost:8080/",
          "height": 793
        }
      },
      "outputs": [
        {
          "output_type": "execute_result",
          "data": {
            "text/plain": [
              "    Galaxia  Distancia [Mpc]  Velocidad [km/s]\n",
              "0     S.Mag            0.032               170\n",
              "1     L.Mag            0.034               290\n",
              "2   NGC6822            0.214              -130\n",
              "3    NGC598            0.263               -70\n",
              "4    NGC221            0.275              -185\n",
              "5    NGC224            0.275              -220\n",
              "6   NGC5457            0.450               200\n",
              "7   NGC4736            0.500               290\n",
              "8   NGC5194            0.500               270\n",
              "9   NGC4449            0.630               200\n",
              "10  NGC4214            0.800               300\n",
              "11  NGC3031            0.900               -30\n",
              "12  NGC3627            0.900               650\n",
              "13  NGC4826            0.900               150\n",
              "14  NGC5236            0.900               500\n",
              "15  NGC1068            1.000               920\n",
              "16  NGC5055            1.100               450\n",
              "17  NGC7331            1.100               500\n",
              "18  NGC4258            1.400               500\n",
              "19  NGC4151            1.700               960\n",
              "20  NGC4382            2.000               500\n",
              "21  NGC4472            2.000               850\n",
              "22  NGC4486            2.000               800\n",
              "23  NGC4649            2.000              1090"
            ],
            "text/html": [
              "\n",
              "  <div id=\"df-416d9c03-8d83-40ce-b6de-49a85afbafeb\">\n",
              "    <div class=\"colab-df-container\">\n",
              "      <div>\n",
              "<style scoped>\n",
              "    .dataframe tbody tr th:only-of-type {\n",
              "        vertical-align: middle;\n",
              "    }\n",
              "\n",
              "    .dataframe tbody tr th {\n",
              "        vertical-align: top;\n",
              "    }\n",
              "\n",
              "    .dataframe thead th {\n",
              "        text-align: right;\n",
              "    }\n",
              "</style>\n",
              "<table border=\"1\" class=\"dataframe\">\n",
              "  <thead>\n",
              "    <tr style=\"text-align: right;\">\n",
              "      <th></th>\n",
              "      <th>Galaxia</th>\n",
              "      <th>Distancia [Mpc]</th>\n",
              "      <th>Velocidad [km/s]</th>\n",
              "    </tr>\n",
              "  </thead>\n",
              "  <tbody>\n",
              "    <tr>\n",
              "      <th>0</th>\n",
              "      <td>S.Mag</td>\n",
              "      <td>0.032</td>\n",
              "      <td>170</td>\n",
              "    </tr>\n",
              "    <tr>\n",
              "      <th>1</th>\n",
              "      <td>L.Mag</td>\n",
              "      <td>0.034</td>\n",
              "      <td>290</td>\n",
              "    </tr>\n",
              "    <tr>\n",
              "      <th>2</th>\n",
              "      <td>NGC6822</td>\n",
              "      <td>0.214</td>\n",
              "      <td>-130</td>\n",
              "    </tr>\n",
              "    <tr>\n",
              "      <th>3</th>\n",
              "      <td>NGC598</td>\n",
              "      <td>0.263</td>\n",
              "      <td>-70</td>\n",
              "    </tr>\n",
              "    <tr>\n",
              "      <th>4</th>\n",
              "      <td>NGC221</td>\n",
              "      <td>0.275</td>\n",
              "      <td>-185</td>\n",
              "    </tr>\n",
              "    <tr>\n",
              "      <th>5</th>\n",
              "      <td>NGC224</td>\n",
              "      <td>0.275</td>\n",
              "      <td>-220</td>\n",
              "    </tr>\n",
              "    <tr>\n",
              "      <th>6</th>\n",
              "      <td>NGC5457</td>\n",
              "      <td>0.450</td>\n",
              "      <td>200</td>\n",
              "    </tr>\n",
              "    <tr>\n",
              "      <th>7</th>\n",
              "      <td>NGC4736</td>\n",
              "      <td>0.500</td>\n",
              "      <td>290</td>\n",
              "    </tr>\n",
              "    <tr>\n",
              "      <th>8</th>\n",
              "      <td>NGC5194</td>\n",
              "      <td>0.500</td>\n",
              "      <td>270</td>\n",
              "    </tr>\n",
              "    <tr>\n",
              "      <th>9</th>\n",
              "      <td>NGC4449</td>\n",
              "      <td>0.630</td>\n",
              "      <td>200</td>\n",
              "    </tr>\n",
              "    <tr>\n",
              "      <th>10</th>\n",
              "      <td>NGC4214</td>\n",
              "      <td>0.800</td>\n",
              "      <td>300</td>\n",
              "    </tr>\n",
              "    <tr>\n",
              "      <th>11</th>\n",
              "      <td>NGC3031</td>\n",
              "      <td>0.900</td>\n",
              "      <td>-30</td>\n",
              "    </tr>\n",
              "    <tr>\n",
              "      <th>12</th>\n",
              "      <td>NGC3627</td>\n",
              "      <td>0.900</td>\n",
              "      <td>650</td>\n",
              "    </tr>\n",
              "    <tr>\n",
              "      <th>13</th>\n",
              "      <td>NGC4826</td>\n",
              "      <td>0.900</td>\n",
              "      <td>150</td>\n",
              "    </tr>\n",
              "    <tr>\n",
              "      <th>14</th>\n",
              "      <td>NGC5236</td>\n",
              "      <td>0.900</td>\n",
              "      <td>500</td>\n",
              "    </tr>\n",
              "    <tr>\n",
              "      <th>15</th>\n",
              "      <td>NGC1068</td>\n",
              "      <td>1.000</td>\n",
              "      <td>920</td>\n",
              "    </tr>\n",
              "    <tr>\n",
              "      <th>16</th>\n",
              "      <td>NGC5055</td>\n",
              "      <td>1.100</td>\n",
              "      <td>450</td>\n",
              "    </tr>\n",
              "    <tr>\n",
              "      <th>17</th>\n",
              "      <td>NGC7331</td>\n",
              "      <td>1.100</td>\n",
              "      <td>500</td>\n",
              "    </tr>\n",
              "    <tr>\n",
              "      <th>18</th>\n",
              "      <td>NGC4258</td>\n",
              "      <td>1.400</td>\n",
              "      <td>500</td>\n",
              "    </tr>\n",
              "    <tr>\n",
              "      <th>19</th>\n",
              "      <td>NGC4151</td>\n",
              "      <td>1.700</td>\n",
              "      <td>960</td>\n",
              "    </tr>\n",
              "    <tr>\n",
              "      <th>20</th>\n",
              "      <td>NGC4382</td>\n",
              "      <td>2.000</td>\n",
              "      <td>500</td>\n",
              "    </tr>\n",
              "    <tr>\n",
              "      <th>21</th>\n",
              "      <td>NGC4472</td>\n",
              "      <td>2.000</td>\n",
              "      <td>850</td>\n",
              "    </tr>\n",
              "    <tr>\n",
              "      <th>22</th>\n",
              "      <td>NGC4486</td>\n",
              "      <td>2.000</td>\n",
              "      <td>800</td>\n",
              "    </tr>\n",
              "    <tr>\n",
              "      <th>23</th>\n",
              "      <td>NGC4649</td>\n",
              "      <td>2.000</td>\n",
              "      <td>1090</td>\n",
              "    </tr>\n",
              "  </tbody>\n",
              "</table>\n",
              "</div>\n",
              "      <button class=\"colab-df-convert\" onclick=\"convertToInteractive('df-416d9c03-8d83-40ce-b6de-49a85afbafeb')\"\n",
              "              title=\"Convert this dataframe to an interactive table.\"\n",
              "              style=\"display:none;\">\n",
              "        \n",
              "  <svg xmlns=\"http://www.w3.org/2000/svg\" height=\"24px\"viewBox=\"0 0 24 24\"\n",
              "       width=\"24px\">\n",
              "    <path d=\"M0 0h24v24H0V0z\" fill=\"none\"/>\n",
              "    <path d=\"M18.56 5.44l.94 2.06.94-2.06 2.06-.94-2.06-.94-.94-2.06-.94 2.06-2.06.94zm-11 1L8.5 8.5l.94-2.06 2.06-.94-2.06-.94L8.5 2.5l-.94 2.06-2.06.94zm10 10l.94 2.06.94-2.06 2.06-.94-2.06-.94-.94-2.06-.94 2.06-2.06.94z\"/><path d=\"M17.41 7.96l-1.37-1.37c-.4-.4-.92-.59-1.43-.59-.52 0-1.04.2-1.43.59L10.3 9.45l-7.72 7.72c-.78.78-.78 2.05 0 2.83L4 21.41c.39.39.9.59 1.41.59.51 0 1.02-.2 1.41-.59l7.78-7.78 2.81-2.81c.8-.78.8-2.07 0-2.86zM5.41 20L4 18.59l7.72-7.72 1.47 1.35L5.41 20z\"/>\n",
              "  </svg>\n",
              "      </button>\n",
              "      \n",
              "  <style>\n",
              "    .colab-df-container {\n",
              "      display:flex;\n",
              "      flex-wrap:wrap;\n",
              "      gap: 12px;\n",
              "    }\n",
              "\n",
              "    .colab-df-convert {\n",
              "      background-color: #E8F0FE;\n",
              "      border: none;\n",
              "      border-radius: 50%;\n",
              "      cursor: pointer;\n",
              "      display: none;\n",
              "      fill: #1967D2;\n",
              "      height: 32px;\n",
              "      padding: 0 0 0 0;\n",
              "      width: 32px;\n",
              "    }\n",
              "\n",
              "    .colab-df-convert:hover {\n",
              "      background-color: #E2EBFA;\n",
              "      box-shadow: 0px 1px 2px rgba(60, 64, 67, 0.3), 0px 1px 3px 1px rgba(60, 64, 67, 0.15);\n",
              "      fill: #174EA6;\n",
              "    }\n",
              "\n",
              "    [theme=dark] .colab-df-convert {\n",
              "      background-color: #3B4455;\n",
              "      fill: #D2E3FC;\n",
              "    }\n",
              "\n",
              "    [theme=dark] .colab-df-convert:hover {\n",
              "      background-color: #434B5C;\n",
              "      box-shadow: 0px 1px 3px 1px rgba(0, 0, 0, 0.15);\n",
              "      filter: drop-shadow(0px 1px 2px rgba(0, 0, 0, 0.3));\n",
              "      fill: #FFFFFF;\n",
              "    }\n",
              "  </style>\n",
              "\n",
              "      <script>\n",
              "        const buttonEl =\n",
              "          document.querySelector('#df-416d9c03-8d83-40ce-b6de-49a85afbafeb button.colab-df-convert');\n",
              "        buttonEl.style.display =\n",
              "          google.colab.kernel.accessAllowed ? 'block' : 'none';\n",
              "\n",
              "        async function convertToInteractive(key) {\n",
              "          const element = document.querySelector('#df-416d9c03-8d83-40ce-b6de-49a85afbafeb');\n",
              "          const dataTable =\n",
              "            await google.colab.kernel.invokeFunction('convertToInteractive',\n",
              "                                                     [key], {});\n",
              "          if (!dataTable) return;\n",
              "\n",
              "          const docLinkHtml = 'Like what you see? Visit the ' +\n",
              "            '<a target=\"_blank\" href=https://colab.research.google.com/notebooks/data_table.ipynb>data table notebook</a>'\n",
              "            + ' to learn more about interactive tables.';\n",
              "          element.innerHTML = '';\n",
              "          dataTable['output_type'] = 'display_data';\n",
              "          await google.colab.output.renderOutput(dataTable, element);\n",
              "          const docLink = document.createElement('div');\n",
              "          docLink.innerHTML = docLinkHtml;\n",
              "          element.appendChild(docLink);\n",
              "        }\n",
              "      </script>\n",
              "    </div>\n",
              "  </div>\n",
              "  "
            ]
          },
          "metadata": {},
          "execution_count": 14
        }
      ],
      "source": [
        "\n",
        "dat = pd.read_csv(hub, sep='\\s+', comment='#', names=['Galaxia', 'Distancia [Mpc]', 'Velocidad [km/s]'])\n",
        "dat"
      ]
    },
    {
      "cell_type": "markdown",
      "metadata": {
        "lang": "es",
        "id": "BOaBFoOZXe6l"
      },
      "source": [
        "Vamos a graficarlas."
      ]
    },
    {
      "cell_type": "code",
      "execution_count": 15,
      "metadata": {
        "id": "Dp7zmkG1Xe6l"
      },
      "outputs": [],
      "source": [
        "fig = plt.figure(figsize=(10, 7.5))\n",
        "ax  = fig.add_subplot(1, 1, 1)\n",
        "plt.close()"
      ]
    },
    {
      "cell_type": "code",
      "execution_count": 16,
      "metadata": {
        "id": "7UBfbv0SXe6l"
      },
      "outputs": [],
      "source": [
        "label_style = {'fontname': 'DejaVu Sans', 'fontsize': 16} "
      ]
    },
    {
      "cell_type": "code",
      "execution_count": 17,
      "metadata": {
        "id": "D_64D1ViXe6l",
        "outputId": "e2f8da7b-9760-4a20-cdb3-0d2628439315",
        "colab": {
          "base_uri": "https://localhost:8080/",
          "height": 34
        }
      },
      "outputs": [
        {
          "output_type": "display_data",
          "data": {
            "text/plain": [
              "<Figure size 432x288 with 0 Axes>"
            ]
          },
          "metadata": {}
        }
      ],
      "source": [
        "ax.plot(dat['Distancia [Mpc]'], dat['Velocidad [km/s]'], '-', c='k', marker='*', lw=0)\n",
        "\n",
        "ax.set_xlabel('Distancia desde Nosotros [Megaparsecs]', **label_style)\n",
        "ax.set_ylabel('Velocida de Recesión [km/s]', **label_style)\n",
        "\n",
        "plt.tight_layout()"
      ]
    },
    {
      "cell_type": "code",
      "execution_count": 18,
      "metadata": {
        "id": "Mwi8vxQAXe6m",
        "outputId": "e600e450-65ff-4502-a7f1-aaa20a5d53df",
        "colab": {
          "base_uri": "https://localhost:8080/",
          "height": 475
        }
      },
      "outputs": [
        {
          "output_type": "execute_result",
          "data": {
            "text/plain": [
              "<Figure size 720x540 with 1 Axes>"
            ],
            "image/png": "[encoded data removed]"
          },
          "metadata": {},
          "execution_count": 18
        }
      ],
      "source": [
        "fig"
      ]
    },
    {
      "cell_type": "markdown",
      "metadata": {
        "lang": "es",
        "id": "VCpDNhmEXe6m"
      },
      "source": [
        "Edwin vio una tendencia clara, pero las mediciones parecían bastante ruidosas. Intentemos hacer nuestra mejor suposición sobre la verdadera relación entre los dos. Construiremos una relación lineal (regresión) usando el paquete scipy stats:"
      ]
    },
    {
      "cell_type": "code",
      "execution_count": 19,
      "metadata": {
        "id": "-D0op8o1Xe6m"
      },
      "outputs": [],
      "source": [
        "slope, intercept, r_value, p_value, std_err = stats.linregress(dat['Distancia [Mpc]'],dat['Velocidad [km/s]'])"
      ]
    },
    {
      "cell_type": "code",
      "execution_count": 20,
      "metadata": {
        "id": "LVU7ABSdXe6m",
        "outputId": "6531df08-ba37-438c-faf9-e90c0e336b5e",
        "colab": {
          "base_uri": "https://localhost:8080/"
        }
      },
      "outputs": [
        {
          "output_type": "stream",
          "name": "stdout",
          "text": [
            "La pendiente de esta tendencia (slope) es conocida como la constante de Hubble:  454.158 [km/s/Mpc]\n"
          ]
        }
      ],
      "source": [
        "print('La pendiente de esta tendencia (slope) es conocida como la constante de Hubble:  {:.3f} [km/s/Mpc]'.format(slope))"
      ]
    },
    {
      "cell_type": "markdown",
      "metadata": {
        "lang": "es",
        "id": "4Vs6MmdGXe6n"
      },
      "source": [
        "¿Cómo se ve esto?."
      ]
    },
    {
      "cell_type": "code",
      "execution_count": 21,
      "metadata": {
        "id": "uNqdMCtsXe6n",
        "outputId": "f1f74c6e-eca0-42e5-89a3-1337c4ff7ac7",
        "colab": {
          "base_uri": "https://localhost:8080/"
        }
      },
      "outputs": [
        {
          "output_type": "execute_result",
          "data": {
            "text/plain": [
              "(0.0, 2.5)"
            ]
          },
          "metadata": {},
          "execution_count": 21
        }
      ],
      "source": [
        "distances  = np.linspace(-0.5, 2.5, 10)\n",
        "velocities = slope * distances\n",
        "\n",
        "ax.plot(distances, velocities, lw=0.25, c='k')\n",
        "ax.set_xlim(0.0, 2.5)"
      ]
    },
    {
      "cell_type": "code",
      "execution_count": 22,
      "metadata": {
        "id": "DqHHngTaXe6n",
        "outputId": "00df3ee9-f85c-4535-b394-0e80487aa665",
        "colab": {
          "base_uri": "https://localhost:8080/",
          "height": 478
        }
      },
      "outputs": [
        {
          "output_type": "execute_result",
          "data": {
            "text/plain": [
              "<Figure size 720x540 with 1 Axes>"
            ],
            "image/png": "[encoded data removed]"
          },
          "metadata": {},
          "execution_count": 22
        }
      ],
      "source": [
        "fig"
      ]
    },
    {
      "cell_type": "markdown",
      "metadata": {
        "lang": "es",
        "id": "GNONU0RMXe6o"
      },
      "source": [
        "¡Parece un ajuste bastante bueno!"
      ]
    },
    {
      "cell_type": "markdown",
      "metadata": {
        "lang": "es",
        "id": "GXdjss2BXe6p"
      },
      "source": [
        "Ahora es tu turno, ¿puedes hacer una buena estimación del error en esta medición de la constante del Hubble? ¿Con qué precisión podemos predecir la recesión de una galaxia a una distancia determinada, es decir, qué tan rápido o lento podría moverse?"
      ]
    },
    {
      "cell_type": "markdown",
      "metadata": {
        "lang": "es",
        "id": "k-l5E4nFXe6q"
      },
      "source": [
        "Entonces, en conclusión, ¡es probable que todas las galaxias se alejen de nosotros! Descubrimos que esto es cierto para todas las galaxias: no estamos en el centro ni somos especiales de ninguna manera. Cada galaxia se aleja de las demás. El hecho de que el Universo se estuviera expandiendo fue un shock para muchos en 1929, pero les esperaba una sorpresa aún mayor."
      ]
    },
    {
      "cell_type": "markdown",
      "metadata": {
        "lang": "es",
        "id": "sLahil4BXe6q"
      },
      "source": [
        "# *Energía oscura*"
      ]
    },
    {
      "cell_type": "markdown",
      "metadata": {
        "lang": "es",
        "id": "lV_PMWkCXe6r"
      },
      "source": [
        "En 1998, el mundo cambiaría para siempre. Larry Page y Sergey Brin fundaron Google, el nodo American Unity y el módulo ruso Zarya se unirían para formar la [Estación Espacial Internacional](https://es.wikipedia.org/wiki/Estación_Espacial_Internacional ) y Saul Perlmutter (del laboratorio Lawrence Berkeley), Brian Schmidt y Adam Reiss, confirmaron irrefutablemente la existencia de la _Energía Oscura_ (_Dark Energy_). Aquí está Saul impresionando a algunos jóvenes investigadores de Berkeley con estos resultados en ese momento:"
      ]
    },
    {
      "cell_type": "markdown",
      "metadata": {
        "id": "Vsaqay7rXe6r"
      },
      "source": [
        "![title](https://github.com/michaelJwilson/desihigh/blob/main/desihigh/images/perlmutter.png?raw=1)"
      ]
    },
    {
      "cell_type": "markdown",
      "metadata": {
        "lang": "es",
        "id": "2YomF2jeXe6r"
      },
      "source": [
        "Entonces, ¿qué estaban mirando todos? Analicemos los datos.\n",
        "\n",
        "Saul y su equipo midieron el corrimiento al rojo ($z$) y la magnitud efectiva de varias [Supernovas tipo Ia](https://es.wikipedia.org/wiki/Supernova_de_tipo_Ia)."
      ]
    },
    {
      "cell_type": "code",
      "source": [
        "perl    = resource_filename('desihigh', 'dat/perlmutter.txt')"
      ],
      "metadata": {
        "id": "z4zUPh8GZGz9"
      },
      "execution_count": 24,
      "outputs": []
    },
    {
      "cell_type": "code",
      "execution_count": 25,
      "metadata": {
        "id": "C7zkWuCkXe6s",
        "outputId": "405b0d23-c403-4d40-eb55-216ebbbbe90c",
        "colab": {
          "base_uri": "https://localhost:8080/",
          "height": 359
        }
      },
      "outputs": [
        {
          "output_type": "execute_result",
          "data": {
            "text/plain": [
              "       z  Magnitud Efectiva\n",
              "0  0.458              23.11\n",
              "1  0.354              22.38\n",
              "2  0.425              22.13\n",
              "3  0.374              21.72\n",
              "4  0.420              22.55\n",
              "5  0.372              22.26\n",
              "6  0.378              22.58\n",
              "7  0.453              23.17\n",
              "8  0.465              23.33\n",
              "9  0.498              23.71"
            ],
            "text/html": [
              "\n",
              "  <div id=\"df-7e2e861f-9a1d-45b7-9354-59c306524740\">\n",
              "    <div class=\"colab-df-container\">\n",
              "      <div>\n",
              "<style scoped>\n",
              "    .dataframe tbody tr th:only-of-type {\n",
              "        vertical-align: middle;\n",
              "    }\n",
              "\n",
              "    .dataframe tbody tr th {\n",
              "        vertical-align: top;\n",
              "    }\n",
              "\n",
              "    .dataframe thead th {\n",
              "        text-align: right;\n",
              "    }\n",
              "</style>\n",
              "<table border=\"1\" class=\"dataframe\">\n",
              "  <thead>\n",
              "    <tr style=\"text-align: right;\">\n",
              "      <th></th>\n",
              "      <th>z</th>\n",
              "      <th>Magnitud Efectiva</th>\n",
              "    </tr>\n",
              "  </thead>\n",
              "  <tbody>\n",
              "    <tr>\n",
              "      <th>0</th>\n",
              "      <td>0.458</td>\n",
              "      <td>23.11</td>\n",
              "    </tr>\n",
              "    <tr>\n",
              "      <th>1</th>\n",
              "      <td>0.354</td>\n",
              "      <td>22.38</td>\n",
              "    </tr>\n",
              "    <tr>\n",
              "      <th>2</th>\n",
              "      <td>0.425</td>\n",
              "      <td>22.13</td>\n",
              "    </tr>\n",
              "    <tr>\n",
              "      <th>3</th>\n",
              "      <td>0.374</td>\n",
              "      <td>21.72</td>\n",
              "    </tr>\n",
              "    <tr>\n",
              "      <th>4</th>\n",
              "      <td>0.420</td>\n",
              "      <td>22.55</td>\n",
              "    </tr>\n",
              "    <tr>\n",
              "      <th>5</th>\n",
              "      <td>0.372</td>\n",
              "      <td>22.26</td>\n",
              "    </tr>\n",
              "    <tr>\n",
              "      <th>6</th>\n",
              "      <td>0.378</td>\n",
              "      <td>22.58</td>\n",
              "    </tr>\n",
              "    <tr>\n",
              "      <th>7</th>\n",
              "      <td>0.453</td>\n",
              "      <td>23.17</td>\n",
              "    </tr>\n",
              "    <tr>\n",
              "      <th>8</th>\n",
              "      <td>0.465</td>\n",
              "      <td>23.33</td>\n",
              "    </tr>\n",
              "    <tr>\n",
              "      <th>9</th>\n",
              "      <td>0.498</td>\n",
              "      <td>23.71</td>\n",
              "    </tr>\n",
              "  </tbody>\n",
              "</table>\n",
              "</div>\n",
              "      <button class=\"colab-df-convert\" onclick=\"convertToInteractive('df-7e2e861f-9a1d-45b7-9354-59c306524740')\"\n",
              "              title=\"Convert this dataframe to an interactive table.\"\n",
              "              style=\"display:none;\">\n",
              "        \n",
              "  <svg xmlns=\"http://www.w3.org/2000/svg\" height=\"24px\"viewBox=\"0 0 24 24\"\n",
              "       width=\"24px\">\n",
              "    <path d=\"M0 0h24v24H0V0z\" fill=\"none\"/>\n",
              "    <path d=\"M18.56 5.44l.94 2.06.94-2.06 2.06-.94-2.06-.94-.94-2.06-.94 2.06-2.06.94zm-11 1L8.5 8.5l.94-2.06 2.06-.94-2.06-.94L8.5 2.5l-.94 2.06-2.06.94zm10 10l.94 2.06.94-2.06 2.06-.94-2.06-.94-.94-2.06-.94 2.06-2.06.94z\"/><path d=\"M17.41 7.96l-1.37-1.37c-.4-.4-.92-.59-1.43-.59-.52 0-1.04.2-1.43.59L10.3 9.45l-7.72 7.72c-.78.78-.78 2.05 0 2.83L4 21.41c.39.39.9.59 1.41.59.51 0 1.02-.2 1.41-.59l7.78-7.78 2.81-2.81c.8-.78.8-2.07 0-2.86zM5.41 20L4 18.59l7.72-7.72 1.47 1.35L5.41 20z\"/>\n",
              "  </svg>\n",
              "      </button>\n",
              "      \n",
              "  <style>\n",
              "    .colab-df-container {\n",
              "      display:flex;\n",
              "      flex-wrap:wrap;\n",
              "      gap: 12px;\n",
              "    }\n",
              "\n",
              "    .colab-df-convert {\n",
              "      background-color: #E8F0FE;\n",
              "      border: none;\n",
              "      border-radius: 50%;\n",
              "      cursor: pointer;\n",
              "      display: none;\n",
              "      fill: #1967D2;\n",
              "      height: 32px;\n",
              "      padding: 0 0 0 0;\n",
              "      width: 32px;\n",
              "    }\n",
              "\n",
              "    .colab-df-convert:hover {\n",
              "      background-color: #E2EBFA;\n",
              "      box-shadow: 0px 1px 2px rgba(60, 64, 67, 0.3), 0px 1px 3px 1px rgba(60, 64, 67, 0.15);\n",
              "      fill: #174EA6;\n",
              "    }\n",
              "\n",
              "    [theme=dark] .colab-df-convert {\n",
              "      background-color: #3B4455;\n",
              "      fill: #D2E3FC;\n",
              "    }\n",
              "\n",
              "    [theme=dark] .colab-df-convert:hover {\n",
              "      background-color: #434B5C;\n",
              "      box-shadow: 0px 1px 3px 1px rgba(0, 0, 0, 0.15);\n",
              "      filter: drop-shadow(0px 1px 2px rgba(0, 0, 0, 0.3));\n",
              "      fill: #FFFFFF;\n",
              "    }\n",
              "  </style>\n",
              "\n",
              "      <script>\n",
              "        const buttonEl =\n",
              "          document.querySelector('#df-7e2e861f-9a1d-45b7-9354-59c306524740 button.colab-df-convert');\n",
              "        buttonEl.style.display =\n",
              "          google.colab.kernel.accessAllowed ? 'block' : 'none';\n",
              "\n",
              "        async function convertToInteractive(key) {\n",
              "          const element = document.querySelector('#df-7e2e861f-9a1d-45b7-9354-59c306524740');\n",
              "          const dataTable =\n",
              "            await google.colab.kernel.invokeFunction('convertToInteractive',\n",
              "                                                     [key], {});\n",
              "          if (!dataTable) return;\n",
              "\n",
              "          const docLinkHtml = 'Like what you see? Visit the ' +\n",
              "            '<a target=\"_blank\" href=https://colab.research.google.com/notebooks/data_table.ipynb>data table notebook</a>'\n",
              "            + ' to learn more about interactive tables.';\n",
              "          element.innerHTML = '';\n",
              "          dataTable['output_type'] = 'display_data';\n",
              "          await google.colab.output.renderOutput(dataTable, element);\n",
              "          const docLink = document.createElement('div');\n",
              "          docLink.innerHTML = docLinkHtml;\n",
              "          element.appendChild(docLink);\n",
              "        }\n",
              "      </script>\n",
              "    </div>\n",
              "  </div>\n",
              "  "
            ]
          },
          "metadata": {},
          "execution_count": 25
        }
      ],
      "source": [
        "datos     = pd.read_csv(perl, names=['z', 'Magnitud Efectiva'], comment='#', sep='\\s+')\n",
        "toprint = datos[:10]\n",
        "toprint"
      ]
    },
    {
      "cell_type": "markdown",
      "metadata": {
        "lang": "es",
        "id": "bbiBd8gcXe6s"
      },
      "source": [
        "Un gráfico mostraría esto mucho más claramente:"
      ]
    },
    {
      "cell_type": "code",
      "execution_count": 26,
      "metadata": {
        "id": "4vE6bpI2Xe6s",
        "outputId": "d0e6e796-b575-43b0-ee0a-07cf1f06bf4f",
        "colab": {
          "base_uri": "https://localhost:8080/",
          "height": 492
        }
      },
      "outputs": [
        {
          "output_type": "execute_result",
          "data": {
            "text/plain": [
              "Text(0, 0.5, 'Magnitud Efectiva')"
            ]
          },
          "metadata": {},
          "execution_count": 26
        },
        {
          "output_type": "display_data",
          "data": {
            "text/plain": [
              "<Figure size 720x540 with 1 Axes>"
            ],
            "image/png": "[encoded data removed]"
          },
          "metadata": {
            "needs_background": "light"
          }
        }
      ],
      "source": [
        "fig = plt.figure(figsize=(10, 7.5))\n",
        "pl.plot(datos['z'], datos['Magnitud Efectiva'], marker='.', lw=0.0)\n",
        "\n",
        "pl.xlabel('z', **label_style)\n",
        "pl.ylabel('Magnitud Efectiva', **label_style)"
      ]
    },
    {
      "cell_type": "markdown",
      "metadata": {
        "lang": "es",
        "id": "BL81Tyj5Xe6s"
      },
      "source": [
        "Saul tuvo buenas razones para creer (en realidad, primero tuvo que modificarlas un poco) que todas las [supernovas de tipo Ia](https://es.wikipedia.org/wiki/Supernova_de_tipo_Ia) que se muestran aquí eran igualmente brillantes intrínsecamente, pero aquellas con alto desplazamiento al rojo parecían relativamente tenues en comparación con aquellas con bajo desplazamiento al rojo, ya que simplemente estaban más lejos. Esto explica la tendencia mostrada, dado que la 'magnitud efectiva' es la forma rara en la que los astrónomos suelen expresar cuán brillante parece algo."
      ]
    },
    {
      "cell_type": "markdown",
      "metadata": {
        "lang": "es",
        "id": "eJBpZP8FXe6t"
      },
      "source": [
        "Lo útil de esta medición es que la distancia a la que se encuentra una supernova o galaxia para un desplazamiento al rojo determinado depende de algunos parámetros, uno de los cuales es la cantidad de energía oscura que podría haber en el Universo. Casi todos esperaban que estos datos demostraran que no había _ninguna_ _Energía Oscura_, pero algunos creían lo contrario.\n",
        "\n",
        "Cuando Hubble descubrió la expansión, una consecuencia natural fue que la cantidad de energía (de masa en reposo) contenida en un metro cúbico se diluiría con el tiempo. La _Energía Oscura_ sería especial, ya que la cantidad de energía por metro cúbico sería constante en el tiempo y sugeriría que algunos efectos misteriosos de la [mecánica cuántica](https://es.wikipedia.org/wiki/Mecánica_cuántica) estarían causando que las galaxias se separen."
      ]
    },
    {
      "cell_type": "markdown",
      "metadata": {
        "lang": "es",
        "id": "MsidYhZPXe6t"
      },
      "source": [
        "Así que, usemos los datos de Saul para averiguar cuánta energía oscura hay en el universo. Primero, necesitamos un modelo para la distancia ([distancia luminosa](https://es.wikipedia.org/wiki/Escalera_de_distancias_cósmicas)) de una supernova con un desplazamiento al rojo dado, dada cierta cantidad de Energía Oscura. Usamos $\\Omega_\\Lambda$ para denotar la _fracción_ de toda la materia que se comporta como Energía Oscura."
      ]
    },
    {
      "cell_type": "code",
      "execution_count": 27,
      "metadata": {
        "id": "iZL01AlBXe6t"
      },
      "outputs": [],
      "source": [
        "from astropy.cosmology import FlatLambdaCDM\n",
        "\n",
        "def lumdist(z, olambda):\n",
        "  cosmo = FlatLambdaCDM(H0=70, Om0=1. - olambda, Tcmb0=2.725)\n",
        "    \n",
        "  return  cosmo.luminosity_distance(z)   "
      ]
    },
    {
      "cell_type": "markdown",
      "metadata": {
        "lang": "es",
        "id": "hNtyB9njXe6t"
      },
      "source": [
        "Luego, necesitamos convertir esta distancia en la forma en que los astrónomos miden el brillo:"
      ]
    },
    {
      "cell_type": "code",
      "execution_count": 28,
      "metadata": {
        "id": "LlKBkpUrXe6t"
      },
      "outputs": [],
      "source": [
        "def effmag(z, olambda, MB):\n",
        "  DL = lumdist(z, olambda)   \n",
        "\n",
        "  return MB + 5. * np.log10(DL.value)"
      ]
    },
    {
      "cell_type": "code",
      "execution_count": 29,
      "metadata": {
        "id": "wYmTOIZXXe6t",
        "outputId": "b21e0c1c-133f-4109-eee8-0c33d8fc0098",
        "colab": {
          "base_uri": "https://localhost:8080/",
          "height": 296
        }
      },
      "outputs": [
        {
          "output_type": "execute_result",
          "data": {
            "text/plain": [
              "<matplotlib.legend.Legend at 0x7f691536d990>"
            ]
          },
          "metadata": {},
          "execution_count": 29
        },
        {
          "output_type": "display_data",
          "data": {
            "text/plain": [
              "<Figure size 432x288 with 1 Axes>"
            ],
            "image/png": "[encoded data removed]"
          },
          "metadata": {
            "needs_background": "light"
          }
        }
      ],
      "source": [
        "zs = np.arange(0.01, 0.85, 0.01)\n",
        "\n",
        "pl.plot(datos['z'], datos['Magnitud Efectiva'], marker='.', lw=0.0)\n",
        "\n",
        "pl.plot(zs, effmag(zs, 0.0, 6.), c='k', label='Sin Energía Oscura', alpha=0.5)\n",
        "pl.plot(zs, effmag(zs, 0.5, 6.), c='k', label='Energía Oscura!')\n",
        "\n",
        "pl.xlabel('z')\n",
        "pl.ylabel('Magnitud Efectiva')\n",
        "\n",
        "pl.legend(loc=4, frameon=False)"
      ]
    },
    {
      "cell_type": "markdown",
      "metadata": {
        "lang": "es",
        "id": "Yo6HnLBxXe6u"
      },
      "source": [
        "Incluso a simple vista, los datos parecen preferir algo de energía oscura. Pero no hay una gran cantidad de puntos. Averigüemos qué prefieren exactamente los datos. Para hacer esto, asumimos que minimizar la distancia entre cada punto y la línea es la mejor medida de qué tan bien se ajusta la teoría a los datos (consulta este [link](https://es.wikipedia.org/wiki/M%C3%ADnimos_cuadrados)). Además de la fracción de energía oscura, tampoco sabemos qué tan brillante es intrínsecamente cada supernova, por lo que ajustaremos ambas simultáneamente."
      ]
    },
    {
      "cell_type": "code",
      "execution_count": 30,
      "metadata": {
        "id": "XLYc6SqDXe6u"
      },
      "outputs": [],
      "source": [
        "from scipy.optimize import minimize"
      ]
    },
    {
      "cell_type": "code",
      "execution_count": 31,
      "metadata": {
        "id": "1aDnWrMzXe6u"
      },
      "outputs": [],
      "source": [
        "def chi2(x):\n",
        "     olambda = x[0]\n",
        "     MB      = x[1] \n",
        "    \n",
        "     model   = effmag(datos['z'], olambda, MB) \n",
        "     \n",
        "     return  np.sum((datos['Magnitud Efectiva'] - model)**2.) "
      ]
    },
    {
      "cell_type": "code",
      "execution_count": 32,
      "metadata": {
        "id": "k0F2TVBoXe6v",
        "outputId": "0aa2308c-b3e7-4ec7-c329-87e1614aeabb",
        "colab": {
          "base_uri": "https://localhost:8080/"
        }
      },
      "outputs": [
        {
          "output_type": "stream",
          "name": "stdout",
          "text": [
            "Optimization terminated successfully.\n",
            "         Current function value: 6.018565\n",
            "         Iterations: 10\n",
            "         Function evaluations: 39\n",
            "         Gradient evaluations: 13\n"
          ]
        }
      ],
      "source": [
        "res = minimize(chi2, x0=[0.5, 5.0], options={'disp': True})"
      ]
    },
    {
      "cell_type": "code",
      "execution_count": 33,
      "metadata": {
        "id": "jY0N31ovXe6v",
        "outputId": "757f8612-0ba8-42f0-d910-f3fb590ee73f",
        "colab": {
          "base_uri": "https://localhost:8080/"
        }
      },
      "outputs": [
        {
          "output_type": "execute_result",
          "data": {
            "text/plain": [
              "array([0.75146015, 5.82802903])"
            ]
          },
          "metadata": {},
          "execution_count": 33
        }
      ],
      "source": [
        "res.x"
      ]
    },
    {
      "cell_type": "code",
      "execution_count": 34,
      "metadata": {
        "id": "_aWGocyOXe6v",
        "outputId": "adf674f7-15ce-46d0-d672-fc6c415998e0",
        "colab": {
          "base_uri": "https://localhost:8080/",
          "height": 296
        }
      },
      "outputs": [
        {
          "output_type": "execute_result",
          "data": {
            "text/plain": [
              "<matplotlib.legend.Legend at 0x7f6915659810>"
            ]
          },
          "metadata": {},
          "execution_count": 34
        },
        {
          "output_type": "display_data",
          "data": {
            "text/plain": [
              "<Figure size 432x288 with 1 Axes>"
            ],
            "image/png": "[encoded data removed]"
          },
          "metadata": {
            "needs_background": "light"
          }
        }
      ],
      "source": [
        "zs = np.arange(0.01, 0.85, 0.01)\n",
        "\n",
        "pl.plot(datos['z'], datos['Magnitud Efectiva'], marker='.', lw=0.0)\n",
        "\n",
        "pl.plot(zs, effmag(zs, 0.0, 6.), c='k',   label='Sin Energía Oscura', alpha=0.5)\n",
        "pl.plot(zs, effmag(zs, 0.5, 6.), c='k',   label='50% Energía Oscura!')\n",
        "pl.plot(zs, effmag(zs, 0.75, 6.), c='c', label='75% Energía Oscura!')\n",
        "\n",
        "pl.xlabel('z')\n",
        "pl.ylabel('Magnitud efectiva')\n",
        "\n",
        "pl.legend(loc=4, frameon=False)"
      ]
    },
    {
      "cell_type": "markdown",
      "metadata": {
        "lang": "es",
        "id": "wtFPk7__Xe6w"
      },
      "source": [
        "¡Así que hay algo así como 75% de energía oscura en el Universo! Siendo las primeras personas en realizar esta medición, Saul, junto con Brian Schmidt y Adam Reiss, recibirían el Premio Nobel 2011 por su trabajo."
      ]
    },
    {
      "cell_type": "markdown",
      "metadata": {
        "id": "EXk2q306Xe6w"
      },
      "source": [
        "![title](https://github.com/michaelJwilson/desihigh/blob/main/desihigh/images/perlmutter_nobel.jpg?raw=1)"
      ]
    },
    {
      "cell_type": "markdown",
      "metadata": {
        "lang": "es",
        "id": "PI0cfsTqXe6w"
      },
      "source": [
        "Puedes encontrar todos los detalles [aquí](https://arxiv.org/pdf/astro-ph/9812133.pdf). Advertencia, esto es para los profesionales, así que no te preocupes si no comprendes mucho."
      ]
    },
    {
      "cell_type": "markdown",
      "metadata": {
        "lang": "es",
        "id": "CbYoHtH6Xe6w"
      },
      "source": [
        "La principal motivación para DESI es repetir mediciones similares de desplazamientos al rojo de galaxias distantes, con mucha más precisión y aprender mucho más sobre esta espeluznante Energía Oscura."
      ]
    },
    {
      "cell_type": "code",
      "source": [],
      "metadata": {
        "id": "EAjKgXPCZPkM"
      },
      "execution_count": 34,
      "outputs": []
    }
  ],
  "metadata": {
    "interpreter": {
      "hash": "05744e531a6b5accf174ab064947cca0fa700a25ff2828a9ac0fc01bbcf870af"
    },
    "kernelspec": {
      "display_name": "Python 3.9.6 64-bit ('base': conda)",
      "name": "python3"
    },
    "language_info": {
      "codemirror_mode": {
        "name": "ipython",
        "version": 3
      },
      "file_extension": ".py",
      "mimetype": "text/x-python",
      "name": "python",
      "nbconvert_exporter": "python",
      "pygments_lexer": "ipython3",
      "version": "3.9.6"
    },
    "latex_envs": {
      "LaTeX_envs_menu_present": true,
      "autoclose": false,
      "autocomplete": true,
      "bibliofile": "biblio.bib",
      "cite_by": "apalike",
      "current_citInitial": 1,
      "eqLabelWithNumbers": true,
      "eqNumInitial": 1,
      "hotkeys": {
        "equation": "Ctrl-E",
        "itemize": "Ctrl-I"
      },
      "labels_anchors": false,
      "latex_user_defs": false,
      "report_style_numbering": false,
      "user_envs_cfg": false
    },
    "nbTranslate": {
      "displayLangs": [
        "es"
      ],
      "hotkey": "alt-t",
      "langInMainMenu": true,
      "sourceLang": "en",
      "targetLang": "es",
      "useGoogleTranslate": true
    },
    "colab": {
      "provenance": []
    }
  },
  "nbformat": 4,
  "nbformat_minor": 0
}