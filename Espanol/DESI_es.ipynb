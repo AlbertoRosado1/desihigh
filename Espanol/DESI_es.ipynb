{
 "cells": [
  {
   "cell_type": "code",
   "execution_count": null,
   "metadata": {},
   "outputs": [],
   "source": [
    "# Aquí cargamos un montón de librerías útiles, nada de que preocuparse. Lo usaremos mas tarde. \n",
    "# Es común añadir la mayoría al inicio, es mas claro. \n",
    "\n",
    "# Para recolectar los archivos \n",
    "import glob  \n",
    "\n",
    "# Para hacer gráficos\n",
    "import pylab           as     pl\n",
    "\n",
    "# ¿Recuerdas Excel? Quizá no. Esta es la versión de \"Silicon Valley\".\n",
    "import pandas          as     pd\n",
    "\n",
    "# No harás ciencia sin esta librería.\n",
    "import numpy           as     np\n",
    "\n",
    "# Mas graficos. \n",
    "from   matplotlib      import pyplot as plt\n",
    "\n",
    "# Hablaremos de esta mas tarde.\n",
    "from   scipy           import stats\n",
    "\n",
    "# Un par de cosas útiles para trabajar con datos en astronomía.\n",
    "from   astropy.table   import Table, join, vstack\n",
    "\n",
    "#Si sabes la posición de una galaxia de DESI, ¡hagamos una foto de ella!\n",
    "from   tools.legacy    import cutout"
   ]
  },
  {
   "cell_type": "markdown",
   "metadata": {
    "lang": "es"
   },
   "source": [
    "# *Instrumento espectroscópico de energía oscura*"
   ]
  },
  {
   "cell_type": "markdown",
   "metadata": {
    "lang": "es"
   },
   "source": [
    "Hoy, continuamos el legado de [Slipher](https://es.wikipedia.org/wiki/Vesto_Slipher), [Hubble](https://es.wikipedia.org/wiki/Edwin_Hubble), [Vera Rubin](https://es.wikipedia.org/wiki/Vera_Rubin) et al. con el estudio DESI de *30 millones* de galaxias. ¡Eso es mucho más que las 24 originales de Hubble!"
   ]
  },
  {
   "cell_type": "markdown",
   "metadata": {},
   "source": [
    "![title](images/kittpeak.jpg)"
   ]
  },
  {
   "cell_type": "markdown",
   "metadata": {
    "lang": "es"
   },
   "source": [
    "Para obtener tantas, necesitamos un telescopio lo suficientemente grande para observar galaxias muy débiles. Con un espejo de 4 m de diámetro, el telescopio Mayall en Kitt Peak es perfecto:"
   ]
  },
  {
   "cell_type": "markdown",
   "metadata": {},
   "source": [
    "![title](images/desi_mayall.jpg)"
   ]
  },
  {
   "cell_type": "markdown",
   "metadata": {
    "lang": "es"
   },
   "source": [
    "Cómo hizo Hubble una vez, también necesitamos observadores que manejen el telescopio por nosotros. Dentro de DESI, todo el mundo tiene su turno en esto (¡seas un experto o no!). Aquí está [Satya](https://satyagontcho.space/) en la sala de control mostrándonos cómo"
   ]
  },
  {
   "cell_type": "markdown",
   "metadata": {},
   "source": [
    "![alt](images/satya.jpg)"
   ]
  },
  {
   "cell_type": "markdown",
   "metadata": {
    "lang": "es"
   },
   "source": [
    "¡Este podrías ser tú algún día! Desde el telescopio, nuestros datos parecen bastante irreconocibles:"
   ]
  },
  {
   "cell_type": "markdown",
   "metadata": {},
   "source": [
    "![title](images/spectra2D.png)"
   ]
  },
  {
   "cell_type": "markdown",
   "metadata": {
    "lang": "es"
   },
   "source": [
    "Aquí estás viendo la luz de 500 fibras ópticas (cada una recolectando la luz de una galaxia) empaquetadas en un CCD. Los arcos horizontales corresponden a una longitud de onda dada, y los arcos brillantes corresponden a líneas brillantes del cielo, ¡una completa molestia!\n",
    "\n",
    "Los trazos aparentemente aleatorios son rayos cósmicos, detecciones de partículas de alta energía generadas dentro de la atmósfera.\n",
    "\n",
    "Necesitamos calibrar y limpiar cuidadosamente estas imágenes para recuperar la luz de la galaxia que realmente nos importa. Supongamos que algunas personas inteligentes ya han hecho esto por nosotros, y miremos las imágenes limpias de la luz de algunas galaxias DESI."
   ]
  },
  {
   "cell_type": "markdown",
   "metadata": {
    "lang": "es"
   },
   "source": [
    "También buscaremos agregar algunos marcadores que indiquen las líneas fuertes del hidrógeno (que aprendimos anteriormente) en algunos espectros de cuásares de DESI."
   ]
  },
  {
   "cell_type": "code",
   "execution_count": 1,
   "metadata": {},
   "outputs": [],
   "source": [
    "def Rydberg(n, m):\n",
    "    # Longitud de onda en el vacío del Hidrógeno [nanometros]. Ve la INTRO. \n",
    "    result = 1.096e-2 * (1. / n / n - 1. / m / m)\n",
    "    return 1. / result"
   ]
  },
  {
   "cell_type": "code",
   "execution_count": null,
   "metadata": {},
   "outputs": [],
   "source": [
    "# Linea de Lyman-alfa del Hidrógeno.\n",
    "Lya        = 10. * Rydberg(1, 2)\n",
    "\n",
    "# La serie de Balmer del Hidrógeno.\n",
    "Balmers    = 10. * np.array([Rydberg(2, m) for m in np.arange(6, 3, -1)])\n",
    "Balmers"
   ]
  },
  {
   "cell_type": "markdown",
   "metadata": {
    "lang": "es"
   },
   "source": [
    "Ahora vamos a seleccionar un tipo de galaxia de DESI (pensamos en las galaxias como diferentes _trazadores_ de la materia oscura). Comenzaremos con los cuásares, QSO, que se explicarán más adelante. Al final del cuaderno, tendrás la oportunidad de seleccionar entre los demás.\n",
    "\n",
    "Para tu deleite visual, tienes cualquiera de las siguientes\n",
    "\n",
    "- MWS: EL censo de la Vía Láctea (The Milky Way Survey), un subconjunto de objetivos que intentan atrapar estrellas y [enanas blancas](https://es.wikipedia.org/wiki/Enana_blanca).\n",
    "- BGS: El censo de galaxias brillantes (The Bright Galaxy Survey), algunas de las galaxias más brillantes y bonitas del censo DESI.\n",
    "- LRG: El censo de Galaxias rojas (Luminous Red Galaxy), muy rojo, muy luminoso (¡los astrónomos no suelen ser tan creativos!). [Aprox. 6 años de edad y con estrellas de $10^{11}$ veces la masa del Sol.](https://academic.oup.com/mnras/article/377/2/787/1038423).\n",
    "- ELG: Galaxias de líneas de emisión (Emission line galaxy), con su propio cuaderno: DesigningDESI.ipynb."
   ]
  },
  {
   "cell_type": "code",
   "execution_count": null,
   "metadata": {},
   "outputs": [],
   "source": [
    "# Reemplaza ['qso'] por cualquiera de los otros tipos ['mws'], ['bgs'], ['lrg'], ['elg'], ['qso'] aquí. \n",
    "tracers     = ['qso'] "
   ]
  },
  {
   "cell_type": "markdown",
   "metadata": {
    "lang": "es"
   },
   "source": [
    "Ok, primero necesitamos cargar los datos que necesitamos. Los paquetes anteriores son muy útiles para esto. Ponlo a prueba, rompelo\n",
    "y mira lo que hay ahí!"
   ]
  },
  {
   "cell_type": "code",
   "execution_count": null,
   "metadata": {},
   "outputs": [],
   "source": [
    "# Aquí creamos tablas vacías que posteriormente rellenaremos con datos de los desplazamientos al rojo (redshift) de las galaxias, y sus espectros. \n",
    "redshifts   = Table()\n",
    "spectra     = Table()\n",
    "\n",
    "#DESI observa un \"tile\" de 5000 galaxias al mismo tiempo. Necesitamos saber el número de ID que le corresponde al tile correspondiente\n",
    "#de los objetivos que queremos \n",
    "tiles       = {'mws': 66003, 'bgs': 66003, 'elg': 67230, 'lrg': 68002, 'qso': 68002}\n",
    "\n",
    "#Indicamos todos los archivos se encuentran en la carpeta student_andes, y empiezan con, por ejemplo, \"zbest-\"\n",
    "rfiles      = glob.glob('student_andes/zbest-*')\n",
    "sfiles      = glob.glob('student_andes/coadd-*')\n",
    "\n",
    "for tracer in tracers:\n",
    "  # Construimos el nombre del archivo para este trazador y tile.\n",
    "  rfile     = 'student_andes/zbest-{}-{}-20200315.fits'.format(tracer, tiles[tracer])    \n",
    "  \n",
    "  # Cargamos la información de los desplazamientos al rojo para este archivo y trazador.  \n",
    "  redshifts = vstack((redshifts, Table.read(rfile)))\n",
    "\n",
    "  # Lo mismo, pero para su espectro.\n",
    "  sfile     = 'student_andes/coadd-{}-{}-20200315.fits'.format(tracer, tiles[tracer]) \n",
    "  spectra   = vstack((spectra, Table.read(sfile)))\n",
    "    \n",
    "print('Número de {} galaxias disponibles: {:d}'.format(tracers[0], len(redshifts)))"
   ]
  },
  {
   "cell_type": "markdown",
   "metadata": {
    "lang": "es"
   },
   "source": [
    "Recuerda, en Python todo es un objeto, por lo que tiene muchas formas de preguntarle a cualquier cosa qué puede hacer. Intenta escribir 'rfiles?', 'Print (rfiles)', 'rfiles.TAB' en una nueva celda para ver qué puede hacer este objeto. TAB significa que terminas con la tecla TAB (-->|), esto abrirá un cuadro que te indicará los métodos disponibles para el objeto, las cosas que puedes pedirle. P.ej. rfiles.append, al que puede preguntar: 'rfiles.append?' y así. Puedes probar lo mismo con la tabla de corrimientos al rojo, ¡que tendrá muchas más opciones!"
   ]
  },
  {
   "cell_type": "markdown",
   "metadata": {
    "lang": "es"
   },
   "source": [
    "Veamos qué obtuvimos en los desplazamientos al rojo. Tendremos cinco filas, una para cada galaxia. Su posición en el cielo, brillo en varias longitudes de onda, tipo de galaxia y número de identificación."
   ]
  },
  {
   "cell_type": "code",
   "execution_count": null,
   "metadata": {
    "scrolled": true
   },
   "outputs": [],
   "source": [
    "redshifts"
   ]
  },
  {
   "cell_type": "markdown",
   "metadata": {
    "lang": "es"
   },
   "source": [
    "Ahora, usaremos la tabla de espectros para hacer un gráfico de la luz de la galaxia."
   ]
  },
  {
   "cell_type": "code",
   "execution_count": null,
   "metadata": {},
   "outputs": [],
   "source": [
    "ngal       = 5\n",
    "\n",
    "# Hace la distribución de los gráficos.\n",
    "fig, axes  = plt.subplots(ngal, 2, figsize=(15., 3.5 * ngal))\n",
    "\n",
    "for i, tid in enumerate(redshifts['TARGETID'][:ngal]):\n",
    "  redshift = redshifts['Z'][i]\n",
    "\n",
    "  # Añade una línea vertical. Aquí para mostrar la linea de Lyman-alfa.\n",
    "  axes[i,1].axvline((1. + redshift) * Lya, c='cyan', alpha=0.5)\n",
    "\n",
    "  # Añade las líneas de Balmer. \n",
    "  for balmer in Balmers:\n",
    "    axes[i,1].axvline((1. + redshift) * balmer, c='magenta', alpha=0.5)      \n",
    "    \n",
    "  # ¡Finalmente, grafica el espectro de la galaxia!\n",
    "  axes[i,1].plot(spectra['WAVELENGTH'], spectra['TARGET{:d}'.format(tid)], lw=1)\n",
    "  \n",
    "  # Añade un título.\n",
    "  axes[i,1].set_title('Objetivo {} @ desplazamiento al rojo {:.3f}]'.format(tid, redshift))\n",
    "\n",
    "  # Define los límites de los ejes. \n",
    "  axes[i,1].set_xlim(3.5e3, 1.e4)\n",
    "  axes[i,1].set_ylim(bottom=-0.5)\n",
    "\n",
    "  axes[i,1].set_ylabel('Flujo')\n",
    "\n",
    "  # Añade una foto de cada galaxia.\n",
    "  url = cutout(axes[i,0], redshifts['TARGET_RA'][i], redshifts['TARGET_DEC'][i])\n",
    "\n",
    "fig.suptitle('{} Trazadores'.format(tracers[0].upper()), fontsize=18, y=0.91)"
   ]
  },
  {
   "cell_type": "markdown",
   "metadata": {
    "lang": "es"
   },
   "source": [
    "Observa cómo las líneas de hidrógeno que vemos son muy amplias. Esto se debe a que el Hidrógeno se está moviendo rápidamente dentro de este tipo de galaxia, conocida como Cuásar (Quasar) u \"Objeto cuasi-estelar\". ¡Están muy distantes, sin embargo son muy brillantes, debido a que la materia se acumula en un gran pozo negro en su centro! Consulta [aquí](https://es.wikipedia.org/wiki/Cuásar) para obtener más detalles."
   ]
  },
  {
   "cell_type": "code",
   "execution_count": null,
   "metadata": {},
   "outputs": [],
   "source": []
  },
  {
   "cell_type": "markdown",
   "metadata": {
    "lang": "es"
   },
   "source": [
    "Ahora es tu turno, prueba a cambiar tracers = ['qso'] a tracers = ['lrg'] en la celda [9] de arriba y vuelve a ejecutar las celdas de arriba para rehacer estos gráficos para un tipo diferente de galaxia. Recuerda, necesitas presionar shift-return para evaluar una celda. ¿Qué notas que es diferente entre las diferentes galaxias trazadoras y sus colores?"
   ]
  },
  {
   "cell_type": "markdown",
   "metadata": {
    "lang": "es"
   },
   "source": [
    "Ahora que eres un experto, ¿puedes averiguar qué líneas además del hidrógeno están presentes aquí (y trazarlas)?\n",
    "Puedes probar la lista [aquí](http://classic.sdss.org/dr6/algorithms/linestable.html) para comenzar."
   ]
  },
  {
   "cell_type": "code",
   "execution_count": null,
   "metadata": {},
   "outputs": [],
   "source": []
  }
 ],
 "metadata": {
  "kernelspec": {
   "display_name": "Python 3",
   "language": "python",
   "name": "python3"
  },
  "language_info": {
   "codemirror_mode": {
    "name": "ipython",
    "version": 3
   },
   "file_extension": ".py",
   "mimetype": "text/x-python",
   "name": "python",
   "nbconvert_exporter": "python",
   "pygments_lexer": "ipython3",
   "version": "3.7.9"
  },
  "latex_envs": {
   "LaTeX_envs_menu_present": true,
   "autoclose": false,
   "autocomplete": true,
   "bibliofile": "biblio.bib",
   "cite_by": "apalike",
   "current_citInitial": 1,
   "eqLabelWithNumbers": true,
   "eqNumInitial": 1,
   "hotkeys": {
    "equation": "Ctrl-E",
    "itemize": "Ctrl-I"
   },
   "labels_anchors": false,
   "latex_user_defs": false,
   "report_style_numbering": false,
   "user_envs_cfg": false
  },
  "nbTranslate": {
   "displayLangs": [
    "es"
   ],
   "hotkey": "alt-t",
   "langInMainMenu": true,
   "sourceLang": "en",
   "targetLang": "es",
   "useGoogleTranslate": true
  }
 },
 "nbformat": 4,
 "nbformat_minor": 4
}
