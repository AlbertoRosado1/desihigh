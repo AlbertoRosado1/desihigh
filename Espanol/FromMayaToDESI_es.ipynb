{
 "cells": [
  {
   "cell_type": "code",
   "execution_count": null,
   "metadata": {},
   "outputs": [],
   "source": [
    "import PIL\n",
    "import ephem\n",
    "import datetime\n",
    "import matplotlib         as    mpl\n",
    "import pylab              as    pl\n",
    "import numpy              as    np\n",
    "import matplotlib.pyplot  as    plt\n",
    "import matplotlib.patches as    patches\n",
    "\n",
    "from   IPython.display   import Image\n",
    "from   matplotlib        import animation, rc\n",
    "from   IPython.display   import HTML\n",
    "from   PIL               import Image as PImage\n",
    "from   IPython.display   import YouTubeVideo"
   ]
  },
  {
   "cell_type": "code",
   "execution_count": null,
   "metadata": {},
   "outputs": [],
   "source": [
    "%matplotlib inline"
   ]
  },
  {
   "cell_type": "markdown",
   "metadata": {},
   "source": [
    "# De los Mayas a DESI"
   ]
  },
  {
   "cell_type": "markdown",
   "metadata": {},
   "source": [
    "Desde el 1800 a. C. hasta el 900 d. C., la civilización Maya se destacó en agricultura, alfarería, escritura de jeroglíficos, elaboración de calendarios y matemáticas. Localizados en los actuales Honduras, México, Guatemala y Belice, y con un legado asombroso de arquitectura y obras de arte simbólicas, su formidable entendimiento de los cielos es quizá lo más impresionante, ¡sin duda para nosotros!"
   ]
  },
  {
   "cell_type": "markdown",
   "metadata": {},
   "source": [
    "Los mayas eran expertos observadores del cielo; espectadores cuidadosos de los movimientos de los cuerpos celestes. Una prueba de la fascinación maya por la astronomía está tallada en piedra en los grandes sitios arquitectónicos de Chichén Itzá, Uxmal, Uaxactun, Edzna, Palenque y muchos más. Como veremos, a menudo los edificios que adornan se han construido para alinearse con eventos astronómicos cíclicos significativos: solsticios, equinoccios, la luna cambiante o el pasar de los planetas."
   ]
  },
  {
   "cell_type": "markdown",
   "metadata": {},
   "source": [
    "<img src=\"images/ChichenItza.jpg\" alt=\"Drawing\" style=\"width: 800px;\"/>"
   ]
  },
  {
   "cell_type": "markdown",
   "metadata": {},
   "source": [
    "En Chichén Itzá, dos estructuras dan testimonio de la astronomía maya: Kukulkan y El Caracol. Kukulkan, o El Castillo, es una pirámide de piedra en el centro de Chichén Itzá de 79 pies (24 m). Cada año, decenas de miles de visitantes acuden en masa a Chichén Itzá para ver 'la serpiente', una aparición hecha de sombras que desciende por las escaleras de El Castillo durante los equinoccios solares de cada primavera y otoño.\n",
    "\n",
    "Este famoso evento ocurre dos veces al año, en los equinoccios de primavera y otoño. (De hecho, el efecto se puede ver durante una semana antes y después de cada equinoccio). A medida que se pone el sol del equinoccio, un juego de luces y sombras crea la apariencia de una serpiente que se ondula gradualmente por las escaleras de la pirámide. Esta serpiente con espalda de diamante se compone de siete sombras triangulares, proyectadas por las terrazas escalonadas de la pirámide. El sol poniente parece dar vida a las sinuosas sombras, que trazan un patrón decididamente serpenteante en su camino por las escaleras."
   ]
  },
  {
   "cell_type": "code",
   "execution_count": null,
   "metadata": {},
   "outputs": [],
   "source": [
    "YouTubeVideo('Zvv9EnBuem4', width=800, height=400)"
   ]
  },
  {
   "cell_type": "markdown",
   "metadata": {},
   "source": [
    "Usando el increíble paquete Ephem, ¡veamos cómo funciona esto! Primero definiremos nuestro sol y el planeta favorito de los mayas, Venus. Estas 'class instances' nos permiten, por ejemplo, preguntar más adelante en qué posición se encuentra el sol en un momento dado."
   ]
  },
  {
   "cell_type": "code",
   "execution_count": null,
   "metadata": {},
   "outputs": [],
   "source": [
    "venus = ephem.Venus()\n",
    "sun   = ephem.Sun()\n",
    "\n",
    "venus.compute('2020/09/11 00:50:22')\n",
    "\n",
    "print(venus.ra, venus.dec, ephem.constellation(venus)[1])"
   ]
  },
  {
   "cell_type": "markdown",
   "metadata": {},
   "source": [
    "¡Entonces Venus está en la constelación de Cáncer esta noche! También definimos la posición (latitud y longitud de nuestro astrónomo maya). Las coordenadas predeterminadas del _Mayastronomer_ son las de El Castillo en Chichen Itza, pero ten la libertad de elegir las tuyas."
   ]
  },
  {
   "cell_type": "code",
   "execution_count": null,
   "metadata": {},
   "outputs": [],
   "source": [
    "mayastronomer         = ephem.Observer()\n",
    "\n",
    "# Latitud y longitud ordinarias del astronomo Mayan. Por defecto las coordinates son las de El Castillo en Chichen Itza.\n",
    "mayastronomer.lat     = '20.683056'\n",
    "mayastronomer.lon     = '-88.568611'\n",
    "\n",
    "# \n",
    "mayastronomer.horizon = 0.0"
   ]
  },
  {
   "cell_type": "markdown",
   "metadata": {},
   "source": [
    "Ahora, descubramos más sobre la posición del Sol para diseñar nuestra pirámide. Definamos las siguientes funciones que calculan el ángulo azimutal en el que el Sol se pone o sale en el horizonte durante los dos equinoccios (cuando el día y la noche duran lo mismo) o los dos solsticios (el día con la noche más larga o más corta del año)."
   ]
  },
  {
   "cell_type": "code",
   "execution_count": null,
   "metadata": {},
   "outputs": [],
   "source": [
    "def solar_position(year, date=None, event=\"next_rise\", ephem_event=ephem.next_equinox):\n",
    "    if date != None:\n",
    "        # Regresa la posición del sol en un evento de fecha conocida\n",
    "        mayastronomer.date = date\n",
    "        \n",
    "        sun.compute(mayastronomer)\n",
    "        \n",
    "        return  sun.az, sun.alt \n",
    "               \n",
    "    else:\n",
    "        # Determina el día y la posición azimutal del sol para un evento dado, ej. solsticio o equinoccio. \n",
    "        if event == \"next_rise\":\n",
    "            mayastronomer.date = mayastronomer.next_rising(sun, start=ephem_event(year), use_center=True)\n",
    "\n",
    "        elif event == \"prev_setting\":\n",
    "            mayastronomer.date = mayastronomer.previous_setting(sun, start=ephem_event(year), use_center=True)\n",
    "    \n",
    "        elif event == \"next_setting\":\n",
    "            mayastronomer.date = mayastronomer.next_setting(sun, start=ephem_event(year), use_center=True)\n",
    "        \n",
    "        else:\n",
    "            raise  ValueError(\"Evento inaceptable!\")\n",
    "        \n",
    "        sun.compute(mayastronomer)\n",
    " \n",
    "        return  ephem.localtime(mayastronomer.date), sun.az"
   ]
  },
  {
   "cell_type": "markdown",
   "metadata": {},
   "source": [
    "Elige un año (para construir / visitar tu pirámide) y evaluemos las funciones previamente definidas en ese año."
   ]
  },
  {
   "cell_type": "code",
   "execution_count": null,
   "metadata": {},
   "outputs": [],
   "source": [
    "year                 = '2021'\n",
    "\n",
    "saz, salt            = solar_position(date='551/12/22 16:45:40', year='2021')\n",
    "\n",
    "# Hora y posición azimutal del sol naciente y poniente en el equinoccio - día en el que duración de la noche = duración del día.\n",
    "equinox_rise         = solar_position(year, event=\"next_rise\", ephem_event=ephem.next_equinox)\n",
    "equinox_set          = solar_position(year, event=\"prev_setting\", ephem_event=ephem.previous_equinox)\n",
    "\n",
    "# Hora y posición azimutal del sol naciente y poniente en el solsticio de invierno, el día más corto del año.\n",
    "winter_solstice_set  = solar_position(year, event=\"next_setting\", ephem_event=ephem.previous_solstice)\n",
    "winter_solstice_rise = solar_position(year, event=\"next_rise\", ephem_event=ephem.previous_solstice)\n",
    "\n",
    "# Hora y posición azimutal del sol naciente y poniente en el solsticio de verano, el día más largo del año.\n",
    "summer_solstice_set  = solar_position(year, event=\"next_setting\", ephem_event = ephem.next_solstice)\n",
    "summer_solstice_rise = solar_position(year, event=\"next_rise\", ephem_event = ephem.next_solstice)"
   ]
  },
  {
   "cell_type": "markdown",
   "metadata": {},
   "source": [
    "Antes de elaborar un diseño de pirámide, aprendamos más sobre la pirámide original que queremos imitar. La estructura del Castillo en su conjunto parece estar alineada con un eje astronómico importante: el plano oeste de la pirámide hace frente al pasaje cenital durante el atardecer. Mientras tanto, cada una de las cuatro escaleras (extremadamente empinadas) que suben a la pirámide tiene 91 escalones, con un escalón final en la parte superior para un total de 365, la cantidad de días en un año solar. Noventa y uno es también el número de días que separan cada una de las cuatro fases del ciclo solar anual: solsticio de invierno, equinoccio de primavera, solsticio de verano y equinoccio de otoño."
   ]
  },
  {
   "cell_type": "markdown",
   "metadata": {},
   "source": [
    "Necesitamos algunas líneas rectas y la forma aérea de nuestra pirámide, así que algunas definiciones más."
   ]
  },
  {
   "cell_type": "code",
   "execution_count": null,
   "metadata": {},
   "outputs": [],
   "source": [
    "#Ecuación de la línea recta\n",
    "def line(x,m):\n",
    "    return np.tan(-m+np.pi/2)*x\n",
    "\n",
    "\n",
    "#Dibuja una linea y su descripción\n",
    "def draw_lines(x,y,text=None):\n",
    "    for i in range(3):\n",
    "        ax.plot(x,y[i])\n",
    "        \n",
    "        ax.scatter(x[4],y[i][4],marker='o',color='black')\n",
    "        ax.scatter(x[25],y[i][25],marker='o',color='black')\n",
    "        \n",
    "        if text!=None:\n",
    "            ax.text(x[4]+5,y[i][4]+1,text[i][0], ha='center')\n",
    "            ax.text(x[25]-5,y[i][4]+1,text[i][1], ha='center')\n",
    "\n",
    "#Dibuja el Castillo \n",
    "def draw_kukulkan(ax):\n",
    "    for i in range (2,10):\n",
    "        j=12-i\n",
    "        if (j==3):rectangle=patches.Rectangle((-j,-j),2*j,2*j, color='black', alpha=0.5)\n",
    "        else: rectangle=patches.Rectangle((-j,-j),2*j,2*j, color='red', alpha=0.2)\n",
    "        t = mpl.transforms.Affine2D().rotate_deg_around(0,0,angle) + ax.transData\n",
    "        rectangle.set_transform(t)\n",
    "        ax.add_patch(rectangle)\n",
    "            #ax.add_patch(rectangle2)\n",
    "\n",
    "    for i in range (4):\n",
    "        a=[[-1.5,3],[-1.5,-11],[3,-1.5],[-11,-1.5]]\n",
    "        if i<=1:rectangle=patches.Rectangle((a[i]),3,8, color='black', alpha=0.5)\n",
    "        else:rectangle=patches.Rectangle((a[i]),8,3, color='black', alpha=0.5)\n",
    "        t = mpl.transforms.Affine2D().rotate_deg_around(0,0,angle) + ax.transData\n",
    "        rectangle.set_transform(t)\n",
    "        ax.add_patch(rectangle)"
   ]
  },
  {
   "cell_type": "markdown",
   "metadata": {},
   "source": [
    "Ahora calculemos el ángulo relevante para nuestro diseño y algunas trayectorias de rayos de luz durante la puesta de sol."
   ]
  },
  {
   "cell_type": "code",
   "execution_count": null,
   "metadata": {},
   "outputs": [],
   "source": [
    "x         = np.linspace(-30,30,30)\n",
    "y         = [line(x,equinox_rise[1]),line(x,summer_solstice_set[1]),line(x,summer_solstice_rise[1])]\n",
    "\n",
    "angle     =(-summer_solstice_rise[1]+np.pi/4)/np.pi*180\n",
    "anglerad  = -summer_solstice_rise[1]+np.pi/4\n",
    "\n",
    "rayshighx = np.array([x[4],10*(-np.cos(anglerad)-np.sin(anglerad))])\n",
    "rayshighy = np.array([y[2][4],10*(np.cos(anglerad)-np.sin(anglerad))])\n",
    "rayslowx  = np.array([x[4],10*(np.cos(anglerad)+np.sin(anglerad))])\n",
    "rayslowy  = np.array([y[2][4],10*(-np.cos(anglerad)+np.sin(anglerad))])"
   ]
  },
  {
   "cell_type": "markdown",
   "metadata": {},
   "source": [
    "Antes de colocar el diseño de la pirámide, necesitamos la referencia de solisticios y equinoccios en la posición del Mayastrónomo."
   ]
  },
  {
   "cell_type": "code",
   "execution_count": null,
   "metadata": {},
   "outputs": [],
   "source": [
    "fig1,ax= plt.subplots(figsize=(7,7))\n",
    "ax.set_xlim(-25,25)\n",
    "ax.set_ylim(-25,25)\n",
    "text=[[\"Equinoccio de primavera/otoño\\nAmanecer \\n%s\"%equinox_rise[0].strftime(\"%d/%m/%Y %H:%M:%S\"),\"Equinoccio de primavera/otoño\\nAtardecer \\n%s\" %equinox_set[0].strftime(\"%d/%m/%Y %H:%M:%S\")],\n",
    "     [\"Solsticio de verano\\nAmanecer - Junio 21\\n%s\"%summer_solstice_rise[0].strftime(\"%d/%m/%Y %H:%M:%S\"),\"Solsticio de verano\\nAtardecer - Junio 21\\n%s\"%summer_solstice_set[0].strftime(\"%d/%m/%Y %H:%M:%S\")],\n",
    "    [\"Solsticio de invierno\\nAmanecer - Dic. 21\\n%s\"%winter_solstice_rise[0].strftime(\"%d/%m/%Y %H:%M:%S\"),\"Solsticio de invierno\\nAtardecer - Dic. 21\\n%s\" %winter_solstice_set[0].strftime(\"%d/%m/%Y %H:%M:%S\")]]\n",
    "\n",
    "draw_lines(x,y,text=text)\n",
    "    \n",
    "circle=patches.Circle((0,0),radius=4, color='cyan', alpha=1)\n",
    "ax.add_patch(circle)\n",
    "plt.show()"
   ]
  },
  {
   "cell_type": "markdown",
   "metadata": {},
   "source": [
    "Hora de colocar el diseño de la pirámide en el sitio y alinearlo con el eje del solsticio de invierno."
   ]
  },
  {
   "cell_type": "code",
   "execution_count": null,
   "metadata": {},
   "outputs": [],
   "source": [
    "fig2,ax= plt.subplots(figsize=(7,7))\n",
    "ax.set_xlim(-25,25)\n",
    "ax.set_ylim(-25,25)\n",
    "\n",
    "#lineas de referencia\n",
    "text=[[\"Amanecer\\nEquinoccios\",\"Atardecer\\nEquinoccios\"],\n",
    "      [\"Amanecer\\nJunio 21\",\"Atardecer\\nJunio 21\"],[\"Amanecer\\nDic. 21\",\"Atardecer\\nDic. 21\"]]\n",
    "draw_lines(x,y,text=text)\n",
    "\n",
    "#Dibujar pirámide\n",
    "circle=patches.Circle((0,0),radius=4, color='cyan', alpha=1)\n",
    "ax.add_patch(circle)\n",
    "draw_kukulkan(ax=ax)\n",
    "\n",
    "plt.show()"
   ]
  },
  {
   "cell_type": "markdown",
   "metadata": {},
   "source": [
    "Observe los rayos de luz del sol en la puesta del sol del solsticio de invierno."
   ]
  },
  {
   "cell_type": "code",
   "execution_count": null,
   "metadata": {},
   "outputs": [],
   "source": [
    "fig3,ax= plt.subplots(figsize=(7,7))\n",
    "ax.set_xlim(-25,25)\n",
    "ax.set_ylim(-25,25)\n",
    "\n",
    "#lineas de referencia\n",
    "draw_lines(x,y,text=text)\n",
    "\n",
    "#Dibujar pirámide\n",
    "draw_kukulkan(ax=ax)\n",
    "\n",
    "#Dibujar rayos de luz\n",
    "ax.fill(np.append(rayshighx, rayslowx[::-1]),np.append(rayshighy, rayslowy[::-1]), color='yellow', alpha=0.2)\n",
    "ax.text(x[4],y[2][4]-7,\"Atardecer - %s\\nMedia pirámide en completa oscuridad\" %winter_solstice_set[0].strftime(\"%d/%m/%Y %H:%M:%S\"))\n",
    "plt.show()"
   ]
  },
  {
   "cell_type": "markdown",
   "metadata": {},
   "source": [
    "Ahora el famoso espectáculo: cuando el sol se pone en los equinoccios de primavera y otoño, Kukulkan (que significa _serpiente emplumada_ en maya) desciende por la escalera norte."
   ]
  },
  {
   "cell_type": "code",
   "execution_count": null,
   "metadata": {},
   "outputs": [],
   "source": [
    "fig4,ax= plt.subplots(figsize=(7,7))\n",
    "ax.set_xlim(-25,25)\n",
    "ax.set_ylim(-25,25)\n",
    "\n",
    "#Lineas de referencia\n",
    "draw_lines(x,y,text=text)\n",
    "#Dibujar pirámide\n",
    "draw_kukulkan(ax=ax)\n",
    "\n",
    "#Dibujar rayos de luz\n",
    "for i in range(6):\n",
    "            raystairsx=np.array([x[4],-1.5*np.cos(anglerad)-(11-i*1.5)*np.sin(anglerad)])\n",
    "            raystairsy=np.array([y[0][4],(11-i*1.5)*np.cos(anglerad)-1.5*np.sin(anglerad)])\n",
    "            ax.plot(raystairsx,raystairsy,'y-')\n",
    "            \n",
    "ax.text(x[4],y[1][4]+5,\"Puesta Sol - %s\\n Los siete triángulos de luz\" %summer_solstice_set[0].strftime(\"%d/%m/%Y %H:%M:%S\"))\n",
    "plt.show()"
   ]
  },
  {
   "cell_type": "markdown",
   "metadata": {},
   "source": [
    "Finalmente, veamos cómo se compara tu diseño con la pirámide de Kukulkan. ¿Se mueve mucho El Castillo? Vuelve arriba para establecer nuevas coordenadas para el _mayastronomer_, incluidas las ubicaciones en el hemisferio norte / sur. ¿Cuándo obtienes una diferencia significativa?"
   ]
  },
  {
   "cell_type": "code",
   "execution_count": null,
   "metadata": {},
   "outputs": [],
   "source": [
    "fig5,ax= plt.subplots(figsize=(7,6))\n",
    "\n",
    "img= plt.imread(\"images/kukulkan.png\") #imagen original de Chichen Itze de Google Maps\n",
    "ax.imshow(img)\n",
    "\n",
    "# Alineación de tu diseño piramidal\n",
    "rectangle=patches.Rectangle((188,178),190,190, color='red', alpha=0.5) \n",
    "t = mpl.transforms.Affine2D().rotate_deg_around(294,264,-angle+0*45) + ax.transData\n",
    "rectangle.set_transform(t)\n",
    "ax.add_patch(rectangle)\n",
    "\n",
    "ax.text(120,70,\"Chichen Itza: 20.6829703, -88.5692032\\nYour location: {}, {}\".format(mayastronomer.lat, mayastronomer.lon), backgroundcolor='white')\n",
    "plt.show()"
   ]
  },
  {
   "cell_type": "markdown",
   "metadata": {},
   "source": [
    "A minutos de Kukulkan se encuentra el Observatorio 'El Caracol', fue fundamental para el negocio de la Astronomía Maya, donde las observaciones de Venus eran de (casi) importancia religiosa."
   ]
  },
  {
   "cell_type": "markdown",
   "metadata": {},
   "source": [
    "<img src=\"images/caracol.jpg\" alt=\"Drawing\" style=\"width: 800px;\"/>"
   ]
  },
  {
   "cell_type": "markdown",
   "metadata": {},
   "source": [
    "El Caracol, como la pirámide de Kukulkan, estaba cuidadosamente alineado con los movimientos de Venus, ya que \"él\" (este género usaban los mayas) tenía un significado tremendo; este brillante planeta era considerado el gemelo del sol y un dios de la guerra. Los líderes mayas utilizaron la posición cambiante de Venus para planificar tiempos apropiados para incursiones y batallas. En el Caracol, apodado 'el Observatorio', ventanas estrechas en forma de eje enmarcan importantes eventos astronómicos. Una de esas ventanas marca la aparición de Venus en un punto particular del horizonte que tiene lugar, como un reloj, una vez cada ocho años."
   ]
  },
  {
   "cell_type": "markdown",
   "metadata": {},
   "source": [
    "Usemos ephem para observar y comprender a Venus, como lo hicieron los mayas en el Caracol."
   ]
  },
  {
   "cell_type": "code",
   "execution_count": null,
   "metadata": {},
   "outputs": [],
   "source": [
    "# Fecha y hora de primer aparición:  2020/1/2 03:01:29\n",
    "# Primer amanecer;  print(chichen_itza.previous_rising(sun))\n",
    "\n",
    "# Definir nuestra primera observación en Enero 1, 2020 a las 23:52 y un poquito más!\n",
    "start_date         = datetime.datetime(2020, 1,   1)\n",
    "start_time         = datetime.time(23, 52, 2)\n",
    "start_datetime     = datetime.datetime.combine(start_date.date(), start_time)\n",
    "\n",
    "# Calcularemos la posición de Venus hasta el 2030. \n",
    "end_date           = datetime.datetime(2030, 1, 1)\n",
    "\n",
    "# cada hora \n",
    "delta              = datetime.timedelta(hours=1)\n",
    "\n",
    "# guardemos la fecha y hora de 'cada observación'\n",
    "datetimes          = []\n",
    "\n",
    "# Guarda la posición angular.\n",
    "angular_pos        = []\n",
    "\n",
    "# Almacenará la [magnitud (brillo), diámetro en segundos de arco, distancia desde la Tierra, fase y separación\n",
    "# de Venus desde el sol en grados (alargamiento o alargamiento)].\n",
    "props              = []\n",
    "\n",
    "# Guarde la hora del amanecer de cada día.\n",
    "sunrises           = []\n",
    "\n",
    "while start_datetime  <= end_date:    \n",
    "    start_datetime += delta\n",
    "    \n",
    "    # Establece nuestra fecha y hora de observación.\n",
    "    mayastronomer.date    = start_datetime.strftime(\"%Y/%m/%d %H:%M:%S\")\n",
    "\n",
    "    # Calcula todo del sol y venus\n",
    "    sun.compute(mayastronomer)\n",
    "    venus.compute(mayastronomer)\n",
    "    \n",
    "    datetimes.append(start_datetime)\n",
    "\n",
    "    props.append([venus.mag, venus.size, venus.earth_distance, venus.phase, venus.elong])\n",
    "    \n",
    "    # alt o altitud es la altura del sol y Venus sobre el horizonte en grados. ¡Una altitud de 90 grados estaría \n",
    "    # justo encima tuyo! Esto también se conoce como el \"cenit\" entre los profesionales.\n",
    "    angular_pos.append([mayastronomer.date, sun.alt, venus.az, venus.alt])\n",
    "\n",
    "    sunrises.append(mayastronomer.previous_rising(sun))\n",
    "    \n",
    "    # print('{} \\t {:f} \\t {:f} \\t {} \\t {}'.format(chichen_itza.date, venus.az, venus.alt, chichen_itza.next_rising(venus), chichen_itza.next_transit(venus)))"
   ]
  },
  {
   "cell_type": "code",
   "execution_count": null,
   "metadata": {},
   "outputs": [],
   "source": [
    "# Hemos estado recopilando cosas en 'listas' (lists), pero convertirlas en matrices de numpy es mucho más fácil para hacer cálculos.\n",
    "angular_pos = np.array(angular_pos)\n",
    "props       = np.array(props)\n",
    "sunrises    = np.array(sunrises)"
   ]
  },
  {
   "cell_type": "code",
   "execution_count": null,
   "metadata": {},
   "outputs": [],
   "source": [
    "# Convertimos los radianos en grados\n",
    "angular_pos[:,1:] *= 180. / np.pi"
   ]
  },
  {
   "cell_type": "code",
   "execution_count": null,
   "metadata": {},
   "outputs": [],
   "source": [
    "# sunrises (amaneceres) es una serie de números que representan la fecha y hora de la observación, donde un número mayor es\n",
    "# una observación posterior. Aquí, vamos a empezar con el reloj en el momento en que veamos que Venus y el sol están muy juntos.\n",
    "sunrises   -= 44567"
   ]
  },
  {
   "cell_type": "code",
   "execution_count": null,
   "metadata": {},
   "outputs": [],
   "source": [
    "# Una lista de los colores de las líneas que trazaremos.\n",
    "color_cycle = plt.rcParams['axes.prop_cycle'].by_key()['color']"
   ]
  },
  {
   "cell_type": "code",
   "execution_count": null,
   "metadata": {},
   "outputs": [],
   "source": [
    "fix, ax     = plt.subplots(1, 1, figsize=(20, 7.5))  \n",
    "\n",
    "# http://articles.adsabs.harvard.edu//full/1991JRASC..85..291W/0000299.000.html    \n",
    "ax.plot(sunrises, props[:,-1], c='k')\n",
    "    \n",
    "ax.set_xlabel('Tiempo en días')\n",
    "ax.set_ylabel('Separación Sol-Venus (alargamiento) en grados.')\n",
    "\n",
    "ax.set_xlim(left=-10, right=590)\n",
    "    \n",
    "ax.axhline(0.0, alpha=0.5, c='k')\n",
    "    \n",
    "ax.axvline(0.,   lw=0.4, c ='gold')\n",
    "ax.axvline(263., lw=0.4)\n",
    "ax.axvline(313., lw=0.4)\n",
    "ax.axvline(576., lw=0.4)\n",
    "ax.axvline(584., lw=0.4, c='red')\n",
    "    \n",
    "ax.text(x=0,   y=0.75, s='Lub', horizontalalignment='center', fontsize=12)\n",
    "ax.text(x=100, y=0.75, s='Estrella de la mañana \\n (~ un Tzolk\\'in)', horizontalalignment='center', fontsize=12)\n",
    "ax.text(x=290, y=0.75, s='Conjuncción\\n Superior ', horizontalalignment='center', fontsize=12)\n",
    "ax.text(x=365, y=0.75, s='Haab', horizontalalignment='center', fontsize=12)\n",
    "ax.text(x=450, y=0.75, s='Estrella del atardecer', horizontalalignment='center', fontsize=12)\n",
    "ax.text(x=567, y=0.75, s='Conjuncción\\n Inferior', horizontalalignment='center', fontsize=12)\n",
    "    \n",
    "# pl.savefig('images/venus.pdf')"
   ]
  },
  {
   "cell_type": "markdown",
   "metadata": {},
   "source": [
    "Para los mayas, ¡esta fue una curva increíblemente especial, tanto así, que diseñaron (uno de) sus calendarios, el Tzolk'in, basándose en él! Este calendario comenzaría en el Lub, cuando Venus estaba tan cerca del sol ('alargamiento' $\\simeq 0.0$) que estaría completamente oculto. Pronto, mientras observaba el horizonte cerca de la salida del sol todos los días, Venus se convertiría en una 'Estrella de la Mañana'. Venus se elevaría por encima del horizonte hasta unas pocas horas antes de que el brillo del Sol lo ahogara. ¿Por qué no levantarse temprano un día y verlo?"
   ]
  },
  {
   "cell_type": "markdown",
   "metadata": {},
   "source": [
    "Venus continuaría siendo una estrella de la mañana durante 263 días, momento en el que los caminos del Sol y Venus estarían tan cerca cada día que el brillo del Sol lo protegería por completo. En astronomía amateur y profesional, esto se conoce como la 'Conjunción Superior', que dura 50 días. La duración de 263 días de la Estrella de la Mañana continuaría para definir el año Tzolk'in."
   ]
  },
  {
   "cell_type": "code",
   "execution_count": null,
   "metadata": {},
   "outputs": [],
   "source": [
    "Image(filename='images/venus.jpg')"
   ]
  },
  {
   "cell_type": "markdown",
   "metadata": {},
   "source": [
    "¡Llevamos 365 días, un año para nosotros o un Haab para los Mayas! En este punto, Venus es una 'estrella vespertina'. Ahora del otro lado del Sol, Venus está siguiendo al Sol en el cielo y se ilumina a la vista poco después de que el Sol se pone, cuando el cielo está lo suficientemente oscuro como para ser visible. Cuando Venus está en su punto más brillante, se vuelve visible minutos después de que el Sol se pone."
   ]
  },
  {
   "cell_type": "markdown",
   "metadata": {},
   "source": [
    "La 'conjunción Inferior' cierra el 'período sinódico' de Venus, exactamente igual que el superior pero por 8 días mucho más cortos. Al final del período sinódico, 584 días, el día de Ground Hog comienza de nuevo para Venus, cuando todo se repite."
   ]
  },
  {
   "cell_type": "markdown",
   "metadata": {},
   "source": [
    "Tan complicado es el acto de desaparición de Venus que los antiguos Griegos lo malinterpretaron como dos estrellas diferentes. Los Mayas lo entendieron mejor y reconocieron a Venus, tanto en el cielo de la mañana como en el de la tarde, como el mismo."
   ]
  },
  {
   "cell_type": "code",
   "execution_count": null,
   "metadata": {},
   "outputs": [],
   "source": [
    "fix, ax     = plt.subplots(1, 1, figsize=(20, 7.5))  \n",
    "\n",
    "# http://articles.adsabs.harvard.edu//full/1991JRASC..85..291W/0000299.000.html    \n",
    "ax.plot(sunrises, -10. * props[:,0], label='Magnitud')\n",
    "ax.plot(sunrises,  10. * props[:,2], label='Distancia')\n",
    "ax.plot(sunrises,        props[:,1], label='Diámetro')\n",
    "ax.plot(sunrises,        props[:,3], label='Fase')    \n",
    "    \n",
    "ax.set_xlabel('Tiempo en días')\n",
    "ax.set_ylabel('Separación Sol-Venus (alargamiento) en grados.')\n",
    "\n",
    "ax.set_xlim(left=-10, right=590)\n",
    "        \n",
    "ax.axvline(0.,   lw=0.4, c ='gold')\n",
    "ax.axvline(263., lw=0.4)\n",
    "ax.axvline(313., lw=0.4)\n",
    "ax.axvline(576., lw=0.4)\n",
    "ax.axvline(584., lw=0.4, c='red')\n",
    "    \n",
    "yy = 90.\n",
    "    \n",
    "ax.text(x=0,   y=yy, s='Lub', horizontalalignment='center', fontsize=12)\n",
    "ax.text(x=100, y=yy, s='Estrella de la mañana \\n (~ un Tzolk\\'in)', horizontalalignment='center', fontsize=12)\n",
    "ax.text(x=290, y=yy, s='Conjunction\\n Superior', horizontalalignment='center', fontsize=12)\n",
    "ax.text(x=365, y=yy, s='Haab', horizontalalignment='center', fontsize=12)\n",
    "ax.text(x=450, y=yy, s='Estrella de la tarde \\n (~ un Tzolk\\'in)', horizontalalignment='center', fontsize=12)\n",
    "ax.text(x=567, y=yy, s='Conjunction\\n Inferior ', horizontalalignment='center', fontsize=12)\n",
    "\n",
    "ax.legend(frameon=True, loc=3)"
   ]
  },
  {
   "cell_type": "markdown",
   "metadata": {},
   "source": [
    "Es un hecho que el período sinódico de Venus (584 días) se relaciona con el período orbital de la tierra (365 días), en una proporción relativamente simple de 5:8. Cinco veces el período sinódico de Venus (5 x 584 días) son 2920 días. Si divide 2920 entre los 365 días de nuestro año, se obtiene 8. En resumen, los movimientos de Venus en relación con nuestro sol se repiten casi exactamente cada 8 años. Ocho años fue un intervalo fundamental para los antiguos mayas, que dependían en gran medida de los ciclos naturales."
   ]
  },
  {
   "cell_type": "markdown",
   "metadata": {},
   "source": [
    "¡Veamos cómo los mayas registraron esto en el año 500 d.C.!"
   ]
  },
  {
   "cell_type": "code",
   "execution_count": null,
   "metadata": {},
   "outputs": [],
   "source": [
    "# Calcularemos la posición angular de Venus para cada uno de los cinco ciclos sinódicos (584 días) que se requieren para que las cosas se repitan.\n",
    "cycles        = {}"
   ]
  },
  {
   "cell_type": "code",
   "execution_count": null,
   "metadata": {},
   "outputs": [],
   "source": [
    "for i in range(5):\n",
    "  zero        = 584. * i\n",
    "\n",
    "  # El sol está por arriba del horizonte\n",
    "  in_cycle    = (sunrises >= zero)        & (sunrises < zero + 585.) & (angular_pos[:,1] > 0.)\n",
    "\n",
    "  in_morning  = (sunrises >= zero)        & (sunrises < zero + 263.) & (angular_pos[:,1] > 0.)\n",
    "  in_superior = (sunrises >= zero + 263.) & (sunrises < zero + 313.) & (angular_pos[:,1] > 0.)\n",
    "  in_evening  = (sunrises >= zero + 313.) & (sunrises < zero + 576.) & (angular_pos[:,1] > 0.)\n",
    "  in_inferior = (sunrises >= zero + 576.) & (sunrises < zero + 584.) & (angular_pos[:,1] > 0.)\n",
    "\n",
    "  cycles[i]   = [in_morning, in_superior, in_evening, in_inferior]"
   ]
  },
  {
   "cell_type": "code",
   "execution_count": null,
   "metadata": {},
   "outputs": [],
   "source": [
    "labels        = ['Estrella de la mañana', 'Superior', 'Estrella de la tarde', 'Inferior'] \n",
    "\n",
    "def plot_mayan(cycle, epoch, ext=None):\n",
    "  fig, ax     = plt.subplots(1, 1, figsize=(15, 5.))\n",
    "\n",
    "  im          = PImage.open('images/Mayan_Morning_{}.png'.format(cycle))  \n",
    "    \n",
    "  width, height = im.size\n",
    "\n",
    "  size        = 256, 256\n",
    "  im.thumbnail(size, PImage.ANTIALIAS)\n",
    "\n",
    "  im          = np.array(im).astype(np.float) / 255 \n",
    "\n",
    "  color       = color_cycle[cycle]\n",
    "  sample      = cycles[cycle][epoch]\n",
    "  label       = labels[epoch]\n",
    "\n",
    "  # for i, (color, sample, label) in enumerate(zip(color_cycle, cycles[j], labels)):\n",
    "  ax.plot(angular_pos[sample,2],    angular_pos[sample,3],    c=color, lw=0.0, marker='.', label=label)\n",
    "  ax.plot(angular_pos[sample,2][0], angular_pos[sample,3][0], c='k', lw=0.0, marker='.')\n",
    "  \n",
    "  ax.legend(frameon=False, loc=1)\n",
    "  \n",
    "  ax.set_xlim(left=360., right=0.0)\n",
    "\n",
    "  if ext is not None:\n",
    "    title = 'Venus como la ' + label + ':  ' + ext\n",
    "\n",
    "  else:\n",
    "    title = 'Venus como la ' + label\n",
    "    \n",
    "  ax.set_title(title)\n",
    "    \n",
    "  fig.figimage(im, 320, 30)"
   ]
  },
  {
   "cell_type": "code",
   "execution_count": null,
   "metadata": {
    "scrolled": true
   },
   "outputs": [],
   "source": [
    "plot_mayan(0, 0, ext='Primer ciclo')"
   ]
  },
  {
   "cell_type": "code",
   "execution_count": null,
   "metadata": {},
   "outputs": [],
   "source": [
    "plot_mayan(1, 0, ext='Segundo ciclo')"
   ]
  },
  {
   "cell_type": "code",
   "execution_count": null,
   "metadata": {},
   "outputs": [],
   "source": [
    "plot_mayan(2, 0, ext='Tercer ciclo')"
   ]
  },
  {
   "cell_type": "code",
   "execution_count": null,
   "metadata": {},
   "outputs": [],
   "source": [
    "plot_mayan(3, 0, ext='Cuarto ciclo')"
   ]
  },
  {
   "cell_type": "code",
   "execution_count": null,
   "metadata": {},
   "outputs": [],
   "source": [
    "plot_mayan(4, 0, ext='Quinto ciclo')"
   ]
  },
  {
   "cell_type": "markdown",
   "metadata": {},
   "source": [
    "En este punto, después de ocho años, Venus y el Sol regresan al mismo punto en el cielo y ¡la danza comienza de nuevo! Los mayas documentaron este comportamiento religiosamente, en lo que hoy se conoce como el Códice de Dresde:"
   ]
  },
  {
   "cell_type": "code",
   "execution_count": null,
   "metadata": {},
   "outputs": [],
   "source": [
    "Image(filename='images/DresdenCodex.jpg')"
   ]
  },
  {
   "cell_type": "markdown",
   "metadata": {},
   "source": [
    "En el Codex, página tras página, los Mayas registraron las fechas en las que Venus pasó de estrella matutina a conjunción superior, lucero vespertino, orden inferior, etc., con una precisión increíble. En comparación con la precisión moderna, a menudo erraban por uno o unos pocos días. Los mayas no hacían fracciones, por lo que era difícil atinarle exactamente."
   ]
  },
  {
   "cell_type": "markdown",
   "metadata": {},
   "source": [
    "Cada página tendría una fila de cuatro fechas, marcando estas transiciones. La misma fila en cinco páginas consecutivas registraría estas mismas transiciones para los cinco ciclos sinódicos (de 584 días) completando un Lub, o 2920 días, cuando el sol y Venus comenzarían la misma danza nuevamente."
   ]
  },
  {
   "cell_type": "markdown",
   "metadata": {},
   "source": [
    "Después de trece lubs, o 104 Haab (años), la mesa regresa a su Lubay o \"gran lugar de descanso\" donde todos los ciclos comienzan de nuevo: el sol y Venus han regresado a las posiciones iniciales el primer día de un año Tzolk'in. Entonces todo el ciclo se repite. El Universo debe haber parecido en perfecta armonía con su mundo en ese día de Ahaw cuando se alcanzó el Lubay y los trece ciclos de Venus comienzan de nuevo."
   ]
  },
  {
   "cell_type": "code",
   "execution_count": null,
   "metadata": {},
   "outputs": [],
   "source": [
    "# print(365. * 104, 260 * 146., 584. * 65., 2920. * 13)"
   ]
  },
  {
   "cell_type": "markdown",
   "metadata": {},
   "source": [
    "# NOTICIAS DE ÚLTIMO MOMENTO"
   ]
  },
  {
   "cell_type": "markdown",
   "metadata": {},
   "source": [
    "¡Quizás los mayas tenían razón todo el tiempo! En un giro inesperado, el Lunes 14 de Septiembre de 2020, científicos anunciaron la primera evidencia de vida en Venus, ¡justo a tiempo para el Mes Nacional Hispano y el desafío DESI High!"
   ]
  },
  {
   "cell_type": "code",
   "execution_count": null,
   "metadata": {},
   "outputs": [],
   "source": [
    "Image(filename='images/VenusLife.png')"
   ]
  },
  {
   "cell_type": "markdown",
   "metadata": {},
   "source": [
    "Mira [aquí](https://www.nytimes.com/2020/09/14/science/venus-life-clouds.html) para aprender más al respecto."
   ]
  },
  {
   "cell_type": "markdown",
   "metadata": {},
   "source": [
    "# Hispanoamericanos en DESI"
   ]
  },
  {
   "cell_type": "markdown",
   "metadata": {},
   "source": [
    "Este cuaderno es solo un ejemplo de lo que podrías hacer. Para mejorar, ¡nos gustaría que enviaras tu propio material! Eso podría agregarse al ejemplo Maya anterior usando pyephem, o bien, acercarse al trabajo de los primeros astrónomos profesionales hispanoamericanos o realizar un divertido experimento de python que resalte tu trabajo en DESI. Si envías una entrada, o incluso si no lo haces, te pedimos que agregues una introducción tuya de tus intereses en nuestra carpeta dedicada. Alma y Mariana, nuestras primeras traductoras de DESI High (¡gracias por eso!), han aportado ejemplos ([aquí](https://github.com/michaelJwilson/DESI-HighSchool/blob/master/Espanol/Profiles/example.md) y aquí) para mostrarte cómo hacerlo."
   ]
  },
  {
   "cell_type": "code",
   "execution_count": null,
   "metadata": {},
   "outputs": [],
   "source": [
    "Image(filename='images/Challenge1.png')"
   ]
  },
  {
   "cell_type": "markdown",
   "metadata": {},
   "source": [
    "¡Ve a https://github.com/michaelJwilson/DESI-HighSchool/issues/19 para empezar con el reto!"
   ]
  }
 ],
 "metadata": {
  "kernelspec": {
   "display_name": "Python 3",
   "language": "python",
   "name": "python3"
  },
  "language_info": {
   "codemirror_mode": {
    "name": "ipython",
    "version": 3
   },
   "file_extension": ".py",
   "mimetype": "text/x-python",
   "name": "python",
   "nbconvert_exporter": "python",
   "pygments_lexer": "ipython3",
   "version": "3.7.9"
  },
  "latex_envs": {
   "LaTeX_envs_menu_present": true,
   "autoclose": false,
   "autocomplete": true,
   "bibliofile": "biblio.bib",
   "cite_by": "apalike",
   "current_citInitial": 1,
   "eqLabelWithNumbers": true,
   "eqNumInitial": 1,
   "hotkeys": {
    "equation": "Ctrl-E",
    "itemize": "Ctrl-I"
   },
   "labels_anchors": false,
   "latex_user_defs": false,
   "report_style_numbering": false,
   "user_envs_cfg": false
  },
  "nbTranslate": {
   "displayLangs": [
    "*"
   ],
   "hotkey": "alt-t",
   "langInMainMenu": true,
   "sourceLang": "en",
   "targetLang": "fr",
   "useGoogleTranslate": true
  }
 },
 "nbformat": 4,
 "nbformat_minor": 4
}
