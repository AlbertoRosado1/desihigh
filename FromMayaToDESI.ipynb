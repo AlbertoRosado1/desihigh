{
 "cells": [
  {
   "cell_type": "code",
   "execution_count": null,
   "metadata": {},
   "outputs": [],
   "source": [
    "import PIL\n",
    "import ephem\n",
    "import datetime\n",
    "import matplotlib         as    mpl\n",
    "import pylab              as    pl\n",
    "import numpy              as    np\n",
    "import matplotlib.pyplot  as    plt\n",
    "import matplotlib.patches as    patches\n",
    "\n",
    "from   IPython.display   import Image\n",
    "from   matplotlib        import animation, rc\n",
    "from   IPython.display   import HTML\n",
    "from   PIL               import Image           as PImage\n",
    "from   IPython.display   import YouTubeVideo"
   ]
  },
  {
   "cell_type": "code",
   "execution_count": null,
   "metadata": {},
   "outputs": [],
   "source": [
    "%matplotlib inline"
   ]
  },
  {
   "cell_type": "markdown",
   "metadata": {},
   "source": [
    "# From Maya to DESI"
   ]
  },
  {
   "cell_type": "markdown",
   "metadata": {},
   "source": [
    "From 1800 BC to 900 AD, the Maya civilization excelled at agriculture, pottery, hieroglyph writing, calendar-making and mathematics across present day Honduras, Mexico, Guatemala and Belize. With an astonishing legacy of architecture and symbolic artwork, their formidable understanding of the heavens is perhaps the most impressive - certainly to us!"
   ]
  },
  {
   "cell_type": "markdown",
   "metadata": {},
   "source": [
    "The Maya were expert sky-watchers, careful observers of the motions of the celestial bodies. Proof of the Mayan fascination with astronomy is carved into stone at the grand architecture sites of Chichén Itzá, Uxmal, Uaxactun, Edzna, Palenque and many more. As we'll see (!), often the buildings they adorn have been built to align with significant cyclical astronomical events—solstices, equinoxes, the shifting moon, or the rise of planets."
   ]
  },
  {
   "cell_type": "markdown",
   "metadata": {},
   "source": [
    "<img src=\"images/ChichenItza.jpg\" alt=\"Drawing\" style=\"width: 800px;\"/>"
   ]
  },
  {
   "cell_type": "markdown",
   "metadata": {},
   "source": [
    "At Chichén Itzá, two structures bear witness to Mayan astronomy: Kukulkan and El Caracol.  Kukulkan, or El Castillo - 'the castle' - in Spanish, at the center of Chichén Itzá is a 79-foot (24 m) pyramid of stone.  Every year, tens of thousands of visitors flock to Chichén Itzá to see 'the snake', an apparition made of shadows that descends the stairs at El Castillo during the solar equinoxes each spring and fall.  \n",
    "\n",
    "This famous event occurs twice each year, at the spring and fall equinoxes. (In fact, the effect is viewable for a week before and after each equinox.)  As the equinox sun sets, a play of light and shadow creates the appearance of a snake that gradually undulates down the stairway of the pyramid. This diamond-backed snake is composed of seven or so triangular shadows, cast by the stepped terraces of the pyramid. The sinking sun seems to give life to the sinuous shadows, which make a decidedly snaky pattern on their way down the stairs."
   ]
  },
  {
   "cell_type": "code",
   "execution_count": null,
   "metadata": {},
   "outputs": [],
   "source": [
    "YouTubeVideo('Zvv9EnBuem4', width=800, height=400)"
   ]
  },
  {
   "cell_type": "markdown",
   "metadata": {},
   "source": [
    "Using the awesome Ephem package, let's see how this works!  First we'll define our sun, and the Mayan's favourite planet, Venus.  These 'class instances' allow us to ask them later on at what position the sun is at a given time, for instance.   "
   ]
  },
  {
   "cell_type": "code",
   "execution_count": null,
   "metadata": {},
   "outputs": [],
   "source": [
    "venus = ephem.Venus()\n",
    "sun   = ephem.Sun()\n",
    "\n",
    "venus.compute('2020/09/11 00:50:22')\n",
    "\n",
    "print(venus.ra, venus.dec, ephem.constellation(venus)[1])"
   ]
  },
  {
   "cell_type": "markdown",
   "metadata": {},
   "source": [
    "So Venus is in the Cancer constellation tonight!  We'll also define the position (latitude and longitude of our Mayan astronomer). The default _Mayastronomer_ coordinates are those of El Castillo in Chichen Itza, but feel free to choose your own."
   ]
  },
  {
   "cell_type": "code",
   "execution_count": null,
   "metadata": {},
   "outputs": [],
   "source": [
    "mayastronomer         = ephem.Observer()\n",
    "\n",
    "# Ordinary latitude and longitude of the Mayan Astronomer. Default coordinates: El Castillo at Chichen Itza.\n",
    "mayastronomer.lat     = '20.683056'\n",
    "mayastronomer.lon     = '-88.568611'\n",
    "\n",
    "# \n",
    "mayastronomer.horizon = 0.0"
   ]
  },
  {
   "cell_type": "markdown",
   "metadata": {},
   "source": [
    "Now, let's find more about the Sun position to design our pyramid. We define the following functions which calculate the azimuthal angle at which the Sun sets or rises on the horizon during the two equinoxes (when the day and night last the same) or the two solstices (day with the longest or shortest night of the year)."
   ]
  },
  {
   "cell_type": "code",
   "execution_count": null,
   "metadata": {},
   "outputs": [],
   "source": [
    "def solar_position(year, date=None, event=\"next_rise\", ephem_event=ephem.next_equinox):\n",
    "    if date != None:\n",
    "        # Return solar position at event of a known date. \n",
    "        mayastronomer.date = date\n",
    "        \n",
    "        sun.compute(mayastronomer)\n",
    "        \n",
    "        return  sun.az, sun.alt \n",
    "               \n",
    "    else:\n",
    "        # Determines date and alzimuthal position of the sun for a named event, e.g. solstice or equinox. \n",
    "        if event == \"next_rise\":\n",
    "            mayastronomer.date = mayastronomer.next_rising(sun, start=ephem_event(year), use_center=True)\n",
    "\n",
    "        elif event == \"prev_setting\":\n",
    "            mayastronomer.date = mayastronomer.previous_setting(sun, start=ephem_event(year), use_center=True)\n",
    "    \n",
    "        elif event == \"next_setting\":\n",
    "            mayastronomer.date = mayastronomer.next_setting(sun, start=ephem_event(year), use_center=True)\n",
    "        \n",
    "        else:\n",
    "            raise  ValueError(\"Unacceptable event!\")\n",
    "        \n",
    "        sun.compute(mayastronomer)\n",
    " \n",
    "        return  ephem.localtime(mayastronomer.date), sun.az"
   ]
  },
  {
   "cell_type": "markdown",
   "metadata": {},
   "source": [
    "Choose a year (to build/visit your own pyramid), and evaluate the previously defined functions on that year."
   ]
  },
  {
   "cell_type": "code",
   "execution_count": null,
   "metadata": {},
   "outputs": [],
   "source": [
    "year                 = '2021'\n",
    "\n",
    "saz, salt            = solar_position(date='551/12/22 16:45:40', year='2021')\n",
    "\n",
    "# Time and azimuthal position of the rising and setting sun on the equinox - day on which length of night = length of day.\n",
    "equinox_rise         = solar_position(year, event=\"next_rise\", ephem_event=ephem.next_equinox)\n",
    "equinox_set          = solar_position(year, event=\"prev_setting\", ephem_event=ephem.previous_equinox)\n",
    "\n",
    "# Time and azimuthal position of the rising and setting sun on the winter solstice - shortest day of the year. \n",
    "winter_solstice_set  = solar_position(year, event=\"next_setting\", ephem_event=ephem.previous_solstice)\n",
    "winter_solstice_rise = solar_position(year, event=\"next_rise\", ephem_event=ephem.previous_solstice)\n",
    "\n",
    "# Time and azimuthal position of the rising and setting sun on the summer solstice - longest day of the year. \n",
    "summer_solstice_set  = solar_position(year, event=\"next_setting\", ephem_event = ephem.next_solstice)\n",
    "summer_solstice_rise = solar_position(year, event=\"next_rise\", ephem_event = ephem.next_solstice)"
   ]
  },
  {
   "cell_type": "markdown",
   "metadata": {},
   "source": [
    "Before working out a pyramid design, let's learn more about the original pyramid we want to copycat. The structure of el Castillo as a whole seems to be aligned with an important astronomical axis: the west plane of the pyramid faces the zenith passage sunset. Meanwhile, each of the four (exceedingly steep) stairways that climb the pyramid has 91 steps, with a final step at the top making a total of 365, the number of days in a solar year. Ninety-one is also the number of days that separate each of the four phases of the annual solar cycle: winter solstice, spring equinox, summer solstice, and fall equinox."
   ]
  },
  {
   "cell_type": "markdown",
   "metadata": {},
   "source": [
    "We need some straight lines and the aerial shape of our pyramid, so a few more definitions."
   ]
  },
  {
   "cell_type": "code",
   "execution_count": null,
   "metadata": {},
   "outputs": [],
   "source": [
    "#Equation of a straigh line\n",
    "def line(x,m):\n",
    "    return np.tan(-m+np.pi/2)*x\n",
    "\n",
    "\n",
    "#Draw line and add its description\n",
    "def draw_lines(x,y,text=None):\n",
    "    for i in range(3):\n",
    "        ax.plot(x,y[i])\n",
    "        \n",
    "        ax.scatter(x[4],y[i][4],marker='o',color='black')\n",
    "        ax.scatter(x[25],y[i][25],marker='o',color='black')\n",
    "        \n",
    "        if text!=None:\n",
    "            ax.text(x[4]+5,y[i][4]+1,text[i][0], ha='center')\n",
    "            ax.text(x[25]-5,y[i][4]+1,text[i][1], ha='center')\n",
    "\n",
    "#Draw el Castillo\n",
    "def draw_kukulkan(ax):\n",
    "    for i in range (2,10):\n",
    "        j=12-i\n",
    "        if (j==3):rectangle=patches.Rectangle((-j,-j),2*j,2*j, color='black', alpha=0.5)\n",
    "        else: rectangle=patches.Rectangle((-j,-j),2*j,2*j, color='red', alpha=0.2)\n",
    "        t = mpl.transforms.Affine2D().rotate_deg_around(0,0,angle) + ax.transData\n",
    "        rectangle.set_transform(t)\n",
    "        ax.add_patch(rectangle)\n",
    "            #ax.add_patch(rectangle2)\n",
    "\n",
    "    for i in range (4):\n",
    "        a=[[-1.5,3],[-1.5,-11],[3,-1.5],[-11,-1.5]]\n",
    "        if i<=1:rectangle=patches.Rectangle((a[i]),3,8, color='black', alpha=0.5)\n",
    "        else:rectangle=patches.Rectangle((a[i]),8,3, color='black', alpha=0.5)\n",
    "        t = mpl.transforms.Affine2D().rotate_deg_around(0,0,angle) + ax.transData\n",
    "        rectangle.set_transform(t)\n",
    "        ax.add_patch(rectangle)"
   ]
  },
  {
   "cell_type": "markdown",
   "metadata": {},
   "source": [
    "Now let us calculate the relevant angle for our design and some light ray trajectories during sunset."
   ]
  },
  {
   "cell_type": "code",
   "execution_count": null,
   "metadata": {},
   "outputs": [],
   "source": [
    "x         = np.linspace(-30,30,30)\n",
    "y         = [line(x,equinox_rise[1]),line(x,summer_solstice_set[1]),line(x,summer_solstice_rise[1])]\n",
    "\n",
    "angle     =(-summer_solstice_rise[1]+np.pi/4)/np.pi*180\n",
    "anglerad  = -summer_solstice_rise[1]+np.pi/4\n",
    "\n",
    "rayshighx = np.array([x[4],10*(-np.cos(anglerad)-np.sin(anglerad))])\n",
    "rayshighy = np.array([y[2][4],10*(np.cos(anglerad)-np.sin(anglerad))])\n",
    "rayslowx  = np.array([x[4],10*(np.cos(anglerad)+np.sin(anglerad))])\n",
    "rayslowy  = np.array([y[2][4],10*(-np.cos(anglerad)+np.sin(anglerad))])"
   ]
  },
  {
   "cell_type": "markdown",
   "metadata": {},
   "source": [
    "Before placing the pyramid design, we need the reference of solistices and equinoxes at the mayastronomer position"
   ]
  },
  {
   "cell_type": "code",
   "execution_count": null,
   "metadata": {},
   "outputs": [],
   "source": [
    "fig1,ax= plt.subplots(figsize=(7,7))\n",
    "ax.set_xlim(-25,25)\n",
    "ax.set_ylim(-25,25)\n",
    "text=[[\"Fall/spring equinox\\nSunrise \\n%s\"%equinox_rise[0].strftime(\"%d/%m/%Y %H:%M:%S\"),\"Fall/spring equinox\\nSunset \\n%s\" %equinox_set[0].strftime(\"%d/%m/%Y %H:%M:%S\")],\n",
    "     [\"Summer solstice\\nSunrise - June 21\\n%s\"%summer_solstice_rise[0].strftime(\"%d/%m/%Y %H:%M:%S\"),\"Summer solstice\\nSunset - June 21\\n%s\"%summer_solstice_set[0].strftime(\"%d/%m/%Y %H:%M:%S\")],\n",
    "    [\"Winter solstice\\nSunrise - Dec. 21\\n%s\"%winter_solstice_rise[0].strftime(\"%d/%m/%Y %H:%M:%S\"),\"Winter solstice\\nSunset - Dec. 21\\n%s\" %winter_solstice_set[0].strftime(\"%d/%m/%Y %H:%M:%S\")]]\n",
    "\n",
    "draw_lines(x,y,text=text)\n",
    "    \n",
    "circle=patches.Circle((0,0),radius=4, color='cyan', alpha=1)\n",
    "ax.add_patch(circle)\n",
    "plt.show()"
   ]
  },
  {
   "cell_type": "markdown",
   "metadata": {},
   "source": [
    "Time to put the pyramid design in the site and align it to the winter solstice axis"
   ]
  },
  {
   "cell_type": "code",
   "execution_count": null,
   "metadata": {},
   "outputs": [],
   "source": [
    "fig2,ax= plt.subplots(figsize=(7,7))\n",
    "ax.set_xlim(-25,25)\n",
    "ax.set_ylim(-25,25)\n",
    "\n",
    "#line references\n",
    "text=[[\"Equinoxes\\nSunrise\",\"Equinoxes\\nSunset\"],\n",
    "      [\"Sunrise\\nJune 21\",\"Sunset\\nJune 21\"],[\"Sunrise\\nDec. 21\",\"Sunset\\nDec. 21\"]]\n",
    "draw_lines(x,y,text=text)\n",
    "\n",
    "#Draw pyramid\n",
    "circle=patches.Circle((0,0),radius=4, color='cyan', alpha=1)\n",
    "ax.add_patch(circle)\n",
    "draw_kukulkan(ax=ax)\n",
    "\n",
    "plt.show()"
   ]
  },
  {
   "cell_type": "markdown",
   "metadata": {},
   "source": [
    "Observe the Sun's light rays at the winter solstice sunset."
   ]
  },
  {
   "cell_type": "code",
   "execution_count": null,
   "metadata": {},
   "outputs": [],
   "source": [
    "fig3,ax= plt.subplots(figsize=(7,7))\n",
    "ax.set_xlim(-25,25)\n",
    "ax.set_ylim(-25,25)\n",
    "\n",
    "#line references\n",
    "draw_lines(x,y,text=text)\n",
    "#Draw pyramid\n",
    "draw_kukulkan(ax=ax)\n",
    "\n",
    "#Draw light rays\n",
    "ax.fill(np.append(rayshighx, rayslowx[::-1]),np.append(rayshighy, rayslowy[::-1]), color='yellow', alpha=0.2)\n",
    "ax.text(x[4],y[2][4]-7,\"Sunset - %s\\nHalf pyramid in full darkness\" %winter_solstice_set[0].strftime(\"%d/%m/%Y %H:%M:%S\"))\n",
    "plt.show()"
   ]
  },
  {
   "cell_type": "markdown",
   "metadata": {},
   "source": [
    "Now the famous show: when the sun sets at the spring and fall equinoxes Kukulkan (which means the _feathered serpent_ in maya) descents along the northern staircase."
   ]
  },
  {
   "cell_type": "code",
   "execution_count": null,
   "metadata": {},
   "outputs": [],
   "source": [
    "fig4,ax= plt.subplots(figsize=(7,7))\n",
    "ax.set_xlim(-25,25)\n",
    "ax.set_ylim(-25,25)\n",
    "\n",
    "#line references\n",
    "draw_lines(x,y,text=text)\n",
    "\n",
    "#Draw pyramid\n",
    "draw_kukulkan(ax=ax)\n",
    "\n",
    "#Draw light rays\n",
    "for i in range(6):\n",
    "            raystairsx=np.array([x[4],-1.5*np.cos(anglerad)-(11-i*1.5)*np.sin(anglerad)])\n",
    "            raystairsy=np.array([y[0][4],(11-i*1.5)*np.cos(anglerad)-1.5*np.sin(anglerad)])\n",
    "            ax.plot(raystairsx,raystairsy,'y-')\n",
    "            \n",
    "ax.text(x[4],y[1][4]+5,\"Sunset - %s\\nThe seven triangles of light\" %summer_solstice_set[0].strftime(\"%d/%m/%Y %H:%M:%S\"))\n",
    "plt.show()"
   ]
  },
  {
   "cell_type": "markdown",
   "metadata": {},
   "source": [
    "Finally, let's see how your design compares to Kukulkan's pyramid. Does it move much from El Castillo? go back to set new coordinates for the _mayastronomer_, including locations in the norht/south hemisphere. When do you get a significant difference?"
   ]
  },
  {
   "cell_type": "code",
   "execution_count": null,
   "metadata": {},
   "outputs": [],
   "source": [
    "fig5,ax= plt.subplots(figsize=(7,6))\n",
    "\n",
    "img= plt.imread(\"images/kukulkan.png\") #original Chichen Itza image from Google maps\n",
    "ax.imshow(img)\n",
    "\n",
    "#Alignment of your pyramid design\n",
    "rectangle=patches.Rectangle((188,178),190,190, color='red', alpha=0.5) \n",
    "t = mpl.transforms.Affine2D().rotate_deg_around(294,264,-angle+0*45) + ax.transData\n",
    "rectangle.set_transform(t)\n",
    "ax.add_patch(rectangle)\n",
    "\n",
    "ax.text(120,70,\"Chichen Itza: 20.6829703, -88.5692032\\nYour location: {}, {}\".format(mayastronomer.lat, mayastronomer.lon), backgroundcolor='white')\n",
    "plt.show()"
   ]
  },
  {
   "cell_type": "markdown",
   "metadata": {},
   "source": [
    "Minutes walk from Kukulkan, 'El Caracol' Obseravatory was central to the serious business of Mayan Astronomy, where observations of Venus were of (almost) religious importance."
   ]
  },
  {
   "cell_type": "markdown",
   "metadata": {},
   "source": [
    "<img src=\"images/caracol.jpg\" alt=\"Drawing\" style=\"width: 800px;\"/>"
   ]
  },
  {
   "cell_type": "markdown",
   "metadata": {},
   "source": [
    "Caracol, like Kukulkan, was carefully aligned with the motions of Venus as 'he' (for the Mayans) held tremendous significance; this bright planet was considered the sun’s twin and a war god. Mayan leaders used the changing position of Venus to plan appropriate times for raids and battles.  At El Caracol, dubbed 'the observatory', narrow shaftlike windows frame important astronomical events. One such window marks an appearance of Venus at a particular point on the horizon that takes place—like clockwork—once every eight years."
   ]
  },
  {
   "cell_type": "markdown",
   "metadata": {},
   "source": [
    "Let's use ephem to observe and understand Venus, as the Mayans once did at Caracol."
   ]
  },
  {
   "cell_type": "code",
   "execution_count": null,
   "metadata": {},
   "outputs": [],
   "source": [
    "# First rising date time:  2020/1/2 03:01:29\n",
    "# First sun rise;  print(chichen_itza.previous_rising(sun))\n",
    "\n",
    "# Define our first observation on 1st January 2020, at 23:52 and a bit!\n",
    "start_date         = datetime.datetime(2020, 1,   1)\n",
    "start_time         = datetime.time(23, 52, 2)\n",
    "start_datetime     = datetime.datetime.combine(start_date.date(), start_time)\n",
    "\n",
    "# We'll calculate the positions of Venus up until 2030. \n",
    "end_date           = datetime.datetime(2030, 1, 1)\n",
    "\n",
    "# every hour. \n",
    "delta              = datetime.timedelta(hours=1)\n",
    "\n",
    "# Store the date and time of 'each observation'.\n",
    "datetimes          = []\n",
    "\n",
    "# Store the angular position. \n",
    "angular_pos        = []\n",
    "\n",
    "# Will store the [magnitude (brightness), diameter in arcseconds, distance from the Earth, phase, and separation\n",
    "# of Venus from the sun in degrees (elongation or elong)].\n",
    "props              = []\n",
    "\n",
    "# Store the time of sunrise on each day. \n",
    "sunrises           = []\n",
    "\n",
    "while start_datetime  <= end_date:    \n",
    "    start_datetime += delta\n",
    "    \n",
    "    # Set our date and time of observation. \n",
    "    mayastronomer.date    = start_datetime.strftime(\"%Y/%m/%d %H:%M:%S\")\n",
    "\n",
    "    # Calculate everything for the sun and Venus. \n",
    "    sun.compute(mayastronomer)\n",
    "    venus.compute(mayastronomer)\n",
    "    \n",
    "    datetimes.append(start_datetime)\n",
    "\n",
    "    props.append([venus.mag, venus.size, venus.earth_distance, venus.phase, venus.elong])\n",
    "    \n",
    "    # alt or altitude is the height of the sun and Venus above the horizon in degrees.  An altitude of 90 deg. would \n",
    "    # be right above you!  This is also known as the 'zenith' amongst the pros. \n",
    "    angular_pos.append([mayastronomer.date, sun.alt, venus.az, venus.alt])\n",
    "\n",
    "    sunrises.append(mayastronomer.previous_rising(sun))\n",
    "    \n",
    "    # print('{} \\t {:f} \\t {:f} \\t {} \\t {}'.format(chichen_itza.date, venus.az, venus.alt, chichen_itza.next_rising(venus), chichen_itza.next_transit(venus)))"
   ]
  },
  {
   "cell_type": "code",
   "execution_count": null,
   "metadata": {},
   "outputs": [],
   "source": [
    "# We've been collecting things in 'lists', but convert to numpy arrays as much easier to do calculations.\n",
    "angular_pos = np.array(angular_pos)\n",
    "props       = np.array(props)\n",
    "sunrises    = np.array(sunrises)"
   ]
  },
  {
   "cell_type": "code",
   "execution_count": null,
   "metadata": {},
   "outputs": [],
   "source": [
    "# Convert from randians to degrees.\n",
    "angular_pos[:,1:] *= 180. / np.pi"
   ]
  },
  {
   "cell_type": "code",
   "execution_count": null,
   "metadata": {},
   "outputs": [],
   "source": [
    "# Sunrises is a series of numbers that represent the date and time of the observation, with a bigger number being a \n",
    "# later observation.  Here, we're going to start are clock at the time when we see venus and the sun are closely together.\n",
    "sunrises   -= 44567"
   ]
  },
  {
   "cell_type": "code",
   "execution_count": null,
   "metadata": {},
   "outputs": [],
   "source": [
    "# A list of the colors for the lines we will plot.\n",
    "color_cycle = plt.rcParams['axes.prop_cycle'].by_key()['color']"
   ]
  },
  {
   "cell_type": "code",
   "execution_count": null,
   "metadata": {},
   "outputs": [],
   "source": [
    "fix, ax     = plt.subplots(1, 1, figsize=(20, 7.5))  \n",
    "\n",
    "# http://articles.adsabs.harvard.edu//full/1991JRASC..85..291W/0000299.000.html    \n",
    "ax.plot(sunrises, props[:,-1], c='k')\n",
    "    \n",
    "ax.set_xlabel('Time in days')\n",
    "ax.set_ylabel('Sun-Venus separation (elongation) in degrees.')\n",
    "\n",
    "ax.set_xlim(left=-10, right=590)\n",
    "    \n",
    "ax.axhline(0.0, alpha=0.5, c='k')\n",
    "    \n",
    "ax.axvline(0.,   lw=0.4, c ='gold')\n",
    "ax.axvline(263., lw=0.4)\n",
    "ax.axvline(313., lw=0.4)\n",
    "ax.axvline(576., lw=0.4)\n",
    "ax.axvline(584., lw=0.4, c='red')\n",
    "    \n",
    "ax.text(x=0,   y=0.75, s='Lub', horizontalalignment='center', fontsize=12)\n",
    "ax.text(x=100, y=0.75, s='Morning Star \\n (~ one Tzolk\\'in)', horizontalalignment='center', fontsize=12)\n",
    "ax.text(x=290, y=0.75, s='Superior \\n Conjunction', horizontalalignment='center', fontsize=12)\n",
    "ax.text(x=365, y=0.75, s='Haab', horizontalalignment='center', fontsize=12)\n",
    "ax.text(x=450, y=0.75, s='Evening Star', horizontalalignment='center', fontsize=12)\n",
    "ax.text(x=567, y=0.75, s='Inferior \\n Conjunction', horizontalalignment='center', fontsize=12)\n",
    "    \n",
    "# pl.savefig('images/venus.pdf')"
   ]
  },
  {
   "cell_type": "markdown",
   "metadata": {},
   "source": [
    "For the Mayans, this was an incredibly special curve!  So much so, they designed (one of) their calendars, the Tzolk'in, based on it!  This calendar would start on the Lub, when venus was so close to the sun ('elongation' $\\simeq 0.0$) that it would be hidden completely.  Soon, as you watched the horizon close to sunrise each day, Venus would become a 'Morning Star' - Venus would rise above the horizon up to a few hours before the brightness of the Sun rise would drown it out.  Why not wake up early one day and see!"
   ]
  },
  {
   "cell_type": "markdown",
   "metadata": {},
   "source": [
    "Venus would continue to be a Morning Star for 263 days, at which point the paths of the Sun and Venus would be so close each day that the Sun's brightness would shield it completely.  In amateur and professional astronomy, this is known as the 'Superior Conjunction', which lasts for 50 days.  The 263 days duration of the Morning Star would go on to define the Tzolk'in year. "
   ]
  },
  {
   "cell_type": "code",
   "execution_count": null,
   "metadata": {},
   "outputs": [],
   "source": [
    "Image(filename='images/venus.jpg')"
   ]
  },
  {
   "cell_type": "markdown",
   "metadata": {},
   "source": [
    "We're now 365 days in, a year to us or a Haab to the Mayans!  By this point, Venus is an 'Evening star':  now on the other side of the Sun, it’s trailing the Sun in the sky and brightens into view shortly after the Sun sets, when the sky is dark enough for it to be visible. When Venus is at its brightest, it becomes visible just minutes after the Sun goes down."
   ]
  },
  {
   "cell_type": "markdown",
   "metadata": {},
   "source": [
    "The `Inferior conjuntion' closes out the 'synodic period' of Venus, exactly the same as the superior but for a much shorter 8 days.  At the end of the synodic period, 584 days, Ground Hog day begins again for Venus as everything then repeats!"
   ]
  },
  {
   "cell_type": "markdown",
   "metadata": {},
   "source": [
    "So complicated is Venus’s disappearing act that the ancient Greeks misconstrued it as two different stars. The Mayans knew better, and they recognized Venus in both the morning and evening skies as one and the same."
   ]
  },
  {
   "cell_type": "code",
   "execution_count": null,
   "metadata": {},
   "outputs": [],
   "source": [
    "fix, ax     = plt.subplots(1, 1, figsize=(20, 7.5))  \n",
    "\n",
    "# http://articles.adsabs.harvard.edu//full/1991JRASC..85..291W/0000299.000.html    \n",
    "ax.plot(sunrises, -10. * props[:,0], label='Magnitude')\n",
    "ax.plot(sunrises,  10. * props[:,2], label='Distance')\n",
    "ax.plot(sunrises,        props[:,1], label='Diameter')\n",
    "ax.plot(sunrises,        props[:,3], label='Phase')    \n",
    "    \n",
    "ax.set_xlabel('Time in days')\n",
    "ax.set_ylabel('Sun-Venus separation (elongation) in degrees.')\n",
    "\n",
    "ax.set_xlim(left=-10, right=590)\n",
    "        \n",
    "ax.axvline(0.,   lw=0.4, c ='gold')\n",
    "ax.axvline(263., lw=0.4)\n",
    "ax.axvline(313., lw=0.4)\n",
    "ax.axvline(576., lw=0.4)\n",
    "ax.axvline(584., lw=0.4, c='red')\n",
    "    \n",
    "yy = 90.\n",
    "    \n",
    "ax.text(x=0,   y=yy, s='Lub', horizontalalignment='center', fontsize=12)\n",
    "ax.text(x=100, y=yy, s='Morning Star \\n (~ one Tzolk\\'in)', horizontalalignment='center', fontsize=12)\n",
    "ax.text(x=290, y=yy, s='Superior \\n Conjunction', horizontalalignment='center', fontsize=12)\n",
    "ax.text(x=365, y=yy, s='Haab', horizontalalignment='center', fontsize=12)\n",
    "ax.text(x=450, y=yy, s='Evening Star \\n (~ one Tzolk\\'in)', horizontalalignment='center', fontsize=12)\n",
    "ax.text(x=567, y=yy, s='Inferior \\n Conjunction', horizontalalignment='center', fontsize=12)\n",
    "\n",
    "ax.legend(frameon=True, loc=3)"
   ]
  },
  {
   "cell_type": "markdown",
   "metadata": {},
   "source": [
    "It just so happens that the synodic period of Venus (584 days) relates to the orbital period of the earth (365 days) in a relatively simple ratio of 5:8. Five times the synodic period of Venus (5 x 584 days) is 2,920 days. If you divide 2,920 by the 365 days in our year, you get 8. In short, the motions of Venus relative to our sun repeat almost exactly every 8 years. Eight years was a fundamental interval for ancient Mayans, who relied heavily on natural cycles."
   ]
  },
  {
   "cell_type": "markdown",
   "metadata": {},
   "source": [
    "Let's see how the Mayans recorded this in 500 AD! "
   ]
  },
  {
   "cell_type": "code",
   "execution_count": null,
   "metadata": {},
   "outputs": [],
   "source": [
    "# We'll calculate the angular position of Venus for each of the five synodic cycles (584 day) that's required for things to repeat.\n",
    "cycles        = {}"
   ]
  },
  {
   "cell_type": "code",
   "execution_count": null,
   "metadata": {},
   "outputs": [],
   "source": [
    "for i in range(5):\n",
    "  zero        = 584. * i\n",
    "\n",
    "  # Sun is above the horizon.\n",
    "  in_cycle    = (sunrises >= zero)        & (sunrises < zero + 585.) & (angular_pos[:,1] > 0.)\n",
    "\n",
    "  in_morning  = (sunrises >= zero)        & (sunrises < zero + 263.) & (angular_pos[:,1] > 0.)\n",
    "  in_superior = (sunrises >= zero + 263.) & (sunrises < zero + 313.) & (angular_pos[:,1] > 0.)\n",
    "  in_evening  = (sunrises >= zero + 313.) & (sunrises < zero + 576.) & (angular_pos[:,1] > 0.)\n",
    "  in_inferior = (sunrises >= zero + 576.) & (sunrises < zero + 584.) & (angular_pos[:,1] > 0.)\n",
    "\n",
    "  cycles[i]   = [in_morning, in_superior, in_evening, in_inferior]"
   ]
  },
  {
   "cell_type": "code",
   "execution_count": null,
   "metadata": {},
   "outputs": [],
   "source": [
    "labels        = ['Morning Star', 'Superior', 'Evening Star', 'Inferior'] \n",
    "\n",
    "def plot_mayan(cycle, epoch, ext=None):\n",
    "  fig, ax     = plt.subplots(1, 1, figsize=(15, 5.))\n",
    "\n",
    "  im          = PImage.open('images/Mayan_Morning_{}.png'.format(cycle))  \n",
    "    \n",
    "  width, height = im.size\n",
    "\n",
    "  size        = 256, 256\n",
    "  im.thumbnail(size, PImage.ANTIALIAS)\n",
    "\n",
    "  im          = np.array(im).astype(np.float) / 255 \n",
    "\n",
    "  color       = color_cycle[cycle]\n",
    "  sample      = cycles[cycle][epoch]\n",
    "  label       = labels[epoch]\n",
    "\n",
    "  # for i, (color, sample, label) in enumerate(zip(color_cycle, cycles[j], labels)):\n",
    "  ax.plot(angular_pos[sample,2],    angular_pos[sample,3],    c=color, lw=0.0, marker='.', label=label)\n",
    "  ax.plot(angular_pos[sample,2][0], angular_pos[sample,3][0], c='k', lw=0.0, marker='.')\n",
    "  \n",
    "  ax.legend(frameon=False, loc=1)\n",
    "  \n",
    "  ax.set_xlim(left=360., right=0.0)\n",
    "\n",
    "  if ext is not None:\n",
    "    title = 'Venus as a ' + label + ':  ' + ext\n",
    "\n",
    "  else:\n",
    "    title = 'Venus as a ' + label\n",
    "    \n",
    "  ax.set_title(title)\n",
    "    \n",
    "  fig.figimage(im, 320, 30)"
   ]
  },
  {
   "cell_type": "code",
   "execution_count": null,
   "metadata": {
    "scrolled": true
   },
   "outputs": [],
   "source": [
    "plot_mayan(0, 0, ext='First cycle')"
   ]
  },
  {
   "cell_type": "code",
   "execution_count": null,
   "metadata": {},
   "outputs": [],
   "source": [
    "plot_mayan(1, 0, ext='Second cycle')"
   ]
  },
  {
   "cell_type": "code",
   "execution_count": null,
   "metadata": {},
   "outputs": [],
   "source": [
    "plot_mayan(2, 0, ext='Third cycle')"
   ]
  },
  {
   "cell_type": "code",
   "execution_count": null,
   "metadata": {},
   "outputs": [],
   "source": [
    "plot_mayan(3, 0, ext='Fourth cycle')"
   ]
  },
  {
   "cell_type": "code",
   "execution_count": null,
   "metadata": {},
   "outputs": [],
   "source": [
    "plot_mayan(4, 0, ext='Fifth cycle')"
   ]
  },
  {
   "cell_type": "markdown",
   "metadata": {},
   "source": [
    "At this point, after eight years, Venus and the Sun return to the same point in the sky and the dance begins all over again!  The Mayans documented this behaviour religiously, in what is today known as the Dresden Codex:"
   ]
  },
  {
   "cell_type": "code",
   "execution_count": null,
   "metadata": {},
   "outputs": [],
   "source": [
    "Image(filename='images/DresdenCodex.jpg')"
   ]
  },
  {
   "cell_type": "markdown",
   "metadata": {},
   "source": [
    "For page after page, in the Codex, the Mayans recorded the dates at which Venus switched from a Morning Star, to a Superior Conjuction, to an Evening Star, to an Inferior Injunction and so on, with incredible accuracy.  Compared to modern accuracy, then were often within one to a few days!  The Mayans didn't do fractions, so it was hard to agree exactly.  "
   ]
  },
  {
   "cell_type": "markdown",
   "metadata": {},
   "source": [
    "Each page would have a row of four dates, marking these transitions.  The same row on five consectutive pages would record these same transitions for the five synodic cycles (of 584 days) completing a Lub, or 2920 days, when the sun and venus would begin the same dance again. "
   ]
  },
  {
   "cell_type": "markdown",
   "metadata": {},
   "source": [
    "After thirteen lubs, or 104 Haab (years), the table returns to its Lubay or \"great resting place\" where all the cycles begin again - the sun and venus have returned to the starting positions on the first day of a Tzolk'in year.  The whole cycle then repeats itself.  The Universe must have seemed in perfect harmony with their world on that _Ahaw_ day when the Lubay was reached and the thirteen cycles of Venus begin again. "
   ]
  },
  {
   "cell_type": "code",
   "execution_count": null,
   "metadata": {},
   "outputs": [],
   "source": [
    "# print(365. * 104, 260 * 146., 584. * 65., 2920. * 13)"
   ]
  },
  {
   "cell_type": "markdown",
   "metadata": {},
   "source": [
    "# BREAKING NEWS (!)"
   ]
  },
  {
   "cell_type": "markdown",
   "metadata": {},
   "source": [
    "Perhaps the Mayans were right all along!  In an unexpected twist, on Monday Sep. 14th 2020, scientists annnounced the first tantalising evidence for life on Venus - just in time for National Hispanic Month and the DESI High Challenge! "
   ]
  },
  {
   "cell_type": "code",
   "execution_count": null,
   "metadata": {},
   "outputs": [],
   "source": [
    "Image(filename='images/VenusLife.png')"
   ]
  },
  {
   "cell_type": "markdown",
   "metadata": {},
   "source": [
    "Check out [here](https://www.nytimes.com/2020/09/14/science/venus-life-clouds.html) to start learning more."
   ]
  },
  {
   "cell_type": "markdown",
   "metadata": {},
   "source": [
    "# Hispanic Americans in DESI"
   ]
  },
  {
   "cell_type": "markdown",
   "metadata": {},
   "source": [
    "This notebook is currently just an example of what you can do.  To make it much better, we'd like you to submit your own material!  This could add to the Mayan example above using pyephem, approach the work of the first professional Hispanic American astronomers or be a fun python experiment highlighting your work in DESI.  If you submit an entry, or even if you don't(!), add an introduction to yourself and your interests in our dedicated folder.  Alma and Mariana, our first DESI High translators (thank you!), have given examples ([here](https://github.com/michaelJwilson/DESI-HighSchool/blob/master/Espanol/Profiles/example.md) and here) to show you how.     "
   ]
  },
  {
   "cell_type": "code",
   "execution_count": null,
   "metadata": {},
   "outputs": [],
   "source": [
    "Image(filename='images/Challenge1.png')"
   ]
  },
  {
   "cell_type": "markdown",
   "metadata": {},
   "source": [
    "Head over to https://github.com/michaelJwilson/DESI-HighSchool/issues/36 to get started!"
   ]
  }
 ],
 "metadata": {
  "kernelspec": {
   "display_name": "Python 3",
   "language": "python",
   "name": "python3"
  },
  "language_info": {
   "codemirror_mode": {
    "name": "ipython",
    "version": 3
   },
   "file_extension": ".py",
   "mimetype": "text/x-python",
   "name": "python",
   "nbconvert_exporter": "python",
   "pygments_lexer": "ipython3",
   "version": "3.7.9"
  },
  "latex_envs": {
   "LaTeX_envs_menu_present": true,
   "autoclose": false,
   "autocomplete": true,
   "bibliofile": "biblio.bib",
   "cite_by": "apalike",
   "current_citInitial": 1,
   "eqLabelWithNumbers": true,
   "eqNumInitial": 1,
   "hotkeys": {
    "equation": "Ctrl-E",
    "itemize": "Ctrl-I"
   },
   "labels_anchors": false,
   "latex_user_defs": false,
   "report_style_numbering": false,
   "user_envs_cfg": false
  },
  "nbTranslate": {
   "displayLangs": [
    "*"
   ],
   "hotkey": "alt-t",
   "langInMainMenu": true,
   "sourceLang": "en",
   "targetLang": "fr",
   "useGoogleTranslate": true
  }
 },
 "nbformat": 4,
 "nbformat_minor": 4
}
