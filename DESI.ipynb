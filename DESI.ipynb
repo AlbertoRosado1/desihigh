{
 "cells": [
  {
   "cell_type": "code",
   "execution_count": 1,
   "metadata": {},
   "outputs": [],
   "source": [
    "import glob\n",
    "import pylab           as     pl\n",
    "import pandas          as     pd\n",
    "import numpy           as     np\n",
    "\n",
    "from   matplotlib      import pyplot as plt\n",
    "from   scipy           import stats\n",
    "from   IPython.display import Image\n",
    "from   astropy.table   import Table, join, vstack"
   ]
  },
  {
   "cell_type": "markdown",
   "metadata": {},
   "source": [
    "# *Dark Energy Spectroscopic Instrument*"
   ]
  },
  {
   "cell_type": "markdown",
   "metadata": {},
   "source": [
    "Today, we continue the legacy of Slipher, Hubble, Vera Rubin et al. with the DESI survey of 30 Million galaxies. "
   ]
  },
  {
   "cell_type": "markdown",
   "metadata": {},
   "source": [
    "![title](kittpeak.jpg)"
   ]
  },
  {
   "cell_type": "markdown",
   "metadata": {},
   "source": [
    "![title](mayall.jpg)"
   ]
  },
  {
   "cell_type": "code",
   "execution_count": 2,
   "metadata": {},
   "outputs": [],
   "source": [
    "redshifts = Table()"
   ]
  },
  {
   "cell_type": "code",
   "execution_count": 3,
   "metadata": {},
   "outputs": [],
   "source": [
    "files     = glob.glob('student_andes/zbest-*')"
   ]
  },
  {
   "cell_type": "code",
   "execution_count": 4,
   "metadata": {},
   "outputs": [
    {
     "data": {
      "text/plain": [
       "3"
      ]
     },
     "execution_count": 4,
     "metadata": {},
     "output_type": "execute_result"
    }
   ],
   "source": [
    "len(files)"
   ]
  },
  {
   "cell_type": "code",
   "execution_count": 5,
   "metadata": {},
   "outputs": [],
   "source": [
    "for file in files:\n",
    "  redshifts = vstack((redshifts, Table.read(file)))"
   ]
  },
  {
   "cell_type": "code",
   "execution_count": 6,
   "metadata": {},
   "outputs": [
    {
     "data": {
      "text/html": [
       "<i>Table length=57</i>\n",
       "<table id=\"table112321893456\" class=\"table-striped table-bordered table-condensed\">\n",
       "<thead><tr><th>TARGETID</th><th>CHI2</th><th>COEFF [10]</th><th>Z</th><th>ZERR</th><th>ZWARN</th><th>SPECTYPE</th><th>SUBTYPE</th><th>NCOEFF</th><th>DELTACHI2</th><th>FLUX_G</th><th>FLUX_R</th><th>FLUX_Z</th><th>DESI_TARGET</th><th>BGS_TARGET</th><th>MWS_TARGET</th></tr></thead>\n",
       "<thead><tr><th>int64</th><th>float64</th><th>float64</th><th>float64</th><th>float64</th><th>int64</th><th>bytes6</th><th>bytes20</th><th>int64</th><th>float64</th><th>float32</th><th>float32</th><th>float32</th><th>int64</th><th>int64</th><th>int64</th></tr></thead>\n",
       "<tr><td>35185923943565589</td><td>10152.053012393415</td><td>148.86316047472778 .. 5.900162026368106</td><td>1.0288177831482437</td><td>0.00013716746822282994</td><td>0</td><td>GALAXY</td><td></td><td>10</td><td>814.5113570466638</td><td>0.5500719</td><td>1.43843</td><td>7.1975174</td><td>0</td><td>0</td><td>0</td></tr>\n",
       "<tr><td>35185923951954133</td><td>9762.751467436552</td><td>209.24160448267065 .. 5.175204196262561</td><td>0.6738050981356133</td><td>9.294059524252858e-05</td><td>0</td><td>GALAXY</td><td></td><td>10</td><td>750.285569190979</td><td>1.1057072</td><td>6.5002365</td><td>28.18528</td><td>0</td><td>0</td><td>0</td></tr>\n",
       "<tr><td>35185929941419985</td><td>9697.200510539114</td><td>156.80055757497053 .. -0.2696597294075719</td><td>0.5775016610858992</td><td>9.57053409911099e-05</td><td>0</td><td>GALAXY</td><td></td><td>10</td><td>888.0897645782679</td><td>0.67869294</td><td>4.1456375</td><td>13.65273</td><td>0</td><td>0</td><td>0</td></tr>\n",
       "<tr><td>35185929949809401</td><td>9590.910600095987</td><td>141.3364437118511 .. 7.169843778221306</td><td>1.0114883070365042</td><td>8.625791200718938e-05</td><td>0</td><td>GALAXY</td><td></td><td>10</td><td>841.2403792887926</td><td>0.2885398</td><td>0.77808297</td><td>4.705584</td><td>0</td><td>0</td><td>0</td></tr>\n",
       "<tr><td>35185929949810006</td><td>9440.318562611938</td><td>123.86145696188387 .. 3.1105691459222404</td><td>0.8033843146935814</td><td>8.53305757488819e-05</td><td>0</td><td>GALAXY</td><td></td><td>10</td><td>798.8345689177513</td><td>0.20737517</td><td>1.2434902</td><td>5.8944407</td><td>0</td><td>0</td><td>0</td></tr>\n",
       "<tr><td>35185935939272752</td><td>10532.481103122234</td><td>31.09292018395084 .. 11.769461517129695</td><td>0.45524750000706754</td><td>3.7363453299701765e-05</td><td>0</td><td>GALAXY</td><td></td><td>10</td><td>734.3773981928825</td><td>0.72182256</td><td>3.5120392</td><td>9.9440155</td><td>0</td><td>0</td><td>0</td></tr>\n",
       "<tr><td>35185935939273421</td><td>9735.959887623787</td><td>183.3717399095206 .. 6.532384317581797</td><td>0.5666153665576416</td><td>5.0407523181846655e-05</td><td>0</td><td>GALAXY</td><td></td><td>10</td><td>925.3850352242589</td><td>0.7689483</td><td>4.307138</td><td>13.650084</td><td>0</td><td>0</td><td>0</td></tr>\n",
       "<tr><td>35185935939275488</td><td>9064.25718719326</td><td>194.12299244026389 .. 6.729941144388765</td><td>0.6140468868200675</td><td>0.0001576853649057369</td><td>0</td><td>GALAXY</td><td></td><td>10</td><td>776.6830798406154</td><td>0.6590582</td><td>3.7910872</td><td>14.436411</td><td>0</td><td>0</td><td>0</td></tr>\n",
       "<tr><td>35185935939277091</td><td>9639.923746824265</td><td>-21.85722416051084 .. -5.213298336228368</td><td>1.208397771311284</td><td>2.936746790437286e-05</td><td>0</td><td>GALAXY</td><td></td><td>10</td><td>771.1882997751236</td><td>0.60059047</td><td>0.7755253</td><td>1.5390275</td><td>0</td><td>0</td><td>0</td></tr>\n",
       "<tr><td>35185935943467705</td><td>9300.244870245457</td><td>129.78299118913017 .. 2.402760848670515</td><td>1.4151633759933244</td><td>8.394242767954373e-05</td><td>0</td><td>GALAXY</td><td></td><td>10</td><td>907.418699502945</td><td>0.8929777</td><td>1.3243642</td><td>3.7960427</td><td>0</td><td>0</td><td>0</td></tr>\n",
       "<tr><td>...</td><td>...</td><td>...</td><td>...</td><td>...</td><td>...</td><td>...</td><td>...</td><td>...</td><td>...</td><td>...</td><td>...</td><td>...</td><td>...</td><td>...</td><td>...</td></tr>\n",
       "<tr><td>35191331856846116</td><td>12372.020838037133</td><td>1378.4865775182714 .. 172.61951054412518</td><td>0.1527786619182939</td><td>1.7896295239533507e-05</td><td>0</td><td>GALAXY</td><td></td><td>10</td><td>2828.421638712287</td><td>34.088215</td><td>97.27508</td><td>210.95135</td><td>0</td><td>0</td><td>0</td></tr>\n",
       "<tr><td>35191335078070236</td><td>9286.788518667221</td><td>683.593161607799 .. 29.857772239990013</td><td>0.10197710734362418</td><td>3.0818063681628926e-06</td><td>0</td><td>GALAXY</td><td></td><td>10</td><td>2645.9612390995026</td><td>4.031377</td><td>6.1008806</td><td>7.6189046</td><td>0</td><td>0</td><td>0</td></tr>\n",
       "<tr><td>35191335078070686</td><td>10794.377954307944</td><td>1257.7091926393307 .. 54.53631379482016</td><td>0.20807350302949915</td><td>4.2500473031546194e-05</td><td>0</td><td>GALAXY</td><td></td><td>10</td><td>2533.4933832511306</td><td>16.146564</td><td>56.061066</td><td>112.786804</td><td>0</td><td>0</td><td>0</td></tr>\n",
       "<tr><td>35191335078071257</td><td>9264.799360632896</td><td>802.5773137412849 .. 28.234968620036895</td><td>0.12635486544475932</td><td>4.583409037591638e-06</td><td>0</td><td>GALAXY</td><td></td><td>10</td><td>2784.5392092466354</td><td>15.09359</td><td>25.28192</td><td>34.349655</td><td>0</td><td>0</td><td>0</td></tr>\n",
       "<tr><td>35191335078071352</td><td>9937.091705918312</td><td>561.0743734201332 .. 36.513485583549084</td><td>0.22095632120078076</td><td>1.0696100059987665e-05</td><td>0</td><td>GALAXY</td><td></td><td>10</td><td>2559.4123866558075</td><td>10.155538</td><td>27.015451</td><td>52.878674</td><td>0</td><td>0</td><td>0</td></tr>\n",
       "<tr><td>35191335082262787</td><td>10581.702630741522</td><td>2287.89570279132 .. 132.62727677591798</td><td>0.10227961589664407</td><td>2.6492167893652224e-05</td><td>0</td><td>GALAXY</td><td></td><td>10</td><td>2439.438904058654</td><td>22.189482</td><td>52.28418</td><td>92.93002</td><td>0</td><td>0</td><td>0</td></tr>\n",
       "<tr><td>35191338282516531</td><td>11431.774591185153</td><td>1237.6718417967288 .. 61.343529478887895</td><td>0.20712253500273053</td><td>3.503017741430999e-05</td><td>0</td><td>GALAXY</td><td></td><td>10</td><td>2633.032465521246</td><td>16.887764</td><td>56.872143</td><td>114.71248</td><td>0</td><td>0</td><td>0</td></tr>\n",
       "<tr><td>35191341461800092</td><td>9547.737599849701</td><td>610.0752087698418 .. 29.131230174574373</td><td>0.27549425852090886</td><td>5.845270403318533e-06</td><td>0</td><td>GALAXY</td><td></td><td>10</td><td>2534.549545288086</td><td>4.775199</td><td>9.304474</td><td>13.027911</td><td>0</td><td>0</td><td>0</td></tr>\n",
       "<tr><td>35191341465995483</td><td>10071.66324776411</td><td>391.6869458966699 .. 22.923970699203768</td><td>0.18753147363510858</td><td>9.942058999557395e-06</td><td>0</td><td>GALAXY</td><td></td><td>10</td><td>2386.6265458464622</td><td>13.243609</td><td>32.991516</td><td>61.554005</td><td>0</td><td>0</td><td>0</td></tr>\n",
       "<tr><td>35191341465996214</td><td>9929.62532377243</td><td>617.2956344768553 .. 18.37458894690996</td><td>0.25357540362055203</td><td>6.034566383309339e-06</td><td>0</td><td>GALAXY</td><td></td><td>10</td><td>3036.8225512504578</td><td>6.262381</td><td>12.531769</td><td>19.621265</td><td>0</td><td>0</td><td>0</td></tr>\n",
       "</table>"
      ],
      "text/plain": [
       "<Table length=57>\n",
       "     TARGETID            CHI2        ... BGS_TARGET MWS_TARGET\n",
       "      int64            float64       ...   int64      int64   \n",
       "----------------- ------------------ ... ---------- ----------\n",
       "35185923943565589 10152.053012393415 ...          0          0\n",
       "35185923951954133  9762.751467436552 ...          0          0\n",
       "35185929941419985  9697.200510539114 ...          0          0\n",
       "35185929949809401  9590.910600095987 ...          0          0\n",
       "35185929949810006  9440.318562611938 ...          0          0\n",
       "35185935939272752 10532.481103122234 ...          0          0\n",
       "35185935939273421  9735.959887623787 ...          0          0\n",
       "35185935939275488   9064.25718719326 ...          0          0\n",
       "35185935939277091  9639.923746824265 ...          0          0\n",
       "35185935943467705  9300.244870245457 ...          0          0\n",
       "              ...                ... ...        ...        ...\n",
       "35191331856846116 12372.020838037133 ...          0          0\n",
       "35191335078070236  9286.788518667221 ...          0          0\n",
       "35191335078070686 10794.377954307944 ...          0          0\n",
       "35191335078071257  9264.799360632896 ...          0          0\n",
       "35191335078071352  9937.091705918312 ...          0          0\n",
       "35191335082262787 10581.702630741522 ...          0          0\n",
       "35191338282516531 11431.774591185153 ...          0          0\n",
       "35191341461800092  9547.737599849701 ...          0          0\n",
       "35191341465995483  10071.66324776411 ...          0          0\n",
       "35191341465996214   9929.62532377243 ...          0          0"
      ]
     },
     "execution_count": 6,
     "metadata": {},
     "output_type": "execute_result"
    }
   ],
   "source": [
    "redshifts"
   ]
  },
  {
   "cell_type": "code",
   "execution_count": 8,
   "metadata": {},
   "outputs": [
    {
     "data": {
      "text/plain": [
       "[<matplotlib.lines.Line2D at 0x1a27bf1350>]"
      ]
     },
     "execution_count": 8,
     "metadata": {},
     "output_type": "execute_result"
    },
    {
     "data": {
      "image/png": "[encoded data removed]",
      "text/plain": [
       "<Figure size 432x288 with 1 Axes>"
      ]
     },
     "metadata": {
      "needs_background": "light"
     },
     "output_type": "display_data"
    }
   ],
   "source": [
    "pl.semilogy(redshifts['Z'], redshifts['FLUX_Z'], c='k', marker='*', lw=0.0)"
   ]
  },
  {
   "cell_type": "code",
   "execution_count": null,
   "metadata": {},
   "outputs": [],
   "source": []
  }
 ],
 "metadata": {
  "kernelspec": {
   "display_name": "Python 3",
   "language": "python",
   "name": "python3"
  },
  "language_info": {
   "codemirror_mode": {
    "name": "ipython",
    "version": 3
   },
   "file_extension": ".py",
   "mimetype": "text/x-python",
   "name": "python",
   "nbconvert_exporter": "python",
   "pygments_lexer": "ipython3",
   "version": "3.7.6"
  }
 },
 "nbformat": 4,
 "nbformat_minor": 4
}
