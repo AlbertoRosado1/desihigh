{
 "cells": [
  {
   "cell_type": "code",
   "execution_count": 1,
   "metadata": {},
   "outputs": [],
   "source": [
    "#!jt -t chesterish -f fira -fs 95 -T -N -tf fira -tfs 11 -nf fira -nfs 11\n",
    "#!jt -t oceans16 -T -N"
   ]
  },
  {
   "cell_type": "code",
   "execution_count": 1,
   "metadata": {},
   "outputs": [],
   "source": [
    "import pylab           as     pl\n",
    "import pandas          as     pd\n",
    "import numpy           as     np\n",
    "\n",
    "from   matplotlib      import pyplot as plt\n",
    "from   scipy           import stats\n",
    "from   IPython.display import Image"
   ]
  },
  {
   "cell_type": "code",
   "execution_count": null,
   "metadata": {},
   "outputs": [],
   "source": []
  },
  {
   "cell_type": "code",
   "execution_count": 3,
   "metadata": {},
   "outputs": [],
   "source": [
    "%matplotlib inline"
   ]
  },
  {
   "cell_type": "markdown",
   "metadata": {},
   "source": [
    "# *Hubble and the origins of DESI*"
   ]
  },
  {
   "cell_type": "markdown",
   "metadata": {},
   "source": [
    "The year 1929 brough brought us the Oscars, the first car radio and Edwin Hubble's unexpected observation that every galaxy is separating from every other."
   ]
  },
  {
   "cell_type": "markdown",
   "metadata": {},
   "source": [
    "![title](edwin-hubble_rotatedjpg.jpg)"
   ]
  },
  {
   "cell_type": "markdown",
   "metadata": {},
   "source": [
    "Let's take a quick look at what he saw."
   ]
  },
  {
   "cell_type": "code",
   "execution_count": 4,
   "metadata": {},
   "outputs": [
    {
     "data": {
      "text/html": [
       "<div>\n",
       "<style scoped>\n",
       "    .dataframe tbody tr th:only-of-type {\n",
       "        vertical-align: middle;\n",
       "    }\n",
       "\n",
       "    .dataframe tbody tr th {\n",
       "        vertical-align: top;\n",
       "    }\n",
       "\n",
       "    .dataframe thead th {\n",
       "        text-align: right;\n",
       "    }\n",
       "</style>\n",
       "<table border=\"1\" class=\"dataframe\">\n",
       "  <thead>\n",
       "    <tr style=\"text-align: right;\">\n",
       "      <th></th>\n",
       "      <th>Galaxy name</th>\n",
       "      <th>Distance [Mpc]</th>\n",
       "      <th>Velocity [km/s]</th>\n",
       "    </tr>\n",
       "  </thead>\n",
       "  <tbody>\n",
       "    <tr>\n",
       "      <th>0</th>\n",
       "      <td>S.Mag</td>\n",
       "      <td>0.032</td>\n",
       "      <td>170</td>\n",
       "    </tr>\n",
       "    <tr>\n",
       "      <th>1</th>\n",
       "      <td>L.Mag</td>\n",
       "      <td>0.034</td>\n",
       "      <td>290</td>\n",
       "    </tr>\n",
       "    <tr>\n",
       "      <th>2</th>\n",
       "      <td>NGC6822</td>\n",
       "      <td>0.214</td>\n",
       "      <td>-130</td>\n",
       "    </tr>\n",
       "    <tr>\n",
       "      <th>3</th>\n",
       "      <td>NGC598</td>\n",
       "      <td>0.263</td>\n",
       "      <td>-70</td>\n",
       "    </tr>\n",
       "    <tr>\n",
       "      <th>4</th>\n",
       "      <td>NGC221</td>\n",
       "      <td>0.275</td>\n",
       "      <td>-185</td>\n",
       "    </tr>\n",
       "    <tr>\n",
       "      <th>5</th>\n",
       "      <td>NGC224</td>\n",
       "      <td>0.275</td>\n",
       "      <td>-220</td>\n",
       "    </tr>\n",
       "    <tr>\n",
       "      <th>6</th>\n",
       "      <td>NGC5457</td>\n",
       "      <td>0.450</td>\n",
       "      <td>200</td>\n",
       "    </tr>\n",
       "    <tr>\n",
       "      <th>7</th>\n",
       "      <td>NGC4736</td>\n",
       "      <td>0.500</td>\n",
       "      <td>290</td>\n",
       "    </tr>\n",
       "    <tr>\n",
       "      <th>8</th>\n",
       "      <td>NGC5194</td>\n",
       "      <td>0.500</td>\n",
       "      <td>270</td>\n",
       "    </tr>\n",
       "    <tr>\n",
       "      <th>9</th>\n",
       "      <td>NGC4449</td>\n",
       "      <td>0.630</td>\n",
       "      <td>200</td>\n",
       "    </tr>\n",
       "    <tr>\n",
       "      <th>10</th>\n",
       "      <td>NGC4214</td>\n",
       "      <td>0.800</td>\n",
       "      <td>300</td>\n",
       "    </tr>\n",
       "    <tr>\n",
       "      <th>11</th>\n",
       "      <td>NGC3031</td>\n",
       "      <td>0.900</td>\n",
       "      <td>-30</td>\n",
       "    </tr>\n",
       "    <tr>\n",
       "      <th>12</th>\n",
       "      <td>NGC3627</td>\n",
       "      <td>0.900</td>\n",
       "      <td>650</td>\n",
       "    </tr>\n",
       "    <tr>\n",
       "      <th>13</th>\n",
       "      <td>NGC4826</td>\n",
       "      <td>0.900</td>\n",
       "      <td>150</td>\n",
       "    </tr>\n",
       "    <tr>\n",
       "      <th>14</th>\n",
       "      <td>NGC5236</td>\n",
       "      <td>0.900</td>\n",
       "      <td>500</td>\n",
       "    </tr>\n",
       "    <tr>\n",
       "      <th>15</th>\n",
       "      <td>NGC1068</td>\n",
       "      <td>1.000</td>\n",
       "      <td>920</td>\n",
       "    </tr>\n",
       "    <tr>\n",
       "      <th>16</th>\n",
       "      <td>NGC5055</td>\n",
       "      <td>1.100</td>\n",
       "      <td>450</td>\n",
       "    </tr>\n",
       "    <tr>\n",
       "      <th>17</th>\n",
       "      <td>NGC7331</td>\n",
       "      <td>1.100</td>\n",
       "      <td>500</td>\n",
       "    </tr>\n",
       "    <tr>\n",
       "      <th>18</th>\n",
       "      <td>NGC4258</td>\n",
       "      <td>1.400</td>\n",
       "      <td>500</td>\n",
       "    </tr>\n",
       "    <tr>\n",
       "      <th>19</th>\n",
       "      <td>NGC4151</td>\n",
       "      <td>1.700</td>\n",
       "      <td>960</td>\n",
       "    </tr>\n",
       "    <tr>\n",
       "      <th>20</th>\n",
       "      <td>NGC4382</td>\n",
       "      <td>2.000</td>\n",
       "      <td>500</td>\n",
       "    </tr>\n",
       "    <tr>\n",
       "      <th>21</th>\n",
       "      <td>NGC4472</td>\n",
       "      <td>2.000</td>\n",
       "      <td>850</td>\n",
       "    </tr>\n",
       "    <tr>\n",
       "      <th>22</th>\n",
       "      <td>NGC4486</td>\n",
       "      <td>2.000</td>\n",
       "      <td>800</td>\n",
       "    </tr>\n",
       "    <tr>\n",
       "      <th>23</th>\n",
       "      <td>NGC4649</td>\n",
       "      <td>2.000</td>\n",
       "      <td>1090</td>\n",
       "    </tr>\n",
       "  </tbody>\n",
       "</table>\n",
       "</div>"
      ],
      "text/plain": [
       "   Galaxy name  Distance [Mpc]  Velocity [km/s]\n",
       "0        S.Mag           0.032              170\n",
       "1        L.Mag           0.034              290\n",
       "2      NGC6822           0.214             -130\n",
       "3       NGC598           0.263              -70\n",
       "4       NGC221           0.275             -185\n",
       "5       NGC224           0.275             -220\n",
       "6      NGC5457           0.450              200\n",
       "7      NGC4736           0.500              290\n",
       "8      NGC5194           0.500              270\n",
       "9      NGC4449           0.630              200\n",
       "10     NGC4214           0.800              300\n",
       "11     NGC3031           0.900              -30\n",
       "12     NGC3627           0.900              650\n",
       "13     NGC4826           0.900              150\n",
       "14     NGC5236           0.900              500\n",
       "15     NGC1068           1.000              920\n",
       "16     NGC5055           1.100              450\n",
       "17     NGC7331           1.100              500\n",
       "18     NGC4258           1.400              500\n",
       "19     NGC4151           1.700              960\n",
       "20     NGC4382           2.000              500\n",
       "21     NGC4472           2.000              850\n",
       "22     NGC4486           2.000              800\n",
       "23     NGC4649           2.000             1090"
      ]
     },
     "execution_count": 4,
     "metadata": {},
     "output_type": "execute_result"
    }
   ],
   "source": [
    "dat = pd.read_csv('hubble.dat', sep='\\s+', comment='#', names=['Galaxy name', 'Distance [Mpc]', 'Velocity [km/s]'])\n",
    "dat"
   ]
  },
  {
   "cell_type": "markdown",
   "metadata": {},
   "source": [
    "Hubble collected data for the distances of 24 galaxies from us, and their observed redshifts.  The redshift of a galaxy - how much redder the light is compared to if we saw the same light emitted by an atom in a lab - allows us to determine how fast the galaxy is moving.  You can find out more here https://en.wikipedia.org/wiki/Redshift"
   ]
  },
  {
   "cell_type": "code",
   "execution_count": 34,
   "metadata": {},
   "outputs": [],
   "source": [
    "fig = plt.figure(figsize=(10, 7.5))\n",
    "ax  = fig.add_subplot(1, 1, 1)\n",
    "plt.close()"
   ]
  },
  {
   "cell_type": "code",
   "execution_count": 41,
   "metadata": {},
   "outputs": [],
   "source": [
    "label_style = {'fontname': 'Georgia', 'fontsize': 16} "
   ]
  },
  {
   "cell_type": "code",
   "execution_count": 42,
   "metadata": {},
   "outputs": [
    {
     "data": {
      "text/plain": [
       "<Figure size 432x288 with 0 Axes>"
      ]
     },
     "metadata": {},
     "output_type": "display_data"
    }
   ],
   "source": [
    "ax.plot(dat['Distance [Mpc]'], dat['Velocity [km/s]'], '-', c='k', marker='*', lw=0)\n",
    "\n",
    "ax.set_xlabel('Distance from us [Megaparsecs]', **label_style)\n",
    "ax.set_ylabel('Recession velocity [km/s]', **label_style)\n",
    "\n",
    "plt.tight_layout()"
   ]
  },
  {
   "cell_type": "code",
   "execution_count": 43,
   "metadata": {},
   "outputs": [
    {
     "data": {
      "image/png": "[encoded data removed]",
      "text/plain": [
       "<Figure size 720x540 with 1 Axes>"
      ]
     },
     "execution_count": 43,
     "metadata": {},
     "output_type": "execute_result"
    }
   ],
   "source": [
    "fig"
   ]
  },
  {
   "cell_type": "markdown",
   "metadata": {},
   "source": []
  },
  {
   "cell_type": "code",
   "execution_count": 44,
   "metadata": {},
   "outputs": [],
   "source": [
    "slope, intercept, r_value, p_value, std_err = stats.linregress(dat['Distance [Mpc]'],dat['Velocity [km/s]'])"
   ]
  },
  {
   "cell_type": "code",
   "execution_count": 45,
   "metadata": {},
   "outputs": [
    {
     "data": {
      "text/plain": [
       "454.15844092262836"
      ]
     },
     "execution_count": 45,
     "metadata": {},
     "output_type": "execute_result"
    }
   ],
   "source": [
    "slope"
   ]
  },
  {
   "cell_type": "code",
   "execution_count": 46,
   "metadata": {},
   "outputs": [
    {
     "data": {
      "text/plain": [
       "[<matplotlib.lines.Line2D at 0x1a1cf77150>]"
      ]
     },
     "execution_count": 46,
     "metadata": {},
     "output_type": "execute_result"
    }
   ],
   "source": [
    "distances  = np.arange(0.0, 2.0, 0.01)\n",
    "velocities = slope * distances\n",
    "\n",
    "ax.plot(distances, velocities, c='k', linestyle='-')"
   ]
  },
  {
   "cell_type": "code",
   "execution_count": 47,
   "metadata": {},
   "outputs": [
    {
     "data": {
      "image/png": "[encoded data removed]",
      "text/plain": [
       "<Figure size 720x540 with 1 Axes>"
      ]
     },
     "execution_count": 47,
     "metadata": {},
     "output_type": "execute_result"
    }
   ],
   "source": [
    "fig"
   ]
  },
  {
   "cell_type": "code",
   "execution_count": null,
   "metadata": {},
   "outputs": [],
   "source": []
  }
 ],
 "metadata": {
  "kernelspec": {
   "display_name": "Python 3",
   "language": "python",
   "name": "python3"
  },
  "language_info": {
   "codemirror_mode": {
    "name": "ipython",
    "version": 3
   },
   "file_extension": ".py",
   "mimetype": "text/x-python",
   "name": "python",
   "nbconvert_exporter": "python",
   "pygments_lexer": "ipython3",
   "version": "3.7.6"
  }
 },
 "nbformat": 4,
 "nbformat_minor": 4
}
