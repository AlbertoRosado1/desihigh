{
  "cells": [
    {
      "cell_type": "code",
      "execution_count": 1,
      "id": "786f4d66",
      "metadata": {
        "id": "786f4d66"
      },
      "outputs": [],
      "source": [
        "from PIL import Image"
      ]
    },
    {
      "cell_type": "markdown",
      "id": "79ddf98a",
      "metadata": {
        "id": "79ddf98a"
      },
      "source": [
        "# Welcome to DESI High @ Google Collab!"
      ]
    },
    {
      "cell_type": "markdown",
      "id": "0f903986",
      "metadata": {
        "id": "0f903986"
      },
      "source": [
        "An exciting adventure awaits you as you will soon have at your fingertips hot-off-the-telescope DESI data to run your own experiments. "
      ]
    },
    {
      "cell_type": "markdown",
      "id": "fe224eea",
      "metadata": {
        "id": "fe224eea"
      },
      "source": [
        "For you to create and save your own experiments, we'll run everything on Google Colab.  This will leave you with a copy of any additions on your Google Drive. "
      ]
    },
    {
      "cell_type": "markdown",
      "id": "adb458e0",
      "metadata": {
        "id": "adb458e0"
      },
      "source": [
        "We'll need the starter script, downloading from the DESI High repo:"
      ]
    },
    {
      "cell_type": "code",
      "execution_count": 2,
      "id": "746096fd",
      "metadata": {
        "id": "746096fd",
        "outputId": "3c791417-3f0c-47b7-e0ee-9d5341a3f094",
        "colab": {
          "base_uri": "https://localhost:8080/"
        }
      },
      "outputs": [
        {
          "output_type": "stream",
          "name": "stdout",
          "text": [
            "--2022-02-04 07:35:00--  https://raw.githubusercontent.com/michaelJwilson/desihigh/main/colab.py\n",
            "Resolving raw.githubusercontent.com (raw.githubusercontent.com)... 185.199.108.133, 185.199.109.133, 185.199.110.133, ...\n",
            "Connecting to raw.githubusercontent.com (raw.githubusercontent.com)|185.199.108.133|:443... connected.\n",
            "HTTP request sent, awaiting response... 200 OK\n",
            "Length: 1026 (1.0K) [text/plain]\n",
            "Saving to: ‘desihigh_colab.py’\n",
            "\n",
            "desihigh_colab.py   100%[===================>]   1.00K  --.-KB/s    in 0s      \n",
            "\n",
            "2022-02-04 07:35:01 (27.2 MB/s) - ‘desihigh_colab.py’ saved [1026/1026]\n",
            "\n"
          ]
        }
      ],
      "source": [
        "! wget -O desihigh_colab.py https://raw.githubusercontent.com/michaelJwilson/desihigh/main/desihigh_colab.py"
      ]
    },
    {
      "cell_type": "markdown",
      "id": "0e65366d",
      "metadata": {
        "id": "0e65366d"
      },
      "source": [
        "So, without further ado, the magic incantation:"
      ]
    },
    {
      "cell_type": "code",
      "execution_count": 4,
      "id": "2d9fe293",
      "metadata": {
        "id": "2d9fe293",
        "outputId": "eb061394-be70-4d96-9e40-fd70c2a73b48",
        "colab": {
          "base_uri": "https://localhost:8080/"
        }
      },
      "outputs": [
        {
          "output_type": "stream",
          "name": "stdout",
          "text": [
            "Mounted at /content/drive/\n"
          ]
        }
      ],
      "source": [
        "import desihigh_colab"
      ]
    },
    {
      "cell_type": "markdown",
      "id": "44a7ba81",
      "metadata": {
        "id": "44a7ba81"
      },
      "source": [
        "Congratulations, you've just loaded your first Python library!  And it's a useful one aswell. Try to load an image."
      ]
    },
    {
      "cell_type": "code",
      "execution_count": 5,
      "id": "7e4883c3",
      "metadata": {
        "collapsed": true,
        "id": "7e4883c3",
        "outputId": "dc7f06a3-a785-4a1a-faef-6a4cf74869eb",
        "colab": {
          "base_uri": "https://localhost:8080/",
          "height": 283
        }
      },
      "outputs": [
        {
          "output_type": "error",
          "ename": "FileNotFoundError",
          "evalue": "ignored",
          "traceback": [
            "\u001b[0;31m---------------------------------------------------------------------------\u001b[0m",
            "\u001b[0;31mFileNotFoundError\u001b[0m                         Traceback (most recent call last)",
            "\u001b[0;32m<ipython-input-5-208764fe05a6>\u001b[0m in \u001b[0;36m<module>\u001b[0;34m()\u001b[0m\n\u001b[0;32m----> 1\u001b[0;31m \u001b[0mImage\u001b[0m\u001b[0;34m.\u001b[0m\u001b[0mopen\u001b[0m\u001b[0;34m(\u001b[0m\u001b[0;34m\"desihigh/images/colab.webp\"\u001b[0m\u001b[0;34m)\u001b[0m\u001b[0;34m\u001b[0m\u001b[0;34m\u001b[0m\u001b[0m\n\u001b[0m",
            "\u001b[0;32m/usr/local/lib/python3.7/dist-packages/PIL/Image.py\u001b[0m in \u001b[0;36mopen\u001b[0;34m(fp, mode)\u001b[0m\n\u001b[1;32m   2841\u001b[0m \u001b[0;34m\u001b[0m\u001b[0m\n\u001b[1;32m   2842\u001b[0m     \u001b[0;32mif\u001b[0m \u001b[0mfilename\u001b[0m\u001b[0;34m:\u001b[0m\u001b[0;34m\u001b[0m\u001b[0;34m\u001b[0m\u001b[0m\n\u001b[0;32m-> 2843\u001b[0;31m         \u001b[0mfp\u001b[0m \u001b[0;34m=\u001b[0m \u001b[0mbuiltins\u001b[0m\u001b[0;34m.\u001b[0m\u001b[0mopen\u001b[0m\u001b[0;34m(\u001b[0m\u001b[0mfilename\u001b[0m\u001b[0;34m,\u001b[0m \u001b[0;34m\"rb\"\u001b[0m\u001b[0;34m)\u001b[0m\u001b[0;34m\u001b[0m\u001b[0;34m\u001b[0m\u001b[0m\n\u001b[0m\u001b[1;32m   2844\u001b[0m         \u001b[0mexclusive_fp\u001b[0m \u001b[0;34m=\u001b[0m \u001b[0;32mTrue\u001b[0m\u001b[0;34m\u001b[0m\u001b[0;34m\u001b[0m\u001b[0m\n\u001b[1;32m   2845\u001b[0m \u001b[0;34m\u001b[0m\u001b[0m\n",
            "\u001b[0;31mFileNotFoundError\u001b[0m: [Errno 2] No such file or directory: 'desihigh/images/colab.webp'"
          ]
        }
      ],
      "source": [
        "Image.open(\"desihigh/images/colab.webp\")"
      ]
    },
    {
      "cell_type": "markdown",
      "id": "974e9f37",
      "metadata": {
        "id": "974e9f37"
      },
      "source": [
        "Now, we'll save this notebook to your drive.  You'll want to do this at the end of every notebook you've changed."
      ]
    },
    {
      "cell_type": "code",
      "execution_count": null,
      "id": "3ab0dbd1",
      "metadata": {
        "id": "3ab0dbd1"
      },
      "outputs": [],
      "source": [
        "colab.save_colab()"
      ]
    },
    {
      "cell_type": "markdown",
      "id": "b3a627e5",
      "metadata": {
        "id": "b3a627e5"
      },
      "source": [
        "Now, we can get started with the real thing.  Buckle up!"
      ]
    },
    {
      "cell_type": "markdown",
      "id": "5f541ea9",
      "metadata": {
        "id": "5f541ea9"
      },
      "source": [
        "[https://www.githubtocolab.com/michaelJwilson/desihigh](https://www.githubtocolab.com/michaelJwilson/desihigh)"
      ]
    }
  ],
  "metadata": {
    "kernelspec": {
      "display_name": "Python 3",
      "language": "python",
      "name": "python3"
    },
    "language_info": {
      "codemirror_mode": {
        "name": "ipython",
        "version": 3
      },
      "file_extension": ".py",
      "mimetype": "text/x-python",
      "name": "python",
      "nbconvert_exporter": "python",
      "pygments_lexer": "ipython3",
      "version": "3.6.5"
    },
    "colab": {
      "name": "Colab.ipynb",
      "provenance": []
    }
  },
  "nbformat": 4,
  "nbformat_minor": 5
}