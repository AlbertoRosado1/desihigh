{
 "cells": [
  {
   "cell_type": "markdown",
   "id": "79ddf98a",
   "metadata": {},
   "source": [
    "# Welcome to DESI High @ Google Collab!"
   ]
  },
  {
   "cell_type": "markdown",
   "id": "5c7d4a3d",
   "metadata": {},
   "source": [
    "![title](desihigh/images/colab.webp)"
   ]
  },
  {
   "cell_type": "markdown",
   "id": "0f903986",
   "metadata": {},
   "source": [
    "An exciting adventure awaits you as you will soon have at your fingertips hot-off-the-telescope DESI data to run your own experiments. "
   ]
  },
  {
   "cell_type": "markdown",
   "id": "fe224eea",
   "metadata": {},
   "source": [
    "For you to create and save your own experiments, we'll run everything on Google Colab.  This will leave you with a copy of any additions on your Google Drive. "
   ]
  },
  {
   "cell_type": "markdown",
   "id": "adb458e0",
   "metadata": {},
   "source": [
    "We'll need the starter script, downloading from the DESI High repo:"
   ]
  },
  {
   "cell_type": "code",
   "execution_count": 2,
   "id": "746096fd",
   "metadata": {},
   "outputs": [
    {
     "name": "stdout",
     "output_type": "stream",
     "text": [
      "File 'colab.py' already there; not retrieving.\r\n"
     ]
    }
   ],
   "source": [
    "! wget -O colab.py https://raw.githubusercontent.com/michaelJwilson/desihigh/main/colab.py"
   ]
  },
  {
   "cell_type": "markdown",
   "id": "0e65366d",
   "metadata": {},
   "source": [
    "So, without further ado, the magic incantation:"
   ]
  },
  {
   "cell_type": "code",
   "execution_count": 3,
   "id": "2d9fe293",
   "metadata": {},
   "outputs": [],
   "source": [
    "import colab"
   ]
  },
  {
   "cell_type": "markdown",
   "id": "44a7ba81",
   "metadata": {},
   "source": [
    "Congratulations, you've just loaded your first Python library!  And it's a useful one aswell."
   ]
  },
  {
   "cell_type": "markdown",
   "id": "b3a627e5",
   "metadata": {},
   "source": [
    "Now, we can get started with the real thing.  Buckle up!"
   ]
  },
  {
   "cell_type": "markdown",
   "id": "5f541ea9",
   "metadata": {},
   "source": [
    "[https://www.githubtocolab.com/michaelJwilson/desihigh](https://www.githubtocolab.com/michaelJwilson/desihigh)"
   ]
  }
 ],
 "metadata": {
  "kernelspec": {
   "display_name": "Python 3 (ipykernel)",
   "language": "python",
   "name": "python3"
  },
  "language_info": {
   "codemirror_mode": {
    "name": "ipython",
    "version": 3
   },
   "file_extension": ".py",
   "mimetype": "text/x-python",
   "name": "python",
   "nbconvert_exporter": "python",
   "pygments_lexer": "ipython3",
   "version": "3.7.11"
  }
 },
 "nbformat": 4,
 "nbformat_minor": 5
}
