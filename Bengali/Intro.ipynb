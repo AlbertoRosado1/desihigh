{
 "cells": [
  {
   "cell_type": "code",
   "execution_count": 1,
   "metadata": {},
   "outputs": [],
   "source": [
    "%matplotlib inline"
   ]
  },
  {
   "cell_type": "markdown",
   "metadata": {
    "lang": "bn"
   },
   "source": [
    "# *হাবল এবং DESI এর উপাখ্যান*"
   ]
  },
  {
   "cell_type": "markdown",
   "metadata": {
    "lang": "bn"
   },
   "source": [
    "১৯২৯ সালটি আমাদের কাছে এনেছিল অস্কার, প্রথম গাড়ির রেডিও এবং এডউইন হাবলের অপ্রত্যাশিত পর্যবেক্ষণ যে সমস্ত ছায়াপথগুলি (galaxies) আমাদের থেকে দূরে সরে যাচ্ছে!"
   ]
  },
  {
   "cell_type": "markdown",
   "metadata": {},
   "source": [
    "![title](../desihigh/images/edwin-hubble.jpg)"
   ]
  },
  {
   "cell_type": "markdown",
   "metadata": {
    "lang": "bn"
   },
   "source": [
    "আসুন আমরা হাবলের এমন দুটি ছায়াপথকে এক ঝলক দেখে নেই, ত্রিকোণ (Triangulum) এবং বৃহৎ ম্যাজেলানিক মেঘ (Large Magellanic Cloud)।"
   ]
  },
  {
   "cell_type": "markdown",
   "metadata": {},
   "source": [
    "![title](../desihigh/images/Triangulum.jpg)\n",
    "![title](../desihigh/images/LMC.jpg)"
   ]
  },
  {
   "cell_type": "markdown",
   "metadata": {
    "lang": "bn"
   },
   "source": [
    "হাবল আমাদের থেকে সর্বমোট ২৪টি ছায়াপথের দূরত্ব ও তাদের `লালসরণ'(redshift) মেপে ছিলেন। কিন্তু এর অর্থ কী?"
   ]
  },
  {
   "cell_type": "markdown",
   "metadata": {
    "lang": "bn"
   },
   "source": [
    "হতে পারে আপনি ইতিমধ্যে জানেন যে হাইড্রোজেনের শক্তির স্তরগুলি __কোয়ান্টাইত__ (quantized), অর্থাৎ স্তরগুলোর শক্তির পরিমাণ নির্দিষ্ট, এবং ইলেক্ট্রনগুলো __বিচ্ছিন্ন__ (discrete) খোলে (shell) বাস করে যেগুলোর শক্তির পরিমাণ নির্দিষ্ট করা। ইলেক্ট্রনগুলো যখন এক স্তর থেকে অন্য আরেক স্তরে স্থানান্তারিত হয়, তখন তা থেকে আলোককণা নির্গত হয় এবং তার তরঙ্গদৈর্ঘ্য আমরা \"রাইডবার্গ\" এর সূত্র ব্যাবহার করে পেতে পারিঃ\n",
    "\n",
    "$$\n",
    "\\lambda_{\\rm vac} = 1.096 \\times 10^{7} \\left ( \\frac{1}{n^2} - \\frac{1}{m^2} \\right ) \n",
    "$$\n",
    "\n",
    "যেখানে $n$ ও $m$ দুটি শক্তির স্তরকে চিহ্নিত করে। তারা $[0, 1, 2, ... \\infty]$ এর মধ্যে যেকোনো মান নিতে পারে।"
   ]
  },
  {
   "cell_type": "code",
   "execution_count": 2,
   "metadata": {},
   "outputs": [],
   "source": [
    "# First, let's import some useful packages:\n",
    "import astropy\n",
    "import pylab           as     pl\n",
    "import pandas          as     pd\n",
    "import numpy           as     np\n",
    "\n",
    "from   matplotlib      import pyplot as plt\n",
    "from   scipy           import stats\n",
    "from   IPython.display import Image\n",
    "from   tools.wave2rgb  import wavelength_to_rgb"
   ]
  },
  {
   "cell_type": "code",
   "execution_count": 3,
   "metadata": {},
   "outputs": [],
   "source": [
    "def Rydberg(n, m):\n",
    "    # Vacuum wavelengths [nanometres]\n",
    "    result = 1.096e-2 * (1. / n / n - 1. / m / m)\n",
    "    return 1. / result"
   ]
  },
  {
   "cell_type": "markdown",
   "metadata": {
    "lang": "bn"
   },
   "source": [
    "আসুন আমরা হাইড্রোজেন নির্গত করতে পারে এমন আলোর তরঙ্গদৈর্ঘ্যের হিসেবটা করে ফেলি"
   ]
  },
  {
   "cell_type": "code",
   "execution_count": 4,
   "metadata": {},
   "outputs": [
    {
     "name": "stdout",
     "output_type": "stream",
     "text": [
      "n \t m \t Wavelength [nm]\n",
      "1 \t 2 \t 121.655\n",
      "1 \t 3 \t 102.646\n",
      "1 \t 4 \t 97.324\n",
      "1 \t 5 \t 95.043\n",
      "1 \t 6 \t 93.848\n",
      "1 \t 7 \t 93.142\n",
      "1 \t 8 \t 92.689\n",
      "1 \t 9 \t 92.381\n",
      "2 \t 3 \t 656.934\n",
      "2 \t 4 \t 486.618\n",
      "2 \t 5 \t 434.480\n",
      "2 \t 6 \t 410.584\n",
      "2 \t 7 \t 397.405\n",
      "2 \t 8 \t 389.294\n",
      "2 \t 9 \t 383.923\n",
      "3 \t 4 \t 1876.955\n",
      "3 \t 5 \t 1283.075\n",
      "3 \t 6 \t 1094.891\n",
      "3 \t 7 \t 1005.931\n",
      "3 \t 8 \t 955.541\n",
      "3 \t 9 \t 923.814\n",
      "4 \t 5 \t 4055.150\n",
      "4 \t 6 \t 2627.737\n",
      "4 \t 7 \t 2167.662\n",
      "4 \t 8 \t 1946.472\n",
      "4 \t 9 \t 1819.203\n",
      "5 \t 6 \t 7465.163\n",
      "5 \t 7 \t 4657.086\n",
      "5 \t 8 \t 3743.215\n",
      "5 \t 9 \t 3299.335\n",
      "6 \t 7 \t 12380.685\n",
      "6 \t 8 \t 7507.821\n",
      "6 \t 9 \t 5912.409\n",
      "7 \t 8 \t 19075.426\n",
      "7 \t 9 \t 11316.720\n",
      "8 \t 9 \t 27823.100\n"
     ]
    }
   ],
   "source": [
    "waves = []\n",
    "\n",
    "print('n \\t m \\t Wavelength [nm]')\n",
    "\n",
    "for n in np.arange(1, 10, 1):\n",
    "    for m in np.arange(n+1, 10, 1):\n",
    "        wave = Rydberg(n, m)        \n",
    "        waves.append(wave)\n",
    "        \n",
    "        print('{:d} \\t {:d} \\t {:.3f}'.format(n, m, wave))"
   ]
  },
  {
   "cell_type": "markdown",
   "metadata": {
    "lang": "bn"
   },
   "source": [
    "এখন আসুন আমরা তরঙ্গদৈর্ঘ্যগুলির লেখচিত্র তৈরি করি ও এই তরঙ্গদৈর্ঘ্যগুলির রঙ পর্যবেক্ষণ করি। যদি আমরা নির্গত হাইড্রোজেন পরমাণুর দিকে তাকাতাম, তবে আমরা এই রঙগুলোই দেখতে পেতামঃ"
   ]
  },
  {
   "cell_type": "code",
   "execution_count": 5,
   "metadata": {},
   "outputs": [
    {
     "data": {
      "text/plain": [
       "(380.0, 780.0)"
      ]
     },
     "execution_count": 5,
     "metadata": {},
     "output_type": "execute_result"
    },
    {
     "data": {
      "image/png": "[encoded data removed]",
      "text/plain": [
       "<Figure size 432x288 with 1 Axes>"
      ]
     },
     "metadata": {
      "needs_background": "light"
     },
     "output_type": "display_data"
    }
   ],
   "source": [
    "for wave in waves:\n",
    "  # color = [r, g, b]\n",
    "  color = wavelength_to_rgb(wave)       \n",
    "  pl.axvline(x=wave, c=color)\n",
    "\n",
    "pl.xlabel('Vacuum wavelength [nanometers]')\n",
    "pl.xlim(380., 780.)"
   ]
  },
  {
   "cell_type": "markdown",
   "metadata": {
    "lang": "bn"
   },
   "source": [
    "যদি হাইড্রোজেন একটি চলমান ছায়াপথের মধ্যে উপস্থিত থাকে তবে আমরা দেখব যে উপরের চিহ্নিত তরঙ্গদৈর্ঘ্যগুলি ডপলার স্থানান্তরিত (Doppler shifted) হয়েছে। আমরা এটিকে ছায়াপথটির \"লালসরণ\" বলব, যেটি সাধারণত ইংরেজি $z$ (https://en.wikedia.org/wiki/Redshift) চলক (variable) দ্বারা চিহ্নিত হয়ে থাকে। আসুন ধরা যাক যে এই ছায়াপথটি আলোর গতির ১% গতিতে চলছে (v = 0.1 * c)। আমরা নীচের সমীকরণের মাধ্যমে তার লালসরণ গণনা করতে পারি: \n",
    "\n",
    "$$\n",
    "1 + z = \\sqrt{\\frac{1 + v/c}{1 + v/c}}\n",
    "$$"
   ]
  },
  {
   "cell_type": "code",
   "execution_count": 6,
   "metadata": {},
   "outputs": [],
   "source": [
    "def redshift(v):\n",
    "    # v [speed of light].\n",
    "    result = (1. + v) / (1. - v) \n",
    "    result = np.sqrt(result) - 1.\n",
    "    \n",
    "    return  result"
   ]
  },
  {
   "cell_type": "code",
   "execution_count": 7,
   "metadata": {},
   "outputs": [
    {
     "data": {
      "text/plain": [
       "(380.0, 780.0)"
      ]
     },
     "execution_count": 7,
     "metadata": {},
     "output_type": "execute_result"
    },
    {
     "data": {
      "image/png": "[encoded data removed]",
      "text/plain": [
       "<Figure size 432x288 with 1 Axes>"
      ]
     },
     "metadata": {
      "needs_background": "light"
     },
     "output_type": "display_data"
    }
   ],
   "source": [
    "zz = redshift(0.01) \n",
    "\n",
    "for restwave in waves:\n",
    "  obswave = (1. + zz) * restwave     \n",
    "\n",
    "  color   = wavelength_to_rgb(restwave)       \n",
    "  pl.axvline(x=restwave, c=color, alpha=0.25)\n",
    "\n",
    "  color   = wavelength_to_rgb(obswave)       \n",
    "  pl.axvline(x=obswave, c=color)\n",
    "\n",
    "pl.xlabel('Vacuum wavelength [nanometers]')\n",
    "pl.xlim(380., 780.)"
   ]
  },
  {
   "cell_type": "markdown",
   "metadata": {
    "lang": "bn"
   },
   "source": [
    "উপরে আমরা দেখতে পাচ্ছি হাইড্রোজেনের মূল তরঙ্গরেখাগুলি (স্বচ্ছ রঙ) এবং একই রেখাগুলি যখন তারা একটি চলমান ছায়াপথ এর হাইড্রোজেন থেকে নির্গত হচ্ছে (গাঢ় রঙ)। এই বিষয়ে আরও বিশদ জানতে চাইলে আপনি https://en.wikedia.org/wiki/Doppler_effect সাইটটি পড়তে পারেন।"
   ]
  },
  {
   "cell_type": "markdown",
   "metadata": {
    "lang": "bn"
   },
   "source": [
    "হাবল হাইড্রোজেন এবং অন্যান্য অনেক মৌলের নির্দিষ্ট তরঙ্গরেখাগুলি জানতেন। তাই, উপরের লেখচিত্রের মতন তিনি স্বচ্ছ ও গাঢ় রঙের রেখাগুলির মধ্যে পার্থক্য মেপে তিনি অনেক ছায়াপথের বেগ নির্ণয় করতে সক্ষম হন। তিনি এইসব ছায়াপথগুলোর দূরত্ব মাপতে পেরেছিলেন (এজন্য তিনি এইসব ছায়াপথের মধ্যে অবস্থিত কিছু বিশেষ তারার উজ্জ্বলতা ব্যাবহার করেছিলেন - https://en.wikedia.org/wiki/Cepheid_variable) এবং একই সাথে তারা কত দ্রুত আমাদের থেকে সরে যাচ্ছে তাও মাপতে পেরেছিলেন (উপরের মতো তাদের লালসরণ থেকে):"
   ]
  },
  {
   "cell_type": "code",
   "execution_count": 8,
   "metadata": {},
   "outputs": [
    {
     "data": {
      "text/html": [
       "<div>\n",
       "<style scoped>\n",
       "    .dataframe tbody tr th:only-of-type {\n",
       "        vertical-align: middle;\n",
       "    }\n",
       "\n",
       "    .dataframe tbody tr th {\n",
       "        vertical-align: top;\n",
       "    }\n",
       "\n",
       "    .dataframe thead th {\n",
       "        text-align: right;\n",
       "    }\n",
       "</style>\n",
       "<table border=\"1\" class=\"dataframe\">\n",
       "  <thead>\n",
       "    <tr style=\"text-align: right;\">\n",
       "      <th></th>\n",
       "      <th>Galaxy name</th>\n",
       "      <th>Distance [Mpc]</th>\n",
       "      <th>Velocity [km/s]</th>\n",
       "    </tr>\n",
       "  </thead>\n",
       "  <tbody>\n",
       "    <tr>\n",
       "      <th>0</th>\n",
       "      <td>S.Mag</td>\n",
       "      <td>0.032</td>\n",
       "      <td>170</td>\n",
       "    </tr>\n",
       "    <tr>\n",
       "      <th>1</th>\n",
       "      <td>L.Mag</td>\n",
       "      <td>0.034</td>\n",
       "      <td>290</td>\n",
       "    </tr>\n",
       "    <tr>\n",
       "      <th>2</th>\n",
       "      <td>NGC6822</td>\n",
       "      <td>0.214</td>\n",
       "      <td>-130</td>\n",
       "    </tr>\n",
       "    <tr>\n",
       "      <th>3</th>\n",
       "      <td>NGC598</td>\n",
       "      <td>0.263</td>\n",
       "      <td>-70</td>\n",
       "    </tr>\n",
       "    <tr>\n",
       "      <th>4</th>\n",
       "      <td>NGC221</td>\n",
       "      <td>0.275</td>\n",
       "      <td>-185</td>\n",
       "    </tr>\n",
       "    <tr>\n",
       "      <th>5</th>\n",
       "      <td>NGC224</td>\n",
       "      <td>0.275</td>\n",
       "      <td>-220</td>\n",
       "    </tr>\n",
       "    <tr>\n",
       "      <th>6</th>\n",
       "      <td>NGC5457</td>\n",
       "      <td>0.450</td>\n",
       "      <td>200</td>\n",
       "    </tr>\n",
       "    <tr>\n",
       "      <th>7</th>\n",
       "      <td>NGC4736</td>\n",
       "      <td>0.500</td>\n",
       "      <td>290</td>\n",
       "    </tr>\n",
       "    <tr>\n",
       "      <th>8</th>\n",
       "      <td>NGC5194</td>\n",
       "      <td>0.500</td>\n",
       "      <td>270</td>\n",
       "    </tr>\n",
       "    <tr>\n",
       "      <th>9</th>\n",
       "      <td>NGC4449</td>\n",
       "      <td>0.630</td>\n",
       "      <td>200</td>\n",
       "    </tr>\n",
       "    <tr>\n",
       "      <th>10</th>\n",
       "      <td>NGC4214</td>\n",
       "      <td>0.800</td>\n",
       "      <td>300</td>\n",
       "    </tr>\n",
       "    <tr>\n",
       "      <th>11</th>\n",
       "      <td>NGC3031</td>\n",
       "      <td>0.900</td>\n",
       "      <td>-30</td>\n",
       "    </tr>\n",
       "    <tr>\n",
       "      <th>12</th>\n",
       "      <td>NGC3627</td>\n",
       "      <td>0.900</td>\n",
       "      <td>650</td>\n",
       "    </tr>\n",
       "    <tr>\n",
       "      <th>13</th>\n",
       "      <td>NGC4826</td>\n",
       "      <td>0.900</td>\n",
       "      <td>150</td>\n",
       "    </tr>\n",
       "    <tr>\n",
       "      <th>14</th>\n",
       "      <td>NGC5236</td>\n",
       "      <td>0.900</td>\n",
       "      <td>500</td>\n",
       "    </tr>\n",
       "    <tr>\n",
       "      <th>15</th>\n",
       "      <td>NGC1068</td>\n",
       "      <td>1.000</td>\n",
       "      <td>920</td>\n",
       "    </tr>\n",
       "    <tr>\n",
       "      <th>16</th>\n",
       "      <td>NGC5055</td>\n",
       "      <td>1.100</td>\n",
       "      <td>450</td>\n",
       "    </tr>\n",
       "    <tr>\n",
       "      <th>17</th>\n",
       "      <td>NGC7331</td>\n",
       "      <td>1.100</td>\n",
       "      <td>500</td>\n",
       "    </tr>\n",
       "    <tr>\n",
       "      <th>18</th>\n",
       "      <td>NGC4258</td>\n",
       "      <td>1.400</td>\n",
       "      <td>500</td>\n",
       "    </tr>\n",
       "    <tr>\n",
       "      <th>19</th>\n",
       "      <td>NGC4151</td>\n",
       "      <td>1.700</td>\n",
       "      <td>960</td>\n",
       "    </tr>\n",
       "    <tr>\n",
       "      <th>20</th>\n",
       "      <td>NGC4382</td>\n",
       "      <td>2.000</td>\n",
       "      <td>500</td>\n",
       "    </tr>\n",
       "    <tr>\n",
       "      <th>21</th>\n",
       "      <td>NGC4472</td>\n",
       "      <td>2.000</td>\n",
       "      <td>850</td>\n",
       "    </tr>\n",
       "    <tr>\n",
       "      <th>22</th>\n",
       "      <td>NGC4486</td>\n",
       "      <td>2.000</td>\n",
       "      <td>800</td>\n",
       "    </tr>\n",
       "    <tr>\n",
       "      <th>23</th>\n",
       "      <td>NGC4649</td>\n",
       "      <td>2.000</td>\n",
       "      <td>1090</td>\n",
       "    </tr>\n",
       "  </tbody>\n",
       "</table>\n",
       "</div>"
      ],
      "text/plain": [
       "   Galaxy name  Distance [Mpc]  Velocity [km/s]\n",
       "0        S.Mag           0.032              170\n",
       "1        L.Mag           0.034              290\n",
       "2      NGC6822           0.214             -130\n",
       "3       NGC598           0.263              -70\n",
       "4       NGC221           0.275             -185\n",
       "5       NGC224           0.275             -220\n",
       "6      NGC5457           0.450              200\n",
       "7      NGC4736           0.500              290\n",
       "8      NGC5194           0.500              270\n",
       "9      NGC4449           0.630              200\n",
       "10     NGC4214           0.800              300\n",
       "11     NGC3031           0.900              -30\n",
       "12     NGC3627           0.900              650\n",
       "13     NGC4826           0.900              150\n",
       "14     NGC5236           0.900              500\n",
       "15     NGC1068           1.000              920\n",
       "16     NGC5055           1.100              450\n",
       "17     NGC7331           1.100              500\n",
       "18     NGC4258           1.400              500\n",
       "19     NGC4151           1.700              960\n",
       "20     NGC4382           2.000              500\n",
       "21     NGC4472           2.000              850\n",
       "22     NGC4486           2.000              800\n",
       "23     NGC4649           2.000             1090"
      ]
     },
     "execution_count": 8,
     "metadata": {},
     "output_type": "execute_result"
    }
   ],
   "source": [
    "dat = pd.read_csv('../desihigh/dat/hubble.dat', sep='\\s+', comment='#', names=['Galaxy name', 'Distance [Mpc]', 'Velocity [km/s]'])\n",
    "dat"
   ]
  },
  {
   "cell_type": "markdown",
   "metadata": {
    "lang": "bn"
   },
   "source": [
    "এবার এসকল ছায়াপথগুলোর লেখচিত্র করা যাক। আমরা x-অক্ষে দূরত্ব ও y-অক্ষে তাদের গতির লেখচিত্র তৈরি করব। "
   ]
  },
  {
   "cell_type": "code",
   "execution_count": 9,
   "metadata": {},
   "outputs": [],
   "source": [
    "fig = plt.figure(figsize=(10, 7.5))\n",
    "ax  = fig.add_subplot(1, 1, 1)\n",
    "plt.close()"
   ]
  },
  {
   "cell_type": "code",
   "execution_count": 10,
   "metadata": {},
   "outputs": [],
   "source": [
    "label_style = {'fontname': 'Georgia', 'fontsize': 16} "
   ]
  },
  {
   "cell_type": "code",
   "execution_count": 11,
   "metadata": {},
   "outputs": [
    {
     "data": {
      "text/plain": [
       "<Figure size 432x288 with 0 Axes>"
      ]
     },
     "metadata": {},
     "output_type": "display_data"
    }
   ],
   "source": [
    "ax.plot(dat['Distance [Mpc]'], dat['Velocity [km/s]'], '-', c='k', marker='*', lw=0)\n",
    "\n",
    "ax.set_xlabel('Distance from us [Megaparsecs]', **label_style)\n",
    "ax.set_ylabel('Recession velocity [km/s]', **label_style)\n",
    "\n",
    "plt.tight_layout()"
   ]
  },
  {
   "cell_type": "code",
   "execution_count": 12,
   "metadata": {},
   "outputs": [
    {
     "name": "stderr",
     "output_type": "stream",
     "text": [
      "findfont: Font family ['Georgia'] not found. Falling back to DejaVu Sans.\n"
     ]
    },
    {
     "data": {
      "image/png": "[encoded data removed]",
      "text/plain": [
       "<Figure size 720x540 with 1 Axes>"
      ]
     },
     "execution_count": 12,
     "metadata": {},
     "output_type": "execute_result"
    }
   ],
   "source": [
    "fig"
   ]
  },
  {
   "cell_type": "markdown",
   "metadata": {
    "lang": "bn"
   },
   "source": [
    "এডউইন একটি স্পষ্ট সংশ্লেষ (correlation) দেখেছিলেন, তবে চলকগুলোর পরিমাপনের মধ্যে বেশ ত্রুটি (noise) ছিল। আমরা এখন এই দুটি চলকের (variable) মধ্যকার সম্পর্ক কী তা সম্পর্কে একটি শ্রেষ্ঠ মিলকরণ (best fit) বের করব। আমরা `scipy` প্যাকেজটি ব্যাবহার করে একটি রৈখিক নির্ভরণ (linear regression) প্রাক্কলন (estimate) করব:"
   ]
  },
  {
   "cell_type": "code",
   "execution_count": 13,
   "metadata": {},
   "outputs": [],
   "source": [
    "slope, intercept, r_value, p_value, std_err = stats.linregress(dat['Distance [Mpc]'],dat['Velocity [km/s]'])"
   ]
  },
  {
   "cell_type": "code",
   "execution_count": 14,
   "metadata": {
    "lang": "en"
   },
   "outputs": [
    {
     "name": "stdout",
     "output_type": "stream",
     "text": [
      "The gradient to this trend is known as the Hubble constant:  454.158 [km/s/Mpc]\n"
     ]
    }
   ],
   "source": [
    "print('The gradient to this trend is known as the Hubble constant:  {:.3f} [km/s/Mpc]'.format(slope))"
   ]
  },
  {
   "cell_type": "markdown",
   "metadata": {
    "lang": "bn"
   },
   "source": [
    "এই সংশ্লেষের নতিমাত্রা (gradient) কে হাবলের ধ্রুবক (Hubble constant) বলা হয়ে থাকে।"
   ]
  },
  {
   "cell_type": "markdown",
   "metadata": {
    "lang": "bn"
   },
   "source": [
    "চলুন আমরা দেখি এটি কেমন দেখতে। "
   ]
  },
  {
   "cell_type": "code",
   "execution_count": 15,
   "metadata": {},
   "outputs": [
    {
     "data": {
      "text/plain": [
       "(0.0, 2.5)"
      ]
     },
     "execution_count": 15,
     "metadata": {},
     "output_type": "execute_result"
    }
   ],
   "source": [
    "distances  = np.linspace(-0.5, 2.5, 10)\n",
    "velocities = slope * distances\n",
    "\n",
    "ax.plot(distances, velocities, lw=0.25, c='k')\n",
    "ax.set_xlim(0.0, 2.5)"
   ]
  },
  {
   "cell_type": "code",
   "execution_count": 16,
   "metadata": {},
   "outputs": [
    {
     "data": {
      "image/png": "[encoded data removed]",
      "text/plain": [
       "<Figure size 720x540 with 1 Axes>"
      ]
     },
     "execution_count": 16,
     "metadata": {},
     "output_type": "execute_result"
    }
   ],
   "source": [
    "fig"
   ]
  },
  {
   "cell_type": "markdown",
   "metadata": {
    "lang": "bn"
   },
   "source": [
    "দেখা যাচ্ছে যে মিলটি (fit) বেশ ভাল হয়েছে!"
   ]
  },
  {
   "cell_type": "markdown",
   "metadata": {
    "lang": "bn"
   },
   "source": [
    "এখন আপনার পালা, আপনি কি বের করতে পারবেন হাবলের ধ্রুবকের পরিমাপনের বিচ্যুতি (error) কত? \n",
    "যদি আমরা একটি ছায়াপথের দূরত্ব জানি, তবে আমরা কতটুকু সঠিকভাবে পূর্বাভাস করতে পারি তার বেগ কত?"
   ]
  },
  {
   "cell_type": "markdown",
   "metadata": {
    "lang": "bn"
   },
   "source": [
    "সুতরাং উপসংহারে, প্রতিটি সম্ভাব্য ছায়াপথ আমাদের থেকে দূরে চলে যাচ্ছে! আমরা এই তত্ত্বটি সকল ছায়াপথের ক্ষেত্রে সত্য বলে মনে করি। আমরা কোনওভাবেই কোন কিছুর অথবা মহাবিশ্বের কেন্দ্রে নই অথবা কোন বিশেষ জায়গায় নই বরং প্রতিটি ছায়াপথ একে অপরের থেকে দূরে চলে যাচ্ছে। মহাবিশ্বের সম্প্রসারণের বিষয়টি ১৯২৯ সালে অনেকের কাছে একটি ধাক্কা হিসাবে আসে, তবে এর চেয়েও বড় অবাক হওয়ার বিষয় তাদের জন্য ভবিষ্যতে অপেক্ষা করছিল। "
   ]
  },
  {
   "cell_type": "markdown",
   "metadata": {
    "lang": "bn"
   },
   "source": [
    "# *কৃষ্ণশক্তি*"
   ]
  },
  {
   "cell_type": "markdown",
   "metadata": {
    "lang": "bn"
   },
   "source": [
    "১৯৯৮ সালে পৃথিবী চিরতরের জন্য পরিবর্তিত হল। ল্যারি পেজ এবং সের্গেই ব্রিন গুগল প্রতিষ্ঠা করলেন, আমেরিকার ইউনিটি নোড এবং রাশিয়ার জারিয়া মডিউলকে একত্রিত করে [আন্তর্জাতিক স্পেস স্টেশন](https://en.wikipedia.org/wiki/International_Space_Station) গঠিত হল, এবং লরেন্স বার্কলি ল্যাব এর বিজ্ঞানী সল পার্লমাটার, ব্রায়ান স্মিডট এবং অ্যাডাম রিস অকাট্যভাবে _কৃষ্ণশক্তি_ র অস্তিত্ব নিশ্চিত করলেন। নিচের ছবিতে সে সময়ের সলকে দেখা যাচ্ছে  এই ফলাফলগুলি দিয়ে কিছু তরুণ বার্কলি গবেষককে মুগ্ধ করতেঃ "
   ]
  },
  {
   "cell_type": "markdown",
   "metadata": {},
   "source": [
    "![title](../desihigh/images/perlmutter.png)"
   ]
  },
  {
   "cell_type": "markdown",
   "metadata": {
    "lang": "bn"
   },
   "source": [
    "তাহলে সবাই কিসের দিকে তাকিয়ে ছিল? আমরাও এই উপাত্তের (data) দিকে এক নজর দেইঃ "
   ]
  },
  {
   "cell_type": "markdown",
   "metadata": {
    "lang": "bn"
   },
   "source": [
    "সল এবং তার দলটি বিভিন্ন ধরণের Ia সুপারনোভা (https://en.wikipedia.org/wiki/Type_Ia_supernova) এর লালসরণ ($z$) এবং কার্যকর উজ্জ্বলতার মাত্রা (effective magnitude) পরিমাপ করেছিলেন। "
   ]
  },
  {
   "cell_type": "code",
   "execution_count": 17,
   "metadata": {},
   "outputs": [
    {
     "data": {
      "text/html": [
       "<div>\n",
       "<style scoped>\n",
       "    .dataframe tbody tr th:only-of-type {\n",
       "        vertical-align: middle;\n",
       "    }\n",
       "\n",
       "    .dataframe tbody tr th {\n",
       "        vertical-align: top;\n",
       "    }\n",
       "\n",
       "    .dataframe thead th {\n",
       "        text-align: right;\n",
       "    }\n",
       "</style>\n",
       "<table border=\"1\" class=\"dataframe\">\n",
       "  <thead>\n",
       "    <tr style=\"text-align: right;\">\n",
       "      <th></th>\n",
       "      <th>z</th>\n",
       "      <th>Effective magnitude</th>\n",
       "    </tr>\n",
       "  </thead>\n",
       "  <tbody>\n",
       "    <tr>\n",
       "      <th>0</th>\n",
       "      <td>0.458</td>\n",
       "      <td>23.11</td>\n",
       "    </tr>\n",
       "    <tr>\n",
       "      <th>1</th>\n",
       "      <td>0.354</td>\n",
       "      <td>22.38</td>\n",
       "    </tr>\n",
       "    <tr>\n",
       "      <th>2</th>\n",
       "      <td>0.425</td>\n",
       "      <td>22.13</td>\n",
       "    </tr>\n",
       "    <tr>\n",
       "      <th>3</th>\n",
       "      <td>0.374</td>\n",
       "      <td>21.72</td>\n",
       "    </tr>\n",
       "    <tr>\n",
       "      <th>4</th>\n",
       "      <td>0.420</td>\n",
       "      <td>22.55</td>\n",
       "    </tr>\n",
       "    <tr>\n",
       "      <th>5</th>\n",
       "      <td>0.372</td>\n",
       "      <td>22.26</td>\n",
       "    </tr>\n",
       "    <tr>\n",
       "      <th>6</th>\n",
       "      <td>0.378</td>\n",
       "      <td>22.58</td>\n",
       "    </tr>\n",
       "    <tr>\n",
       "      <th>7</th>\n",
       "      <td>0.453</td>\n",
       "      <td>23.17</td>\n",
       "    </tr>\n",
       "    <tr>\n",
       "      <th>8</th>\n",
       "      <td>0.465</td>\n",
       "      <td>23.33</td>\n",
       "    </tr>\n",
       "    <tr>\n",
       "      <th>9</th>\n",
       "      <td>0.498</td>\n",
       "      <td>23.71</td>\n",
       "    </tr>\n",
       "  </tbody>\n",
       "</table>\n",
       "</div>"
      ],
      "text/plain": [
       "       z  Effective magnitude\n",
       "0  0.458                23.11\n",
       "1  0.354                22.38\n",
       "2  0.425                22.13\n",
       "3  0.374                21.72\n",
       "4  0.420                22.55\n",
       "5  0.372                22.26\n",
       "6  0.378                22.58\n",
       "7  0.453                23.17\n",
       "8  0.465                23.33\n",
       "9  0.498                23.71"
      ]
     },
     "execution_count": 17,
     "metadata": {},
     "output_type": "execute_result"
    }
   ],
   "source": [
    "dat     = pd.read_csv('../desihigh/dat/perlmutter.txt', names=['z', 'Effective magnitude'], comment='#', sep='\\s+')\n",
    "toprint = dat[:10]\n",
    "toprint"
   ]
  },
  {
   "cell_type": "markdown",
   "metadata": {
    "lang": "bn"
   },
   "source": [
    "একটি চিত্রলেখে এটি আরও সহজভাবে বোঝা যায়:"
   ]
  },
  {
   "cell_type": "code",
   "execution_count": 18,
   "metadata": {},
   "outputs": [
    {
     "data": {
      "text/plain": [
       "Text(0, 0.5, 'Effective magnitude')"
      ]
     },
     "execution_count": 18,
     "metadata": {},
     "output_type": "execute_result"
    },
    {
     "data": {
      "image/png": "[encoded data removed]",
      "text/plain": [
       "<Figure size 432x288 with 1 Axes>"
      ]
     },
     "metadata": {
      "needs_background": "light"
     },
     "output_type": "display_data"
    }
   ],
   "source": [
    "pl.plot(dat['z'], dat['Effective magnitude'], marker='.', lw=0.0)\n",
    "\n",
    "pl.xlabel('z')\n",
    "pl.ylabel('Effective magnitude')"
   ]
  },
  {
   "cell_type": "markdown",
   "metadata": {
    "lang": "bn"
   },
   "source": [
    "সলের দৃঢ় বিশ্বাস ছিল, এবং তার উপযুক্ত কারণ ছিল, যে প্রতিটি  [Ia সুপারনোভা](https://en.wikedia.org/wiki/Type_Ia_supernova) এর প্রকৃত উজ্জ্বলতা (intrinsic brightness) একই। কিন্তু লালসরণ বেশি সুপারনোভাগুলোর আপাত উজ্জ্বলতা (apparent brightness), লালসরণ কম সুপারনোভাগুলোর থেকে কম, কারণ বেশি লালসরণ তারকাগুলোর দূরত্ব কম লালসরণ তারকাগুলো থেকে বেশি। এটি প্রদর্শিত সংশ্লেষকে (correlation) ব্যাখ্যা করে। আমাদের এক্ষেত্রে জেনে রাখা দরকার যে 'কার্যকর উজ্জ্বলতার মাত্রা' হল একটি খটমটে পরিমাপ ব্যাবস্থা যার মাধ্যমে জ্যোতির্বিদরা সাধারণত যে কোন কিছুর উজ্জ্বলতা প্রকাশ করে থাকেন। "
   ]
  },
  {
   "cell_type": "markdown",
   "metadata": {
    "lang": "bn"
   },
   "source": [
    "এই পরিমাপ সম্পর্কে যা আমাদের জানা দরকারি -- কোন প্রদত্ত লালসরণের জন্য একটি সুপারনোভা বা গ্যালাক্সি কতটা দূরে রয়েছে তা কয়েকটি পরামিতির (parameter) উপর নির্ভর করে, যার মধ্যে একটি হল মহাবিশ্বে কতটুকু কৃষ্ণশক্তি আছে। সল যখন এই গবেষণাটি করছিলেন, তখন প্রায় সকলেই প্রত্যাশা করছিলেন যে এই গবেষণার ফল দেখাবে যে _কৃষ্ণশক্তি বলে কিছুই নেই_, কিন্তু কয়েক জন অন্যথা অনুমান করেছিলেন।\n",
    "\n",
    "হাবল যখন সম্প্রসারণটি আবিষ্কার করলেন, তখন এর ফলস্বরূপ অনেকেই ভেবেছিলেন যে স্থিতিভরশক্তি (rest mass-energy) এর ঘনত্বের পরিমাণ সময়ের সাথে কমে যাবে।  এক্ষেত্রে কৃষ্ণশক্তির অস্তিত্ব অনেকটাই ভূতুড়ে হবে, কারণ, কৃষ্ণশক্তির কারণে শক্তির ঘনত্বের পরিমাণ সময়ের সাথে অপরিবর্তিত থাকবে এবং এর অস্তিত্বের ব্যাখ্যা শুধুমাত্র [কোয়ান্টাম মেকানিক্স](https://en.wikedia.org/wiki/Quantum_mechanics) দ্বারাই সম্ভব। এই কৃষ্ণশক্তিই ছায়াপথগুলোকে একে অপর থেকে পৃথক করবে।"
   ]
  },
  {
   "cell_type": "markdown",
   "metadata": {
    "lang": "bn"
   },
   "source": [
    "তবে আসুন আমরা সলের উপাত্ত ব্যবহার করে মহাবিশ্বে কৃষ্ণশক্তির পরিমাণ কত তা নির্ধারণ করি। প্রথমত, আমাদের একটি প্রতিরূপ (model) দরকার যার মাধ্যমে আমরা হিসেব করতে পারব যে যদি আমাদের একটি সুপারনোভার লালসরণ এবং মহাবিশ্বের কৃষ্ণশক্তির পরিমাণ জানা থাকে, তবে সেই সুপারনোভার (উজ্জ্বলতা) দূরত্ব (luminosity distance) কত।  মহাবিশ্বের সব ভরশক্তির মধ্যে কৃষ্ণশক্তির ভগ্নাংশ কত, তা বোঝাতে আমরা $\\Omega_\\Lambda$ চিহ্নটি ব্যাবহার করব। জেনে রাখা ভাল যে এই $\\Lambda$ চিহ্নটি এসেছে আইনস্টাইনের সাধারণ আপেক্ষিতাবাদ (General Relativity) থেকে।"
   ]
  },
  {
   "cell_type": "code",
   "execution_count": 19,
   "metadata": {},
   "outputs": [],
   "source": [
    "from astropy.cosmology import FlatLambdaCDM\n",
    "\n",
    "def lumdist(z, olambda):\n",
    "  cosmo = FlatLambdaCDM(H0=70, Om0=1. - olambda, Tcmb0=2.725)\n",
    "    \n",
    "  return  cosmo.luminosity_distance(z)   "
   ]
  },
  {
   "cell_type": "markdown",
   "metadata": {
    "lang": "bn"
   },
   "source": [
    "আমরা এখন এই দূরত্বকে উজ্জ্বলতায় প্রকাশ করব, যেভাবে জ্যোতির্বিদরা সাধারণত করে থাকেন:"
   ]
  },
  {
   "cell_type": "code",
   "execution_count": 20,
   "metadata": {},
   "outputs": [],
   "source": [
    "def effmag(z, olambda, MB):\n",
    "  DL = lumdist(z, olambda)   \n",
    "\n",
    "  return MB + 5. * np.log10(DL.value)    "
   ]
  },
  {
   "cell_type": "code",
   "execution_count": 21,
   "metadata": {},
   "outputs": [
    {
     "data": {
      "text/plain": [
       "<matplotlib.legend.Legend at 0x7fb4c43f9430>"
      ]
     },
     "execution_count": 21,
     "metadata": {},
     "output_type": "execute_result"
    },
    {
     "data": {
      "image/png": "[encoded data removed]",
      "text/plain": [
       "<Figure size 432x288 with 1 Axes>"
      ]
     },
     "metadata": {
      "needs_background": "light"
     },
     "output_type": "display_data"
    }
   ],
   "source": [
    "zs = np.arange(0.01, 0.85, 0.01)\n",
    "\n",
    "pl.plot(dat['z'], dat['Effective magnitude'], marker='.', lw=0.0)\n",
    "\n",
    "pl.plot(zs, effmag(zs, 0.0, 6.), c='k', label='No Dark Energy', alpha=0.5)\n",
    "pl.plot(zs, effmag(zs, 0.5, 6.), c='k', label='Dark Energy!')\n",
    "\n",
    "pl.xlabel('z')\n",
    "pl.ylabel('Effective magnitude')\n",
    "\n",
    "pl.legend(loc=4, frameon=False)"
   ]
  },
  {
   "cell_type": "markdown",
   "metadata": {
    "lang": "bn"
   },
   "source": [
    "শুধু চোখ দিয়ে দেখেই আমরা বলতে পারি যে আমাদের উপাত্ত কৃষ্ণশক্তি প্রতিরূপের (model) সাথে বেশি সামঞ্জস্যপূর্ণ। তবে আমরা আরও বুঝতে পারি যে কৃষ্ণশক্তির পরিমাণ বেশি নেই। আসুন আমরা বোঝার চেষ্টা করি আমাদের উপাত্ত আমাদের কি বলতে ছাইছে।\n",
    "আমাদের তত্ত্ব (theory) উপাত্তের সাথে কতটুকু সামঞ্জস্যপূর্ণ তা মাপার জন্য আমরা [ন্যূনতম বর্গ](https://en.wikedia.org/wiki/Least_squares) পদ্ধতিটি ব্যাবহার করব; এই পদ্ধতি ব্যাবহারের সময় আমরা ধরে নেই যে যেই রেখার সাথে বিন্দুগুলোর দূরত্ব সবচেয়ে কম, সেই রেখাটিই আমাদের বলে দেবে যে আমাদের তত্ত্বের সাথে উপাত্তের সামঞ্জস্যতা কতটুকু। আমরা যেহেতু কৃষ্ণশক্তির ভগ্নাংশ ও সুপারনোভাগুলোর প্রকৃত উজ্জ্বলতা জানি না, তাই আমরা এই দুটি পরামিতিকে (parameters) একই সাথে মিলানোর (fit) চেষ্টা করব। "
   ]
  },
  {
   "cell_type": "code",
   "execution_count": 22,
   "metadata": {},
   "outputs": [],
   "source": [
    "from scipy.optimize import minimize"
   ]
  },
  {
   "cell_type": "code",
   "execution_count": 23,
   "metadata": {},
   "outputs": [],
   "source": [
    "def chi2(x):\n",
    "     olambda = x[0]\n",
    "     MB      = x[1] \n",
    "    \n",
    "     model   = effmag(dat['z'], olambda, MB) \n",
    "     \n",
    "     return  np.sum((dat['Effective magnitude'] - model)**2.) "
   ]
  },
  {
   "cell_type": "code",
   "execution_count": 24,
   "metadata": {},
   "outputs": [
    {
     "name": "stdout",
     "output_type": "stream",
     "text": [
      "Optimization terminated successfully.\n",
      "         Current function value: 6.018565\n",
      "         Iterations: 10\n",
      "         Function evaluations: 39\n",
      "         Gradient evaluations: 13\n"
     ]
    }
   ],
   "source": [
    "res = minimize(chi2, x0=[0.5, 5.0], options={'disp': True})"
   ]
  },
  {
   "cell_type": "code",
   "execution_count": 25,
   "metadata": {},
   "outputs": [
    {
     "data": {
      "text/plain": [
       "array([0.75146005, 5.82802909])"
      ]
     },
     "execution_count": 25,
     "metadata": {},
     "output_type": "execute_result"
    }
   ],
   "source": [
    "res.x"
   ]
  },
  {
   "cell_type": "code",
   "execution_count": 26,
   "metadata": {},
   "outputs": [
    {
     "data": {
      "text/plain": [
       "<matplotlib.legend.Legend at 0x7fb4c42d75e0>"
      ]
     },
     "execution_count": 26,
     "metadata": {},
     "output_type": "execute_result"
    },
    {
     "data": {
      "image/png": "[encoded data removed]",
      "text/plain": [
       "<Figure size 432x288 with 1 Axes>"
      ]
     },
     "metadata": {
      "needs_background": "light"
     },
     "output_type": "display_data"
    }
   ],
   "source": [
    "zs = np.arange(0.01, 0.85, 0.01)\n",
    "\n",
    "pl.plot(dat['z'], dat['Effective magnitude'], marker='.', lw=0.0)\n",
    "\n",
    "pl.plot(zs, effmag(zs, 0.0, 6.), c='k',   label='No Dark Energy', alpha=0.5)\n",
    "pl.plot(zs, effmag(zs, 0.7, 6.), c='k',   label='50% Dark Energy!')\n",
    "pl.plot(zs, effmag(zs, 0.751, 6.), c='c', label='75% Dark Energy!')\n",
    "\n",
    "pl.xlabel('z')\n",
    "pl.ylabel('Effective magnitude')\n",
    "\n",
    "pl.legend(loc=4, frameon=False)"
   ]
  },
  {
   "cell_type": "markdown",
   "metadata": {
    "lang": "bn"
   },
   "source": [
    "সুতরাং আমাদের মহাবিশ্বের ৭৫% কৃষ্ণশক্তি! এই পরিমাপটি করার প্রথম ব্যক্তি হিসাবে সল, ব্রায়ান স্মিডট এবং অ্যাডাম রিসকে তাদের কাজের জন্য ২০১১ সালের পদার্থবিজ্ঞানে নোবেল পুরষ্কার দেয়া হয়।"
   ]
  },
  {
   "cell_type": "markdown",
   "metadata": {},
   "source": [
    "![title](../desihigh/images/perlmutter_nobel.jpg)"
   ]
  },
  {
   "cell_type": "markdown",
   "metadata": {
    "lang": "bn"
   },
   "source": [
    "আপনি এখানে সমস্ত বিবরণ পেতে পারেন: https://arxiv.org/pdf/astro-ph/9812133.pdf। সতর্কতা বার্তা: এটি পেশাদার জ্যোতির্বিদদের জন্য তাই আপনি যদি বেশি কিছু না বুঝতে পারেন তবে ভয় পাবেন না।"
   ]
  },
  {
   "cell_type": "markdown",
   "metadata": {
    "lang": "bn"
   },
   "source": [
    "DESI এর প্রাথমিক অনুপ্রেরণা হল অনুরূপ দূরবর্তী-লালসরণ পরিমাপকে আরও নিখুঁতভাবে পুনরাবৃত্তি করা এবং এই গোলমেলে কৃষ্ণশক্তি সম্পর্কে আরও অনেক কিছু জানা।"
   ]
  }
 ],
 "metadata": {
  "kernelspec": {
   "display_name": "Python 3",
   "language": "python",
   "name": "python3"
  },
  "language_info": {
   "codemirror_mode": {
    "name": "ipython",
    "version": 3
   },
   "file_extension": ".py",
   "mimetype": "text/x-python",
   "name": "python",
   "nbconvert_exporter": "python",
   "pygments_lexer": "ipython3",
   "version": "3.8.6"
  },
  "latex_envs": {
   "LaTeX_envs_menu_present": true,
   "autoclose": false,
   "autocomplete": true,
   "bibliofile": "biblio.bib",
   "cite_by": "apalike",
   "current_citInitial": 1,
   "eqLabelWithNumbers": true,
   "eqNumInitial": 1,
   "hotkeys": {
    "equation": "Ctrl-E",
    "itemize": "Ctrl-I"
   },
   "labels_anchors": false,
   "latex_user_defs": false,
   "report_style_numbering": false,
   "user_envs_cfg": false
  },
  "nbTranslate": {
   "displayLangs": [
    "bn"
   ],
   "hotkey": "alt-t",
   "langInMainMenu": true,
   "sourceLang": "en",
   "targetLang": "bn",
   "useGoogleTranslate": true
  }
 },
 "nbformat": 4,
 "nbformat_minor": 4
}
