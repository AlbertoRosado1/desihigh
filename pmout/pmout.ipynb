{
 "cells": [
  {
   "cell_type": "code",
   "execution_count": 1,
   "metadata": {
    "execution": {
     "iopub.execute_input": "2020-08-27T22:46:41.808331Z",
     "iopub.status.busy": "2020-08-27T22:46:41.807807Z",
     "iopub.status.idle": "2020-08-27T22:46:41.809251Z",
     "shell.execute_reply": "2020-08-27T22:46:41.809603Z"
    },
    "papermill": {
     "duration": 0.040889,
     "end_time": "2020-08-27T22:46:41.809769",
     "exception": false,
     "start_time": "2020-08-27T22:46:41.768880",
     "status": "completed"
    },
    "tags": [
     "injected-parameters"
    ]
   },
   "outputs": [],
   "source": [
    "# Parameters\n",
    "alpha = 0.6\n",
    "ratio = 0.1\n"
   ]
  },
  {
   "cell_type": "code",
   "execution_count": 2,
   "metadata": {
    "execution": {
     "iopub.execute_input": "2020-08-27T22:46:41.872622Z",
     "iopub.status.busy": "2020-08-27T22:46:41.872131Z",
     "iopub.status.idle": "2020-08-27T22:46:42.409311Z",
     "shell.execute_reply": "2020-08-27T22:46:42.409763Z"
    },
    "papermill": {
     "duration": 0.570139,
     "end_time": "2020-08-27T22:46:42.409952",
     "exception": false,
     "start_time": "2020-08-27T22:46:41.839813",
     "status": "completed"
    },
    "tags": []
   },
   "outputs": [],
   "source": [
    "import pylab             as     pl\n",
    "import numpy             as     np\n",
    "import matplotlib.pyplot as     plt\n",
    "\n",
    "from   astropy.cosmology import Planck15"
   ]
  },
  {
   "cell_type": "markdown",
   "metadata": {
    "papermill": {
     "duration": 0.029259,
     "end_time": "2020-08-27T22:46:42.469683",
     "exception": false,
     "start_time": "2020-08-27T22:46:42.440424",
     "status": "completed"
    },
    "tags": []
   },
   "source": [
    "# OII and <u>more<u> galaxies"
   ]
  },
  {
   "cell_type": "markdown",
   "metadata": {
    "papermill": {
     "duration": 0.029325,
     "end_time": "2020-08-27T22:46:42.529227",
     "exception": false,
     "start_time": "2020-08-27T22:46:42.499902",
     "status": "completed"
    },
    "tags": []
   },
   "source": [
    "Whether by looking further, or by collecting those that we've missed previously, our science always gets better with more galaxies!  Problem is, we've looked at all the easy, bright galaxies already and things get harder as we are forced to observe the faintest galaxies we know of.  We have to be smart about how we do this and sometimes a surprising opportunity presents itself ..."
   ]
  },
  {
   "cell_type": "markdown",
   "metadata": {
    "papermill": {
     "duration": 0.02887,
     "end_time": "2020-08-27T22:46:42.587757",
     "exception": false,
     "start_time": "2020-08-27T22:46:42.558887",
     "status": "completed"
    },
    "tags": []
   },
   "source": [
    "_Warning:  this notebook takes a step up in difficulty to let us design more fun experiments based on what you'll learn here.  If you're having any problems, please [ask](https://github.com/michaelJwilson/DESI-HighSchool/issues/new/choose).  Stick with it!_"
   ]
  },
  {
   "cell_type": "markdown",
   "metadata": {
    "papermill": {
     "duration": 0.029017,
     "end_time": "2020-08-27T22:46:42.646325",
     "exception": false,
     "start_time": "2020-08-27T22:46:42.617308",
     "status": "completed"
    },
    "tags": []
   },
   "source": [
    "Tired of listening to your parents?  Atoms feel the same way.  Their life if a series of rules, rules, rules.  Do this, don't do that;  the [list](https://en.wikipedia.org/wiki/Selection_rule) is long.  But just sometimes, they get sick of it and rebel,"
   ]
  },
  {
   "cell_type": "markdown",
   "metadata": {
    "papermill": {
     "duration": 0.032022,
     "end_time": "2020-08-27T22:46:42.708624",
     "exception": false,
     "start_time": "2020-08-27T22:46:42.676602",
     "status": "completed"
    },
    "tags": []
   },
   "source": [
    "![title](images/Climate.png)"
   ]
  },
  {
   "cell_type": "markdown",
   "metadata": {
    "papermill": {
     "duration": 0.029704,
     "end_time": "2020-08-27T22:46:42.767927",
     "exception": false,
     "start_time": "2020-08-27T22:46:42.738223",
     "status": "completed"
    },
    "tags": []
   },
   "source": [
    "Turns out that a rebellion, once in a while, can be a good thing.  For instance, (doubly) ionised oxygen or [OII], (incredibly rarely) emits a unique doublet that it wouldn't [otherwise](https://en.wikipedia.org/wiki/Forbidden_mechanism).  Let's see what happens."
   ]
  },
  {
   "cell_type": "code",
   "execution_count": 3,
   "metadata": {
    "execution": {
     "iopub.execute_input": "2020-08-27T22:46:42.830838Z",
     "iopub.status.busy": "2020-08-27T22:46:42.830323Z",
     "iopub.status.idle": "2020-08-27T22:46:42.832091Z",
     "shell.execute_reply": "2020-08-27T22:46:42.832459Z"
    },
    "papermill": {
     "duration": 0.035027,
     "end_time": "2020-08-27T22:46:42.832617",
     "exception": false,
     "start_time": "2020-08-27T22:46:42.797590",
     "status": "completed"
    },
    "tags": []
   },
   "outputs": [],
   "source": [
    "# Wavelengths of OII doublet.\n",
    "lambdaa = 3727.092 # Angstroms\n",
    "lambdab = 3729.875 # Angstorms\n",
    "\n",
    "# Energy weighted mean.\n",
    "OII     = 3728.483\n",
    "\n",
    "# Width of each line due to thermal broadening.\n",
    "def width(center, dv):    \n",
    "    # velocity difference [speed of light]\n",
    "    return  center * dv"
   ]
  },
  {
   "cell_type": "code",
   "execution_count": 4,
   "metadata": {
    "execution": {
     "iopub.execute_input": "2020-08-27T22:46:42.899415Z",
     "iopub.status.busy": "2020-08-27T22:46:42.898916Z",
     "iopub.status.idle": "2020-08-27T22:46:43.417984Z",
     "shell.execute_reply": "2020-08-27T22:46:43.418332Z"
    },
    "papermill": {
     "duration": 0.554436,
     "end_time": "2020-08-27T22:46:43.418492",
     "exception": false,
     "start_time": "2020-08-27T22:46:42.864056",
     "status": "completed"
    },
    "tags": []
   },
   "outputs": [
    {
     "data": {
      "text/plain": [
       "Text(0, 0.5, 'Normalised flux')"
      ]
     },
     "execution_count": 4,
     "metadata": {},
     "output_type": "execute_result"
    },
    {
     "data": {
      "image/png": "[encoded data removed]",
      "text/plain": [
       "<Figure size 432x288 with 1 Axes>"
      ]
     },
     "metadata": {
      "needs_background": "light"
     },
     "output_type": "display_data"
    }
   ],
   "source": [
    "wave     = np.arange(1000, 1.e4, 0.05)\n",
    "\n",
    "dlambdaa = width(lambdaa, 1.e-4)\n",
    "dlambdab = width(lambdab, 1.e-4) \n",
    "\n",
    "def gaussian(wave, center, width):\n",
    "    #  https://en.wikipedia.org/wiki/Gaussian_function \n",
    "    norm = np.sqrt(2. * np.pi / width)\n",
    "    \n",
    "    return  np.exp(-0.5 * (wave - center)**2. / width**2.)\n",
    "\n",
    "ax       = pl.gca()\n",
    "\n",
    "ax.fill_between(wave, 0., gaussian(wave, lambdaa, dlambdaa), color='b', alpha=1.0)\n",
    "ax.fill_between(wave, 0., gaussian(wave, lambdab, dlambdab), color='b', alpha=1.0)\n",
    "\n",
    "ax.fill_between(wave, 0., gaussian(wave, 3889.0, width(3889.0, 1.e-4)), color='k', alpha=1.)\n",
    "\n",
    "pl.xlim(3700., 3900.)\n",
    "pl.ylim(0.25, 1.1)\n",
    "\n",
    "pl.xlabel('Wavelength [AA]')\n",
    "pl.ylabel('Normalised flux')"
   ]
  },
  {
   "cell_type": "markdown",
   "metadata": {
    "papermill": {
     "duration": 0.030404,
     "end_time": "2020-08-27T22:46:43.479068",
     "exception": false,
     "start_time": "2020-08-27T22:46:43.448664",
     "status": "completed"
    },
    "tags": []
   },
   "source": [
    "First, the _forbidden_ [OII] transitions (blue) represent a doublet of two closely spaced lines.  These have finite width as the emitting stars are moving (at 0.01% in this example) leading to the usual Doppler broadening.  Contrast this with the black He I line, which is a single line or \"singlet\".  Trouble is, a single line emitted by a galaxy at one redshift can look like a different line at another redshift."
   ]
  },
  {
   "cell_type": "markdown",
   "metadata": {
    "papermill": {
     "duration": 0.030557,
     "end_time": "2020-08-27T22:46:43.544331",
     "exception": false,
     "start_time": "2020-08-27T22:46:43.513774",
     "status": "completed"
    },
    "tags": []
   },
   "source": [
    "Your turn, if there was a Lyman-$\\alpha$ emitter at $z=4.0$, would I be able to tell the difference from a H-$\\alpha$ emitter (6564.61 Angstroms) at a different redshift?  What redshift would this second galaxy have?  Remember, the observed wavelength is $(1 + z) \\ \\times$ the rest-frame wavelength and Lyman-$\\alpha$ is the 2-1 transition of Hydrogen we saw in the Intro."
   ]
  },
  {
   "cell_type": "markdown",
   "metadata": {
    "papermill": {
     "duration": 0.030163,
     "end_time": "2020-08-27T22:46:43.604377",
     "exception": false,
     "start_time": "2020-08-27T22:46:43.574214",
     "status": "completed"
    },
    "tags": []
   },
   "source": [
    "So [OII] is unique in that, as a doublet, we're more likely to be able to tell it apart from singlets at different redshifts.  The second great thing is that it's the second strongest line emitted by young stars (the first being H-$\\alpha$), as in the Orion nebulae - an iconic picture of star formation:"
   ]
  },
  {
   "cell_type": "markdown",
   "metadata": {
    "papermill": {
     "duration": 0.030473,
     "end_time": "2020-08-27T22:46:43.665788",
     "exception": false,
     "start_time": "2020-08-27T22:46:43.635315",
     "status": "completed"
    },
    "tags": []
   },
   "source": [
    "<img src=\"images/orion.jpg\" alt=\"Drawing\" style=\"width: 800px;\"/>"
   ]
  },
  {
   "cell_type": "markdown",
   "metadata": {
    "papermill": {
     "duration": 0.030671,
     "end_time": "2020-08-27T22:46:43.727915",
     "exception": false,
     "start_time": "2020-08-27T22:46:43.697244",
     "status": "completed"
    },
    "tags": []
   },
   "source": [
    "Galaxies at high redshift are younger and more actively forming stars hence they emit lots of [OII].  So, as we look further out, we're more likely to see OII emitters.  As these galaxies are so far away, it'd be very difficult to detect something as faint if it weren't for this OII emission:"
   ]
  },
  {
   "cell_type": "code",
   "execution_count": 5,
   "metadata": {
    "execution": {
     "iopub.execute_input": "2020-08-27T22:46:43.794213Z",
     "iopub.status.busy": "2020-08-27T22:46:43.793586Z",
     "iopub.status.idle": "2020-08-27T22:46:44.430851Z",
     "shell.execute_reply": "2020-08-27T22:46:44.431263Z"
    },
    "papermill": {
     "duration": 0.672325,
     "end_time": "2020-08-27T22:46:44.431426",
     "exception": false,
     "start_time": "2020-08-27T22:46:43.759101",
     "status": "completed"
    },
    "tags": []
   },
   "outputs": [
    {
     "data": {
      "text/plain": [
       "[<matplotlib.lines.Line2D at 0x151c140410>]"
      ]
     },
     "execution_count": 5,
     "metadata": {},
     "output_type": "execute_result"
    },
    {
     "data": {
      "image/png": "[encoded data removed]",
      "text/plain": [
       "<Figure size 432x288 with 1 Axes>"
      ]
     },
     "metadata": {
      "needs_background": "light"
     },
     "output_type": "display_data"
    }
   ],
   "source": [
    "zs       = np.arange(0.01, 1.7, 0.01)\n",
    "lumdists = Planck15.luminosity_distance(zs)\n",
    "\n",
    "faints   = (lumdists / lumdists[0])**2.\n",
    "\n",
    "pl.xlabel(r'$z$')\n",
    "pl.ylabel('Faintness relative to a galaxy in your lap')\n",
    "\n",
    "pl.semilogy(zs, faints)"
   ]
  },
  {
   "cell_type": "markdown",
   "metadata": {
    "papermill": {
     "duration": 0.032205,
     "end_time": "2020-08-27T22:46:44.494346",
     "exception": false,
     "start_time": "2020-08-27T22:46:44.462141",
     "status": "completed"
    },
    "tags": []
   },
   "source": [
    "By $z=0.25$, a galaxy is 1000x fainter than it would be in your lap.  By $z=1.75$, the furthest ELG detected by DESI, its 10,000 times fainter (how much fainter depends on whether there's Dark Energy in the Universe - here we've assumed the ~70% we learnt of in the Intro).  [Astropy](https://docs.astropy.org/en/stable/index.html) makes this really easy to figure out, but it'd be much better to understand how to get there.  To get some idea, try [here](https://in-the-sky.org/article.php?term=cosmological_distance)."
   ]
  },
  {
   "cell_type": "markdown",
   "metadata": {
    "papermill": {
     "duration": 0.031344,
     "end_time": "2020-08-27T22:46:44.557718",
     "exception": false,
     "start_time": "2020-08-27T22:46:44.526374",
     "status": "completed"
    },
    "tags": []
   },
   "source": [
    "So, we want emission-line galaxies (ELG) with an OII doublet.  We had better be sure that our telescope, and instrument for dispersing light, is capable of detecting and \"resolving\" this faint signal.  Crucially, our instrument must be designed to ensure that the doublet is not blurerd, as this would turn the doublet into a singlet and lead to the same confusion we would like to avoid.  Question is, how should we do this?  Would a simple lab. [prism](https://en.wikipedia.org/wiki/Prism_spectrometer) suffice?"
   ]
  },
  {
   "cell_type": "markdown",
   "metadata": {
    "papermill": {
     "duration": 0.031227,
     "end_time": "2020-08-27T22:46:44.619969",
     "exception": false,
     "start_time": "2020-08-27T22:46:44.588742",
     "status": "completed"
    },
    "tags": []
   },
   "source": [
    "The answer is no, the prism would have to be much too big and lose too much light to achieve the dispersion - separatation between colors - required.  We need something more advanced, a grating, which can disperses light due to diffraction (or reflection) and interference caused by a series of slits etched into metal (with diamond).  See [here](https://en.wikipedia.org/wiki/Diffraction_grating) for the details."
   ]
  },
  {
   "cell_type": "markdown",
   "metadata": {
    "papermill": {
     "duration": 0.031776,
     "end_time": "2020-08-27T22:46:44.683899",
     "exception": false,
     "start_time": "2020-08-27T22:46:44.652123",
     "status": "completed"
    },
    "tags": []
   },
   "source": [
    "In fact, DESI uses a special grating that changes the [refractive index](https://en.wikipedia.org/wiki/Refractive_index) of glass, thousands of times every millimeter, to achieve the same [effect](https://arxiv.org/pdf/1611.00037.pdf):"
   ]
  },
  {
   "cell_type": "markdown",
   "metadata": {
    "papermill": {
     "duration": 0.031489,
     "end_time": "2020-08-27T22:46:44.748152",
     "exception": false,
     "start_time": "2020-08-27T22:46:44.716663",
     "status": "completed"
    },
    "tags": []
   },
   "source": [
    "<img src=\"images/vpg.jpg\" alt=\"Drawing\" style=\"width: 700px;\"/>"
   ]
  },
  {
   "cell_type": "markdown",
   "metadata": {
    "papermill": {
     "duration": 0.031829,
     "end_time": "2020-08-27T22:46:44.810748",
     "exception": false,
     "start_time": "2020-08-27T22:46:44.778919",
     "status": "completed"
    },
    "tags": []
   },
   "source": [
    "Etching these lines is expensive, so we need to be minimise how many we need.  You wouldn't waste your pocket money, right?  So what resolution do we _need_ for this (OII) emission-line galaxy science? And what does that mean for the instrument we need to build?  "
   ]
  },
  {
   "cell_type": "markdown",
   "metadata": {
    "papermill": {
     "duration": 0.031605,
     "end_time": "2020-08-27T22:46:44.873154",
     "exception": false,
     "start_time": "2020-08-27T22:46:44.841549",
     "status": "completed"
    },
    "tags": []
   },
   "source": [
    "The resolution $R$ is defined to be $(\\Delta \\lambda /\\lambda)$, where $\\Delta \\lambda$ is the effective width of a (Gaussian) line.  So as the instrumental resolution gets lower, our observed lines get broader:"
   ]
  },
  {
   "cell_type": "code",
   "execution_count": 6,
   "metadata": {
    "execution": {
     "iopub.execute_input": "2020-08-27T22:46:44.940423Z",
     "iopub.status.busy": "2020-08-27T22:46:44.939929Z",
     "iopub.status.idle": "2020-08-27T22:46:44.942121Z",
     "shell.execute_reply": "2020-08-27T22:46:44.941689Z"
    },
    "papermill": {
     "duration": 0.036517,
     "end_time": "2020-08-27T22:46:44.942259",
     "exception": false,
     "start_time": "2020-08-27T22:46:44.905742",
     "status": "completed"
    },
    "tags": []
   },
   "outputs": [],
   "source": [
    "def dlamba_inst(R, z, center):\n",
    "    # eqn. (2) of https://arxiv.org/pdf/1310.0615.pdf\n",
    "    return  (1. + z) * center / R # [Angstroms]"
   ]
  },
  {
   "cell_type": "code",
   "execution_count": 7,
   "metadata": {
    "execution": {
     "iopub.execute_input": "2020-08-27T22:46:45.020926Z",
     "iopub.status.busy": "2020-08-27T22:46:45.020350Z",
     "iopub.status.idle": "2020-08-27T22:46:45.259810Z",
     "shell.execute_reply": "2020-08-27T22:46:45.260156Z"
    },
    "papermill": {
     "duration": 0.285907,
     "end_time": "2020-08-27T22:46:45.260377",
     "exception": false,
     "start_time": "2020-08-27T22:46:44.974470",
     "status": "completed"
    },
    "tags": []
   },
   "outputs": [
    {
     "data": {
      "text/plain": [
       "(3710.0, 3750.0)"
      ]
     },
     "execution_count": 7,
     "metadata": {},
     "output_type": "execute_result"
    },
    {
     "data": {
      "image/png": "[encoded data removed]",
      "text/plain": [
       "<Figure size 720x720 with 1 Axes>"
      ]
     },
     "metadata": {
      "needs_background": "light"
     },
     "output_type": "display_data"
    }
   ],
   "source": [
    "fig, ax = plt.subplots(1, 1, figsize=(10,10))\n",
    "\n",
    "for R in [1000., 2000., 3000., 4000., 5.e4]:\n",
    "    ax.plot(wave, gaussian(wave, lambdaa, dlamba_inst(R, 0.25, lambdaa)), label='R={:.0f}'.format(R))\n",
    "    \n",
    "ax.plot(wave, gaussian(wave, lambdaa, dlambdaa), color='k', alpha=0.5, label='Thermal')\n",
    "    \n",
    "ax.set_xlabel('Wavelength [Angstroms]')\n",
    "ax.set_ylabel('Flux$_{\\lambda}$ [erg/s/cm$^2$/Angstrom]')\n",
    "\n",
    "ax.legend(frameon=False, loc=1)\n",
    "ax.set_xlim(3710., 3750.)"
   ]
  },
  {
   "cell_type": "markdown",
   "metadata": {
    "papermill": {
     "duration": 0.033627,
     "end_time": "2020-08-27T22:46:45.326710",
     "exception": false,
     "start_time": "2020-08-27T22:46:45.293083",
     "status": "completed"
    },
    "tags": []
   },
   "source": [
    "So would a resolution of $R=50,000$ make sense for DESI?  No, as the line would be broader due simply to the thermal velocity of the emitting gas in the galaxy!  Let's see this.  If we have the correct broadening due to _both_ the velocity dispersion of the emitting gas and the instrument, the width saturates no matter the instrumental resolution:"
   ]
  },
  {
   "cell_type": "code",
   "execution_count": 8,
   "metadata": {
    "execution": {
     "iopub.execute_input": "2020-08-27T22:46:45.396406Z",
     "iopub.status.busy": "2020-08-27T22:46:45.395890Z",
     "iopub.status.idle": "2020-08-27T22:46:45.397766Z",
     "shell.execute_reply": "2020-08-27T22:46:45.398108Z"
    },
    "papermill": {
     "duration": 0.038912,
     "end_time": "2020-08-27T22:46:45.398337",
     "exception": false,
     "start_time": "2020-08-27T22:46:45.359425",
     "status": "completed"
    },
    "tags": []
   },
   "outputs": [],
   "source": [
    "def dlamba_tot(R, z, center, v=1.e-4):\n",
    "    # Widths of Gaussians add in quadrature; (https://en.wikipedia.org/wiki/Propagation_of_uncertainty).\n",
    "    return np.sqrt(dlamba_inst(R, z, center)**2. + width(center, v)**2.)"
   ]
  },
  {
   "cell_type": "code",
   "execution_count": 9,
   "metadata": {
    "execution": {
     "iopub.execute_input": "2020-08-27T22:46:45.477445Z",
     "iopub.status.busy": "2020-08-27T22:46:45.476177Z",
     "iopub.status.idle": "2020-08-27T22:46:45.702970Z",
     "shell.execute_reply": "2020-08-27T22:46:45.703743Z"
    },
    "papermill": {
     "duration": 0.272407,
     "end_time": "2020-08-27T22:46:45.704027",
     "exception": false,
     "start_time": "2020-08-27T22:46:45.431620",
     "status": "completed"
    },
    "tags": []
   },
   "outputs": [
    {
     "data": {
      "text/plain": [
       "(3710.0, 3750.0)"
      ]
     },
     "execution_count": 9,
     "metadata": {},
     "output_type": "execute_result"
    },
    {
     "data": {
      "image/png": "[encoded data removed]",
      "text/plain": [
       "<Figure size 720x720 with 1 Axes>"
      ]
     },
     "metadata": {
      "needs_background": "light"
     },
     "output_type": "display_data"
    }
   ],
   "source": [
    "fig, ax = plt.subplots(1, 1, figsize=(10,10))\n",
    "\n",
    "ax.plot(wave, gaussian(wave, lambdaa, dlambdaa), color='k', alpha=0.5, label='Thermal')\n",
    "\n",
    "for R in [1000., 2000., 3000., 4000., 5.e4]:\n",
    "    ax.plot(wave, gaussian(wave, lambdaa, dlamba_tot(R, 0.25, lambdaa)), label='R={:.0f}'.format(R))\n",
    "        \n",
    "ax.set_xlabel('Wavelength [Angstroms]')\n",
    "ax.set_ylabel('Flux$_{\\lambda}$ [erg/s/cm$^2$/Angstrom]')\n",
    "        \n",
    "ax.legend(frameon=False, loc=1)\n",
    "ax.set_xlim(3710., 3750.)"
   ]
  },
  {
   "cell_type": "markdown",
   "metadata": {
    "papermill": {
     "duration": 0.034328,
     "end_time": "2020-08-27T22:46:45.774860",
     "exception": false,
     "start_time": "2020-08-27T22:46:45.740532",
     "status": "completed"
    },
    "tags": []
   },
   "source": [
    "So you can see that with an insufficient instrument, [OII] will become blurred and totally useless to us!  But we need to know what is good enough.  Let's try."
   ]
  },
  {
   "cell_type": "markdown",
   "metadata": {
    "papermill": {
     "duration": 0.035588,
     "end_time": "2020-08-27T22:46:45.850170",
     "exception": false,
     "start_time": "2020-08-27T22:46:45.814582",
     "status": "completed"
    },
    "tags": []
   },
   "source": [
    "The resolution $R$ defines the resolution element as $R= (\\lambda / \\Delta \\lambda)$, as above, for a galaxy at redshift $z$, for instance:"
   ]
  },
  {
   "cell_type": "code",
   "execution_count": 10,
   "metadata": {
    "execution": {
     "iopub.execute_input": "2020-08-27T22:46:45.923733Z",
     "iopub.status.busy": "2020-08-27T22:46:45.923238Z",
     "iopub.status.idle": "2020-08-27T22:46:45.924829Z",
     "shell.execute_reply": "2020-08-27T22:46:45.925176Z"
    },
    "papermill": {
     "duration": 0.039122,
     "end_time": "2020-08-27T22:46:45.925332",
     "exception": false,
     "start_time": "2020-08-27T22:46:45.886210",
     "status": "completed"
    },
    "tags": []
   },
   "outputs": [],
   "source": [
    "R       = 9.e3\n",
    "z       = 1.00"
   ]
  },
  {
   "cell_type": "markdown",
   "metadata": {
    "papermill": {
     "duration": 0.034352,
     "end_time": "2020-08-27T22:46:45.994939",
     "exception": false,
     "start_time": "2020-08-27T22:46:45.960587",
     "status": "completed"
    },
    "tags": []
   },
   "source": [
    "giving the width of a resolution element as"
   ]
  },
  {
   "cell_type": "code",
   "execution_count": 11,
   "metadata": {
    "execution": {
     "iopub.execute_input": "2020-08-27T22:46:46.069830Z",
     "iopub.status.busy": "2020-08-27T22:46:46.069215Z",
     "iopub.status.idle": "2020-08-27T22:46:46.071015Z",
     "shell.execute_reply": "2020-08-27T22:46:46.071366Z"
    },
    "papermill": {
     "duration": 0.041272,
     "end_time": "2020-08-27T22:46:46.071521",
     "exception": false,
     "start_time": "2020-08-27T22:46:46.030249",
     "status": "completed"
    },
    "tags": []
   },
   "outputs": [],
   "source": [
    "dlambda = OII * (1 + z) / R  # [Angstroms]."
   ]
  },
  {
   "cell_type": "markdown",
   "metadata": {
    "papermill": {
     "duration": 0.035229,
     "end_time": "2020-08-27T22:46:46.141439",
     "exception": false,
     "start_time": "2020-08-27T22:46:46.106210",
     "status": "completed"
    },
    "tags": []
   },
   "source": [
    "A very famous [theorem](https://en.wikipedia.org/wiki/Nyquist-Shannon_sampling_theorem) - incidentally, an entry point to [Information Theory](https://en.wikipedia.org/wiki/Information_theory) and the digital world - tells us that we need to sample a resolution element at least _twice_ to accurately reconstruct a (bandpass limited) function its samples.  To be safe, we'll sample it three times, given a pixel width 1/3 the width of the resolution element:"
   ]
  },
  {
   "cell_type": "code",
   "execution_count": 12,
   "metadata": {
    "execution": {
     "iopub.execute_input": "2020-08-27T22:46:46.216823Z",
     "iopub.status.busy": "2020-08-27T22:46:46.215959Z",
     "iopub.status.idle": "2020-08-27T22:46:46.217972Z",
     "shell.execute_reply": "2020-08-27T22:46:46.218362Z"
    },
    "papermill": {
     "duration": 0.04211,
     "end_time": "2020-08-27T22:46:46.218565",
     "exception": false,
     "start_time": "2020-08-27T22:46:46.176455",
     "status": "completed"
    },
    "tags": []
   },
   "outputs": [],
   "source": [
    "# width of a pixel in Angstroms, rather than a resolution element.\n",
    "dlambda  /= 3."
   ]
  },
  {
   "cell_type": "code",
   "execution_count": 13,
   "metadata": {
    "execution": {
     "iopub.execute_input": "2020-08-27T22:46:46.291563Z",
     "iopub.status.busy": "2020-08-27T22:46:46.291057Z",
     "iopub.status.idle": "2020-08-27T22:46:46.293251Z",
     "shell.execute_reply": "2020-08-27T22:46:46.293602Z"
    },
    "papermill": {
     "duration": 0.040446,
     "end_time": "2020-08-27T22:46:46.293757",
     "exception": false,
     "start_time": "2020-08-27T22:46:46.253311",
     "status": "completed"
    },
    "tags": []
   },
   "outputs": [],
   "source": [
    "# Let's match our wavelengths to this grid of pixels:\n",
    "wave     = np.arange(3600, 1.e4, dlambda)"
   ]
  },
  {
   "cell_type": "markdown",
   "metadata": {
    "papermill": {
     "duration": 0.035057,
     "end_time": "2020-08-27T22:46:46.363891",
     "exception": false,
     "start_time": "2020-08-27T22:46:46.328834",
     "status": "completed"
    },
    "tags": []
   },
   "source": [
    "Now, the Mayall Telescope used by DESI has a (primary) mirror that is 3.8m in diameter, so an area of "
   ]
  },
  {
   "cell_type": "code",
   "execution_count": 14,
   "metadata": {
    "execution": {
     "iopub.execute_input": "2020-08-27T22:46:46.437679Z",
     "iopub.status.busy": "2020-08-27T22:46:46.437056Z",
     "iopub.status.idle": "2020-08-27T22:46:46.439290Z",
     "shell.execute_reply": "2020-08-27T22:46:46.439641Z"
    },
    "papermill": {
     "duration": 0.040807,
     "end_time": "2020-08-27T22:46:46.439813",
     "exception": false,
     "start_time": "2020-08-27T22:46:46.399006",
     "status": "completed"
    },
    "tags": []
   },
   "outputs": [
    {
     "data": {
      "text/plain": [
       "113411.49479459153"
      ]
     },
     "execution_count": 14,
     "metadata": {},
     "output_type": "execute_result"
    }
   ],
   "source": [
    "# Area of the circular DESI primary mirror.\n",
    "Area  = np.pi * (3.8 / 2.)**2.\n",
    "\n",
    "# [m] to [cm].\n",
    "Area *= 1.e4\n",
    "\n",
    "Area # [cm^2]"
   ]
  },
  {
   "cell_type": "markdown",
   "metadata": {
    "papermill": {
     "duration": 0.03482,
     "end_time": "2020-08-27T22:46:46.509794",
     "exception": false,
     "start_time": "2020-08-27T22:46:46.474974",
     "status": "completed"
    },
    "tags": []
   },
   "source": [
    "with this mirror gently curved to focus light to a point at the [focus](https://en.wikipedia.org/wiki/Cassegrain_reflector), with a focal length of 10.7m."
   ]
  },
  {
   "cell_type": "markdown",
   "metadata": {
    "papermill": {
     "duration": 0.03505,
     "end_time": "2020-08-27T22:46:46.579981",
     "exception": false,
     "start_time": "2020-08-27T22:46:46.544931",
     "status": "completed"
    },
    "tags": []
   },
   "source": [
    "<img src=\"images/mirror.jpg\" alt=\"Drawing\" style=\"width: 700px;\"/>"
   ]
  },
  {
   "cell_type": "markdown",
   "metadata": {
    "papermill": {
     "duration": 0.034821,
     "end_time": "2020-08-27T22:46:46.650097",
     "exception": false,
     "start_time": "2020-08-27T22:46:46.615276",
     "status": "completed"
    },
    "tags": []
   },
   "source": [
    "When DESI points to the sky, it takes a snapshot of the light caught by 5000 individual fibers at a time.  You can see 500 in a wedge-shaped \"petal\" below"
   ]
  },
  {
   "cell_type": "markdown",
   "metadata": {
    "papermill": {
     "duration": 0.035912,
     "end_time": "2020-08-27T22:46:46.721520",
     "exception": false,
     "start_time": "2020-08-27T22:46:46.685608",
     "status": "completed"
    },
    "tags": []
   },
   "source": [
    "<img src=\"images/petal.jpg\" alt=\"Drawing\" style=\"width: 700px;\"/>"
   ]
  },
  {
   "cell_type": "markdown",
   "metadata": {
    "papermill": {
     "duration": 0.035067,
     "end_time": "2020-08-27T22:46:46.791543",
     "exception": false,
     "start_time": "2020-08-27T22:46:46.756476",
     "status": "completed"
    },
    "tags": []
   },
   "source": [
    "Each fiber is $w=107 \\mu m$ or $10^{-4}m$ in diameter and 10 of the above petals populate the DESI focal plane.  With the $f_{\\rm{M1}} = 10.7$m focal length, each fiber recieves light from a circular patch on the sky of $\\theta \\simeq (w/2) \\ / \\ f_{\\rm{M1}}$.    "
   ]
  },
  {
   "cell_type": "code",
   "execution_count": 15,
   "metadata": {
    "execution": {
     "iopub.execute_input": "2020-08-27T22:46:46.867321Z",
     "iopub.status.busy": "2020-08-27T22:46:46.866774Z",
     "iopub.status.idle": "2020-08-27T22:46:46.868522Z",
     "shell.execute_reply": "2020-08-27T22:46:46.868870Z"
    },
    "papermill": {
     "duration": 0.041425,
     "end_time": "2020-08-27T22:46:46.869023",
     "exception": false,
     "start_time": "2020-08-27T22:46:46.827598",
     "status": "completed"
    },
    "tags": []
   },
   "outputs": [],
   "source": [
    "# Angular radius of fiber, rather than diameter.\n",
    "theta  = 107e-6 / 2 / 10.7 # [radians]\n",
    "theta *= 180. / np.pi      # [degrees]\n",
    "theta *= 60. * 60.         # [arcseconds]  "
   ]
  },
  {
   "cell_type": "code",
   "execution_count": 16,
   "metadata": {
    "execution": {
     "iopub.execute_input": "2020-08-27T22:46:46.941971Z",
     "iopub.status.busy": "2020-08-27T22:46:46.941424Z",
     "iopub.status.idle": "2020-08-27T22:46:46.944138Z",
     "shell.execute_reply": "2020-08-27T22:46:46.943616Z"
    },
    "papermill": {
     "duration": 0.040378,
     "end_time": "2020-08-27T22:46:46.944345",
     "exception": false,
     "start_time": "2020-08-27T22:46:46.903967",
     "status": "completed"
    },
    "tags": []
   },
   "outputs": [
    {
     "data": {
      "text/plain": [
       "1.0313240312354819"
      ]
     },
     "execution_count": 16,
     "metadata": {},
     "output_type": "execute_result"
    }
   ],
   "source": [
    "theta                      # [arcseconds] "
   ]
  },
  {
   "cell_type": "markdown",
   "metadata": {
    "papermill": {
     "duration": 0.036487,
     "end_time": "2020-08-27T22:46:47.016559",
     "exception": false,
     "start_time": "2020-08-27T22:46:46.980072",
     "status": "completed"
    },
    "tags": []
   },
   "source": [
    "In reality, the 'plate scale' varies such that a better approximation is 1.5 arcseconds."
   ]
  },
  {
   "cell_type": "code",
   "execution_count": 17,
   "metadata": {
    "execution": {
     "iopub.execute_input": "2020-08-27T22:46:47.089203Z",
     "iopub.status.busy": "2020-08-27T22:46:47.088702Z",
     "iopub.status.idle": "2020-08-27T22:46:47.090434Z",
     "shell.execute_reply": "2020-08-27T22:46:47.090782Z"
    },
    "papermill": {
     "duration": 0.039343,
     "end_time": "2020-08-27T22:46:47.090936",
     "exception": false,
     "start_time": "2020-08-27T22:46:47.051593",
     "status": "completed"
    },
    "tags": []
   },
   "outputs": [],
   "source": [
    "theta = 1.5                # [arcseconds]"
   ]
  },
  {
   "cell_type": "markdown",
   "metadata": {
    "papermill": {
     "duration": 0.035283,
     "end_time": "2020-08-27T22:46:47.161642",
     "exception": false,
     "start_time": "2020-08-27T22:46:47.126359",
     "status": "completed"
    },
    "tags": []
   },
   "source": [
    "Each fiber has that a small motor such that it can travel to observe any galaxy within each circle shown:  (You can see more examples with the [viewer](https://www.legacysurvey.org/viewer#IC%201229\"))."
   ]
  },
  {
   "cell_type": "markdown",
   "metadata": {
    "papermill": {
     "duration": 0.037468,
     "end_time": "2020-08-27T22:46:47.233998",
     "exception": false,
     "start_time": "2020-08-27T22:46:47.196530",
     "status": "completed"
    },
    "tags": []
   },
   "source": [
    "<img src=\"images/Fiber.png\" alt=\"Drawing\" style=\"width: 700px;\"/>"
   ]
  },
  {
   "cell_type": "markdown",
   "metadata": {
    "papermill": {
     "duration": 0.035258,
     "end_time": "2020-08-27T22:46:47.305329",
     "exception": false,
     "start_time": "2020-08-27T22:46:47.270071",
     "status": "completed"
    },
    "tags": []
   },
   "source": [
    "The light recieved by each fiber is then redirected along an optial fiber to eventually land on a single pixel of a CCD, where each photon is converted to an electron by the [photoelectric effect](https://en.wikipedia.org/wiki/Photoelectric_effect) - one of the first discoveries in Quantum Mechanics by Einstein!  \n",
    "\n",
    "Our close cousin the Dark Energy Survey observes on an identical twin to the Mayall in Chile and has some of the prettiest [CCDs](https://www.darkenergysurvey.org/the-des-project/instrument/the-camera/) around (each rectangle).  In total, there are sixty two CCDS shown, with 2048 x 4096 pixels each, for a total of 520 million pixels!  By comparison, the latest iPhones have [12 Million pixels](https://www.iphonefaq.org/archives/976253).        "
   ]
  },
  {
   "cell_type": "markdown",
   "metadata": {
    "papermill": {
     "duration": 0.035366,
     "end_time": "2020-08-27T22:46:47.375699",
     "exception": false,
     "start_time": "2020-08-27T22:46:47.340333",
     "status": "completed"
    },
    "tags": []
   },
   "source": [
    "<img src=\"images/des.jpg\" alt=\"Drawing\" style=\"width: 700px;\"/>"
   ]
  },
  {
   "cell_type": "markdown",
   "metadata": {
    "papermill": {
     "duration": 0.034911,
     "end_time": "2020-08-27T22:46:47.446292",
     "exception": false,
     "start_time": "2020-08-27T22:46:47.411381",
     "status": "completed"
    },
    "tags": []
   },
   "source": [
    "Now, the number of galaxes we need (17 million ELGs) defines the line luminosity (brightness of amount of) of [OII] we need to reach, that's our goal."
   ]
  },
  {
   "cell_type": "code",
   "execution_count": 18,
   "metadata": {
    "execution": {
     "iopub.execute_input": "2020-08-27T22:46:47.518863Z",
     "iopub.status.busy": "2020-08-27T22:46:47.518290Z",
     "iopub.status.idle": "2020-08-27T22:46:47.519935Z",
     "shell.execute_reply": "2020-08-27T22:46:47.520337Z"
    },
    "papermill": {
     "duration": 0.039797,
     "end_time": "2020-08-27T22:46:47.520491",
     "exception": false,
     "start_time": "2020-08-27T22:46:47.480694",
     "status": "completed"
    },
    "tags": []
   },
   "outputs": [],
   "source": [
    "line_flux = 8.e-17               # [ergs/s/cm2]."
   ]
  },
  {
   "cell_type": "markdown",
   "metadata": {
    "papermill": {
     "duration": 0.03496,
     "end_time": "2020-08-27T22:46:47.591098",
     "exception": false,
     "start_time": "2020-08-27T22:46:47.556138",
     "status": "completed"
    },
    "tags": []
   },
   "source": [
    "Let's talk units.  An erg is $10^{-7}$ Joules, so this is a very small amount of energy, in Joules, arriving per second, on a sq. cm."
   ]
  },
  {
   "cell_type": "code",
   "execution_count": 19,
   "metadata": {
    "execution": {
     "iopub.execute_input": "2020-08-27T22:46:47.666625Z",
     "iopub.status.busy": "2020-08-27T22:46:47.665903Z",
     "iopub.status.idle": "2020-08-27T22:46:47.668320Z",
     "shell.execute_reply": "2020-08-27T22:46:47.668785Z"
    },
    "papermill": {
     "duration": 0.042418,
     "end_time": "2020-08-27T22:46:47.668945",
     "exception": false,
     "start_time": "2020-08-27T22:46:47.626527",
     "status": "completed"
    },
    "tags": []
   },
   "outputs": [],
   "source": [
    "def model(wave, sigma, z, r=0.7):\n",
    "    # Unit amplitude, sigma is the width of the line, z is the redshift and r is the relative amplitudes of the lines in the doublet. \n",
    "    return 1. / (1. + r) / np.sqrt(2. * np.pi) / sigma * (r * np.exp(- ((wave - lambdaa * (1. + z)) / np.sqrt(2.) / sigma)**2.) + np.exp(- ((wave - lambdab * (1. + z)) / np.sqrt(2.) / sigma)**2.))"
   ]
  },
  {
   "cell_type": "code",
   "execution_count": 20,
   "metadata": {
    "execution": {
     "iopub.execute_input": "2020-08-27T22:46:47.746103Z",
     "iopub.status.busy": "2020-08-27T22:46:47.745598Z",
     "iopub.status.idle": "2020-08-27T22:46:47.854959Z",
     "shell.execute_reply": "2020-08-27T22:46:47.855306Z"
    },
    "papermill": {
     "duration": 0.150468,
     "end_time": "2020-08-27T22:46:47.855467",
     "exception": false,
     "start_time": "2020-08-27T22:46:47.704999",
     "status": "completed"
    },
    "tags": []
   },
   "outputs": [
    {
     "data": {
      "text/plain": [
       "(7440.0, 7480.0)"
      ]
     },
     "execution_count": 20,
     "metadata": {},
     "output_type": "execute_result"
    },
    {
     "data": {
      "image/png": "[encoded data removed]",
      "text/plain": [
       "<Figure size 432x288 with 1 Axes>"
      ]
     },
     "metadata": {
      "needs_background": "light"
     },
     "output_type": "display_data"
    }
   ],
   "source": [
    "width    = dlamba_inst(R, z, lambdaa)\n",
    "\n",
    "profile  = model(wave, width, z) # [1/Angstrom].\n",
    "profile *= line_flux             # [ergs/s/cm2/Angstrom].\n",
    "profile *= dlambda               # [ergs/s/cm2/pixel].\n",
    "\n",
    "pl.clf()\n",
    "pl.plot(wave, profile)\n",
    "pl.xlabel('Wavelength [Angstroms]')\n",
    "pl.ylabel('Flux [ergs/s/cm2/pixel]')\n",
    "\n",
    "pl.xlim((1. + z) * 3720., (1. + z) * 3740.)"
   ]
  },
  {
   "cell_type": "code",
   "execution_count": 21,
   "metadata": {
    "execution": {
     "iopub.execute_input": "2020-08-27T22:46:47.931768Z",
     "iopub.status.busy": "2020-08-27T22:46:47.931099Z",
     "iopub.status.idle": "2020-08-27T22:46:47.933591Z",
     "shell.execute_reply": "2020-08-27T22:46:47.933972Z"
    },
    "papermill": {
     "duration": 0.04147,
     "end_time": "2020-08-27T22:46:47.934173",
     "exception": false,
     "start_time": "2020-08-27T22:46:47.892703",
     "status": "completed"
    },
    "tags": []
   },
   "outputs": [
    {
     "data": {
      "text/plain": [
       "7.999999999996866e-17"
      ]
     },
     "execution_count": 21,
     "metadata": {},
     "output_type": "execute_result"
    }
   ],
   "source": [
    "# Summing over pixels, gives us the total line flux again:\n",
    "np.sum(profile)                 # [ergs/s/cm2]."
   ]
  },
  {
   "cell_type": "markdown",
   "metadata": {
    "papermill": {
     "duration": 0.036363,
     "end_time": "2020-08-27T22:46:48.007302",
     "exception": false,
     "start_time": "2020-08-27T22:46:47.970939",
     "status": "completed"
    },
    "tags": []
   },
   "source": [
    "While the energy of each OII [photon](https://en.wikipedia.org/wiki/Photon) we recieve can be found from $E=h \\nu$, where $h=6.626 \\times 10^{-34} J \\cdot s$ and a frequency found by $c = \\nu \\cdot \\lambda$."
   ]
  },
  {
   "cell_type": "code",
   "execution_count": 22,
   "metadata": {
    "execution": {
     "iopub.execute_input": "2020-08-27T22:46:48.083927Z",
     "iopub.status.busy": "2020-08-27T22:46:48.083340Z",
     "iopub.status.idle": "2020-08-27T22:46:48.085192Z",
     "shell.execute_reply": "2020-08-27T22:46:48.085534Z"
    },
    "papermill": {
     "duration": 0.0423,
     "end_time": "2020-08-27T22:46:48.085687",
     "exception": false,
     "start_time": "2020-08-27T22:46:48.043387",
     "status": "completed"
    },
    "tags": []
   },
   "outputs": [],
   "source": [
    "c        = 2.9979e8 * 1.e10     # [Angstrom/s].\n",
    "\n",
    "nus      = c / wave             # [Hertz] = [s^{-1}].\n",
    "\n",
    "Energys  = 6.626e-34 * nus      # [Joules]\n",
    "Energys *= 1.e7                 # [ergs]"
   ]
  },
  {
   "cell_type": "markdown",
   "metadata": {
    "papermill": {
     "duration": 0.036091,
     "end_time": "2020-08-27T22:46:48.158729",
     "exception": false,
     "start_time": "2020-08-27T22:46:48.122638",
     "status": "completed"
    },
    "tags": []
   },
   "source": [
    "So, the faintest OII emitting galaxy we might observe would result in each DESI pixel (in wavelength, 15 $\\mu m$ in physical size) recieving a number of photons per second given by"
   ]
  },
  {
   "cell_type": "code",
   "execution_count": 23,
   "metadata": {
    "execution": {
     "iopub.execute_input": "2020-08-27T22:46:48.237647Z",
     "iopub.status.busy": "2020-08-27T22:46:48.237092Z",
     "iopub.status.idle": "2020-08-27T22:46:48.238762Z",
     "shell.execute_reply": "2020-08-27T22:46:48.239164Z"
    },
    "papermill": {
     "duration": 0.044,
     "end_time": "2020-08-27T22:46:48.239318",
     "exception": false,
     "start_time": "2020-08-27T22:46:48.195318",
     "status": "completed"
    },
    "tags": []
   },
   "outputs": [],
   "source": [
    "# ergs per ... to photons per ...\n",
    "profile   /= Energys            # [photons/s/cm2/pixel].\n",
    "\n",
    "# Photons recieved by a DESI pixel per second (assuming no fiber loss).\n",
    "profile   *= Area               # [photons/s/pixel/M1]."
   ]
  },
  {
   "cell_type": "code",
   "execution_count": 24,
   "metadata": {
    "execution": {
     "iopub.execute_input": "2020-08-27T22:46:48.315967Z",
     "iopub.status.busy": "2020-08-27T22:46:48.315400Z",
     "iopub.status.idle": "2020-08-27T22:46:48.317466Z",
     "shell.execute_reply": "2020-08-27T22:46:48.317956Z"
    },
    "papermill": {
     "duration": 0.042416,
     "end_time": "2020-08-27T22:46:48.318119",
     "exception": false,
     "start_time": "2020-08-27T22:46:48.275703",
     "status": "completed"
    },
    "tags": []
   },
   "outputs": [
    {
     "data": {
      "text/plain": [
       "3.406193461049387"
      ]
     },
     "execution_count": 24,
     "metadata": {},
     "output_type": "execute_result"
    }
   ],
   "source": [
    "# Total number of photons recieved by DESI from the source.\n",
    "np.sum(profile)                 # [photons/s/M1]"
   ]
  },
  {
   "cell_type": "markdown",
   "metadata": {
    "papermill": {
     "duration": 0.037818,
     "end_time": "2020-08-27T22:46:48.393146",
     "exception": false,
     "start_time": "2020-08-27T22:46:48.355328",
     "status": "completed"
    },
    "tags": []
   },
   "source": [
    "Now the quantum efficiency of a CCD isn't quite 100%, so each photon doesn't produce an electron.  Rather, 60 electrons are produced to 100 photons (an efficiency of 60%)."
   ]
  },
  {
   "cell_type": "code",
   "execution_count": 25,
   "metadata": {
    "execution": {
     "iopub.execute_input": "2020-08-27T22:46:48.469326Z",
     "iopub.status.busy": "2020-08-27T22:46:48.468836Z",
     "iopub.status.idle": "2020-08-27T22:46:48.470727Z",
     "shell.execute_reply": "2020-08-27T22:46:48.471136Z"
    },
    "papermill": {
     "duration": 0.04135,
     "end_time": "2020-08-27T22:46:48.471290",
     "exception": false,
     "start_time": "2020-08-27T22:46:48.429940",
     "status": "completed"
    },
    "tags": []
   },
   "outputs": [],
   "source": [
    "QE       = 0.6\n",
    "profile *= QE                   # [electrons/s/pixel/M1]."
   ]
  },
  {
   "cell_type": "markdown",
   "metadata": {
    "papermill": {
     "duration": 0.037587,
     "end_time": "2020-08-27T22:46:48.545929",
     "exception": false,
     "start_time": "2020-08-27T22:46:48.508342",
     "status": "completed"
    },
    "tags": []
   },
   "source": [
    "To counter this ineffiency, we take an exposure lasting 15 mins during which time electrons accumulate in the CCD pixels. "
   ]
  },
  {
   "cell_type": "code",
   "execution_count": 26,
   "metadata": {
    "execution": {
     "iopub.execute_input": "2020-08-27T22:46:48.623437Z",
     "iopub.status.busy": "2020-08-27T22:46:48.622947Z",
     "iopub.status.idle": "2020-08-27T22:46:48.624904Z",
     "shell.execute_reply": "2020-08-27T22:46:48.625252Z"
    },
    "papermill": {
     "duration": 0.04236,
     "end_time": "2020-08-27T22:46:48.625409",
     "exception": false,
     "start_time": "2020-08-27T22:46:48.583049",
     "status": "completed"
    },
    "tags": []
   },
   "outputs": [],
   "source": [
    "exptime  = 15. * 60.            # [seconds]\n",
    "profile *= exptime              # [electrons/exposure/pixel/M1]"
   ]
  },
  {
   "cell_type": "code",
   "execution_count": 27,
   "metadata": {
    "execution": {
     "iopub.execute_input": "2020-08-27T22:46:48.711254Z",
     "iopub.status.busy": "2020-08-27T22:46:48.709797Z",
     "iopub.status.idle": "2020-08-27T22:46:48.811623Z",
     "shell.execute_reply": "2020-08-27T22:46:48.812037Z"
    },
    "papermill": {
     "duration": 0.15009,
     "end_time": "2020-08-27T22:46:48.812199",
     "exception": false,
     "start_time": "2020-08-27T22:46:48.662109",
     "status": "completed"
    },
    "tags": []
   },
   "outputs": [
    {
     "data": {
      "text/plain": [
       "Text(0, 0.5, 'Flux [electrons/exposure/M1/pixel]')"
      ]
     },
     "execution_count": 27,
     "metadata": {},
     "output_type": "execute_result"
    },
    {
     "data": {
      "image/png": "[encoded data removed]",
      "text/plain": [
       "<Figure size 432x288 with 1 Axes>"
      ]
     },
     "metadata": {
      "needs_background": "light"
     },
     "output_type": "display_data"
    }
   ],
   "source": [
    "pl.plot(wave, profile)\n",
    "\n",
    "pl.xlim((1. + z) * 3720., (1. + z) * 3740.)\n",
    "\n",
    "pl.xlabel('Wavelength [Angstroms]')\n",
    "pl.ylabel('Flux [electrons/exposure/M1/pixel]')"
   ]
  },
  {
   "cell_type": "markdown",
   "metadata": {
    "papermill": {
     "duration": 0.03901,
     "end_time": "2020-08-27T22:46:48.889597",
     "exception": false,
     "start_time": "2020-08-27T22:46:48.850587",
     "status": "completed"
    },
    "tags": []
   },
   "source": [
    "But there's another small problem.  As the light from the galaxy travels through the atmosphere, it gets buffetted around such that it appeads smudged on the sky.  The apparent size of a (in reality) point-like star dues to this is known as the 'seeing', in arcseconds.  The buffeting can be so strong - depending on the weather - that star light can be lost on the from the fiber even if it's centered correctly.  Let's see this.     "
   ]
  },
  {
   "cell_type": "code",
   "execution_count": 28,
   "metadata": {
    "execution": {
     "iopub.execute_input": "2020-08-27T22:46:48.969309Z",
     "iopub.status.busy": "2020-08-27T22:46:48.968690Z",
     "iopub.status.idle": "2020-08-27T22:46:48.970551Z",
     "shell.execute_reply": "2020-08-27T22:46:48.970899Z"
    },
    "papermill": {
     "duration": 0.043625,
     "end_time": "2020-08-27T22:46:48.971054",
     "exception": false,
     "start_time": "2020-08-27T22:46:48.927429",
     "status": "completed"
    },
    "tags": []
   },
   "outputs": [],
   "source": [
    "def moffatt(r, fwhm, beta=3.5):\n",
    "  ##  Apparent radial profile of star-light due to buffeting by the atmosphere.  \n",
    "  ##  Sec. 4 of https://iopscience.iop.org/article/10.1086/675808/pdf;  [arcsecond].                                                                                                                                                         \n",
    "  alpha    = fwhm / 2. / (2.**(1./beta) - 1.)**0.5\n",
    "\n",
    "  return  (2. * (beta - 1.) / alpha / alpha) * (1. + (r/alpha)**2.)**-beta"
   ]
  },
  {
   "cell_type": "code",
   "execution_count": 29,
   "metadata": {
    "execution": {
     "iopub.execute_input": "2020-08-27T22:46:49.050909Z",
     "iopub.status.busy": "2020-08-27T22:46:49.050386Z",
     "iopub.status.idle": "2020-08-27T22:46:49.052415Z",
     "shell.execute_reply": "2020-08-27T22:46:49.052766Z"
    },
    "papermill": {
     "duration": 0.043529,
     "end_time": "2020-08-27T22:46:49.052924",
     "exception": false,
     "start_time": "2020-08-27T22:46:49.009395",
     "status": "completed"
    },
    "tags": []
   },
   "outputs": [],
   "source": [
    "fwhm       = 2.0\n",
    "dr         = 0.01\n",
    "\n",
    "rs         = np.arange(0.0, 15., dr)  ## [arcseconds].        \n",
    "ms         = moffatt(rs, fwhm)"
   ]
  },
  {
   "cell_type": "code",
   "execution_count": 30,
   "metadata": {
    "execution": {
     "iopub.execute_input": "2020-08-27T22:46:49.144666Z",
     "iopub.status.busy": "2020-08-27T22:46:49.144146Z",
     "iopub.status.idle": "2020-08-27T22:46:49.234153Z",
     "shell.execute_reply": "2020-08-27T22:46:49.234733Z"
    },
    "papermill": {
     "duration": 0.144318,
     "end_time": "2020-08-27T22:46:49.235124",
     "exception": false,
     "start_time": "2020-08-27T22:46:49.090806",
     "status": "completed"
    },
    "tags": []
   },
   "outputs": [
    {
     "data": {
      "text/plain": [
       "(-0.1, 6.0)"
      ]
     },
     "execution_count": 30,
     "metadata": {},
     "output_type": "execute_result"
    },
    {
     "data": {
      "image/png": "[encoded data removed]",
      "text/plain": [
       "<Figure size 432x288 with 1 Axes>"
      ]
     },
     "metadata": {
      "needs_background": "light"
     },
     "output_type": "display_data"
    }
   ],
   "source": [
    "pl.axvline(theta, alpha=0.25, c='k')\n",
    "\n",
    "pl.plot(rs, ms, c='k')\n",
    "pl.xlabel('Distance from center of star [arcseconds]')\n",
    "pl.ylabel('Relative apparent brightness of star')\n",
    "pl.xlim(left=-0.1, right=6.0)"
   ]
  },
  {
   "cell_type": "code",
   "execution_count": 31,
   "metadata": {
    "execution": {
     "iopub.execute_input": "2020-08-27T22:46:49.319239Z",
     "iopub.status.busy": "2020-08-27T22:46:49.318550Z",
     "iopub.status.idle": "2020-08-27T22:46:49.438740Z",
     "shell.execute_reply": "2020-08-27T22:46:49.439221Z"
    },
    "papermill": {
     "duration": 0.164238,
     "end_time": "2020-08-27T22:46:49.439385",
     "exception": false,
     "start_time": "2020-08-27T22:46:49.275147",
     "status": "completed"
    },
    "tags": []
   },
   "outputs": [
    {
     "data": {
      "text/plain": [
       "Text(0, 0.5, 'FIBER FRAC.')"
      ]
     },
     "execution_count": 31,
     "metadata": {},
     "output_type": "execute_result"
    },
    {
     "data": {
      "image/png": "[encoded data removed]",
      "text/plain": [
       "<Figure size 432x288 with 1 Axes>"
      ]
     },
     "metadata": {
      "needs_background": "light"
     },
     "output_type": "display_data"
    }
   ],
   "source": [
    "# A range of full-width @ half max. values for the seeing.  \n",
    "fwhms      = np.arange(0.5, 3.5, 0.1)\n",
    "\n",
    "# Find the index in our distance grid closest to the size of a fiber. \n",
    "indx       = np.abs(rs - theta).argmin()\n",
    "\n",
    "# A list to collect the fraction of light down a fiber for each value of the seeing. \n",
    "fiberfracs = []\n",
    "\n",
    "# Loop over the seeing values. \n",
    "for i, fwhm in enumerate(fwhms):\n",
    "  # Work out the radial profile of the star.\n",
    "  ms       = moffatt(rs, fwhm)\n",
    "  \n",
    "  # Integrate this to get the total light within a radius\n",
    "  Is       = 2. * np.pi * dr * np.cumsum(rs * ms)\n",
    "\n",
    "  # Calculate the fiber fraction for each r value we as for. \n",
    "  ffrac    = Is / Is[-1]\n",
    "  \n",
    "  # Save the fiber fraction for the radius corresponding to the fiber size. \n",
    "  fiberfracs.append(ffrac[indx])\n",
    "\n",
    "fiberfracs = np.array(fiberfracs)\n",
    "\n",
    "pl.plot(fwhms, fiberfracs)\n",
    "\n",
    "pl.xlim(0.5, 3.0)\n",
    "\n",
    "pl.xlabel(r'$(FWHM) \\ Seeing \\ [{\\rm arcseconds}]$')\n",
    "pl.ylabel(r'FIBER FRAC.')"
   ]
  },
  {
   "cell_type": "markdown",
   "metadata": {
    "papermill": {
     "duration": 0.040503,
     "end_time": "2020-08-27T22:46:49.519988",
     "exception": false,
     "start_time": "2020-08-27T22:46:49.479485",
     "status": "completed"
    },
    "tags": []
   },
   "source": [
    "So, as the (highly ) [turbulent](https://en.wikipedia.org/wiki/Turbulence) air moves around in the atmosphere, the galaxy light gets smudged to the size of the \"seeing\".  When this gets bad, $\\simeq 3.0$ arcseconds, 60% of the light can be lost!  DESI needs something like an arcsecond seeing to observe, otherwise we just throw the data away.  But finally, this means we can expect 80% of the light to be captured in a normal exposure:       "
   ]
  },
  {
   "cell_type": "code",
   "execution_count": 32,
   "metadata": {
    "execution": {
     "iopub.execute_input": "2020-08-27T22:46:49.602020Z",
     "iopub.status.busy": "2020-08-27T22:46:49.601399Z",
     "iopub.status.idle": "2020-08-27T22:46:49.602904Z",
     "shell.execute_reply": "2020-08-27T22:46:49.603357Z"
    },
    "papermill": {
     "duration": 0.044043,
     "end_time": "2020-08-27T22:46:49.603507",
     "exception": false,
     "start_time": "2020-08-27T22:46:49.559464",
     "status": "completed"
    },
    "tags": []
   },
   "outputs": [],
   "source": [
    "fiberfrac = 0.8\n",
    "profile  *= fiberfrac  # [electrons/exposure/pixel/M1]"
   ]
  },
  {
   "cell_type": "markdown",
   "metadata": {
    "papermill": {
     "duration": 0.039566,
     "end_time": "2020-08-27T22:46:49.682504",
     "exception": false,
     "start_time": "2020-08-27T22:46:49.642938",
     "status": "completed"
    },
    "tags": []
   },
   "source": [
    "Now, depending on the phases of the moon, each fiber placed on a galaxy also recieves a \"background\" amount of (moon)light originating from light _scattered_ by the atmosphere.  This background depends strongly on the phases of the moon - for ELGs we need to avoid observing close to the full moon.  Side note, with an apparent angular diameter of $0.5$ degrees, the moon would fit $\\approx 6 \\times$ side-by-side in the DESI field of view (3.2 deg diameter). "
   ]
  },
  {
   "cell_type": "markdown",
   "metadata": {
    "papermill": {
     "duration": 0.039401,
     "end_time": "2020-08-27T22:46:49.761380",
     "exception": false,
     "start_time": "2020-08-27T22:46:49.721979",
     "status": "completed"
    },
    "tags": []
   },
   "source": [
    "<img src=\"images/moon.jpg\" alt=\"Drawing\" style=\"width: 700px;\"/>"
   ]
  },
  {
   "cell_type": "markdown",
   "metadata": {
    "papermill": {
     "duration": 0.040457,
     "end_time": "2020-08-27T22:46:49.841371",
     "exception": false,
     "start_time": "2020-08-27T22:46:49.800914",
     "status": "completed"
    },
    "tags": []
   },
   "source": [
    "A typical level for the background light is 6.4e-18 erg/cm$^2/s/$Angstrom/sq. arcsecond, with a projected fiber area given by "
   ]
  },
  {
   "cell_type": "code",
   "execution_count": 33,
   "metadata": {
    "execution": {
     "iopub.execute_input": "2020-08-27T22:46:49.925847Z",
     "iopub.status.busy": "2020-08-27T22:46:49.925206Z",
     "iopub.status.idle": "2020-08-27T22:46:49.927418Z",
     "shell.execute_reply": "2020-08-27T22:46:49.927901Z"
    },
    "papermill": {
     "duration": 0.045775,
     "end_time": "2020-08-27T22:46:49.928068",
     "exception": false,
     "start_time": "2020-08-27T22:46:49.882293",
     "status": "completed"
    },
    "tags": []
   },
   "outputs": [
    {
     "data": {
      "text/plain": [
       "7.0685834705770345"
      ]
     },
     "execution_count": 33,
     "metadata": {},
     "output_type": "execute_result"
    }
   ],
   "source": [
    "fib_area = np.pi * theta**2. # [sq. arcsecond]\n",
    "fib_area"
   ]
  },
  {
   "cell_type": "markdown",
   "metadata": {
    "papermill": {
     "duration": 0.040558,
     "end_time": "2020-08-27T22:46:50.009872",
     "exception": false,
     "start_time": "2020-08-27T22:46:49.969314",
     "status": "completed"
    },
    "tags": []
   },
   "source": [
    "The corresponding _background_ level of photons recieved by a DESI pixel per second (as before):"
   ]
  },
  {
   "cell_type": "code",
   "execution_count": 34,
   "metadata": {
    "execution": {
     "iopub.execute_input": "2020-08-27T22:46:50.092551Z",
     "iopub.status.busy": "2020-08-27T22:46:50.091994Z",
     "iopub.status.idle": "2020-08-27T22:46:50.094203Z",
     "shell.execute_reply": "2020-08-27T22:46:50.094549Z"
    },
    "papermill": {
     "duration": 0.045115,
     "end_time": "2020-08-27T22:46:50.094703",
     "exception": false,
     "start_time": "2020-08-27T22:46:50.049588",
     "status": "completed"
    },
    "tags": []
   },
   "outputs": [
    {
     "data": {
      "text/plain": [
       "2.4033183799961916e-17"
      ]
     },
     "execution_count": 34,
     "metadata": {},
     "output_type": "execute_result"
    }
   ],
   "source": [
    "background  = 3.4e-18       # [erg/s/cm 2/ Angstrom/sq. arcsecond].\n",
    "background *= fib_area\n",
    "background                  # [erg/s/cm 2/ Angstrom]."
   ]
  },
  {
   "cell_type": "markdown",
   "metadata": {
    "papermill": {
     "duration": 0.040515,
     "end_time": "2020-08-27T22:46:50.175541",
     "exception": false,
     "start_time": "2020-08-27T22:46:50.135026",
     "status": "completed"
    },
    "tags": []
   },
   "source": [
    "which we convert in the same way as before:"
   ]
  },
  {
   "cell_type": "code",
   "execution_count": 35,
   "metadata": {
    "execution": {
     "iopub.execute_input": "2020-08-27T22:46:50.262313Z",
     "iopub.status.busy": "2020-08-27T22:46:50.261761Z",
     "iopub.status.idle": "2020-08-27T22:46:50.263753Z",
     "shell.execute_reply": "2020-08-27T22:46:50.264102Z"
    },
    "papermill": {
     "duration": 0.049227,
     "end_time": "2020-08-27T22:46:50.264339",
     "exception": false,
     "start_time": "2020-08-27T22:46:50.215112",
     "status": "completed"
    },
    "tags": []
   },
   "outputs": [],
   "source": [
    "background /= Energys       # [photons/s/cm2/Angstrom].\n",
    "\n",
    "background *= dlambda       # [photons/s/cm2/pixel].\n",
    "\n",
    "# Background photons recieved by a DESI pixel per second (assuming no fiber loss).\n",
    "background *= Area          # [photons/s/pixel/M1].\n",
    "\n",
    "# Quantum efficiency \n",
    "background *= QE            # [electrons/s/pixel/M1].\n",
    "\n",
    "background *= exptime       # [electrons/exposure/pixel/M1]."
   ]
  },
  {
   "cell_type": "code",
   "execution_count": 36,
   "metadata": {
    "execution": {
     "iopub.execute_input": "2020-08-27T22:46:50.350836Z",
     "iopub.status.busy": "2020-08-27T22:46:50.350271Z",
     "iopub.status.idle": "2020-08-27T22:46:50.352247Z",
     "shell.execute_reply": "2020-08-27T22:46:50.352603Z"
    },
    "papermill": {
     "duration": 0.046046,
     "end_time": "2020-08-27T22:46:50.352759",
     "exception": false,
     "start_time": "2020-08-27T22:46:50.306713",
     "status": "completed"
    },
    "tags": []
   },
   "outputs": [
    {
     "data": {
      "text/plain": [
       "array([ 73.67064431,  73.67629616,  73.681948  , ..., 204.6239301 ,\n",
       "       204.62958195, 204.6352338 ])"
      ]
     },
     "execution_count": 36,
     "metadata": {},
     "output_type": "execute_result"
    }
   ],
   "source": [
    "background"
   ]
  },
  {
   "cell_type": "markdown",
   "metadata": {
    "papermill": {
     "duration": 0.040487,
     "end_time": "2020-08-27T22:46:50.434237",
     "exception": false,
     "start_time": "2020-08-27T22:46:50.393750",
     "status": "completed"
    },
    "tags": []
   },
   "source": [
    "The background noise is Poisson, on average we expect a background level of electrons, but for any given exposure there will be fluctuations according to a known [distribution](https://en.wikipedia.org/wiki/Poisson_distribution).  Assuming the measured number of electrons is dominated by the background, the variance we expect in the number of measured electrons is then that for a Poisson distribution:"
   ]
  },
  {
   "cell_type": "code",
   "execution_count": 37,
   "metadata": {
    "execution": {
     "iopub.execute_input": "2020-08-27T22:46:50.518968Z",
     "iopub.status.busy": "2020-08-27T22:46:50.518476Z",
     "iopub.status.idle": "2020-08-27T22:46:50.520213Z",
     "shell.execute_reply": "2020-08-27T22:46:50.520557Z"
    },
    "papermill": {
     "duration": 0.046101,
     "end_time": "2020-08-27T22:46:50.520710",
     "exception": false,
     "start_time": "2020-08-27T22:46:50.474609",
     "status": "completed"
    },
    "tags": []
   },
   "outputs": [],
   "source": [
    "pixel_variance = background # [electrons/exposure/pixel/M1]."
   ]
  },
  {
   "cell_type": "code",
   "execution_count": 38,
   "metadata": {
    "execution": {
     "iopub.execute_input": "2020-08-27T22:46:50.606829Z",
     "iopub.status.busy": "2020-08-27T22:46:50.606332Z",
     "iopub.status.idle": "2020-08-27T22:46:50.697978Z",
     "shell.execute_reply": "2020-08-27T22:46:50.698400Z"
    },
    "papermill": {
     "duration": 0.1361,
     "end_time": "2020-08-27T22:46:50.698580",
     "exception": false,
     "start_time": "2020-08-27T22:46:50.562480",
     "status": "completed"
    },
    "tags": []
   },
   "outputs": [],
   "source": [
    "noise = []\n",
    "\n",
    "for p in background:\n",
    "    noise.append(np.random.poisson(p, 1)[0])\n",
    "    \n",
    "noise = np.array(noise)"
   ]
  },
  {
   "cell_type": "code",
   "execution_count": 39,
   "metadata": {
    "execution": {
     "iopub.execute_input": "2020-08-27T22:46:50.785050Z",
     "iopub.status.busy": "2020-08-27T22:46:50.784551Z",
     "iopub.status.idle": "2020-08-27T22:46:50.786692Z",
     "shell.execute_reply": "2020-08-27T22:46:50.787038Z"
    },
    "papermill": {
     "duration": 0.047912,
     "end_time": "2020-08-27T22:46:50.787193",
     "exception": false,
     "start_time": "2020-08-27T22:46:50.739281",
     "status": "completed"
    },
    "tags": []
   },
   "outputs": [
    {
     "data": {
      "text/plain": [
       "array([ 74,  79,  71, ..., 195, 194, 218])"
      ]
     },
     "execution_count": 39,
     "metadata": {},
     "output_type": "execute_result"
    }
   ],
   "source": [
    "noise"
   ]
  },
  {
   "cell_type": "code",
   "execution_count": 40,
   "metadata": {
    "execution": {
     "iopub.execute_input": "2020-08-27T22:46:50.877689Z",
     "iopub.status.busy": "2020-08-27T22:46:50.876465Z",
     "iopub.status.idle": "2020-08-27T22:46:50.987542Z",
     "shell.execute_reply": "2020-08-27T22:46:50.988063Z"
    },
    "papermill": {
     "duration": 0.160338,
     "end_time": "2020-08-27T22:46:50.988354",
     "exception": false,
     "start_time": "2020-08-27T22:46:50.828016",
     "status": "completed"
    },
    "tags": []
   },
   "outputs": [
    {
     "data": {
      "text/plain": [
       "Text(0, 0.5, 'Flux [electrons/exposure/M1/pixel]')"
      ]
     },
     "execution_count": 40,
     "metadata": {},
     "output_type": "execute_result"
    },
    {
     "data": {
      "image/png": "[encoded data removed]",
      "text/plain": [
       "<Figure size 432x288 with 1 Axes>"
      ]
     },
     "metadata": {
      "needs_background": "light"
     },
     "output_type": "display_data"
    }
   ],
   "source": [
    "data = profile + noise\n",
    "\n",
    "pl.plot(wave, profile, alpha=0.5)\n",
    "pl.plot(wave, background, alpha=0.5)\n",
    "pl.plot(wave, noise)\n",
    "pl.plot(wave, data)\n",
    "\n",
    "pl.xlim((1. + z) * 3720., (1. + z) * 3740.)\n",
    "\n",
    "pl.xlabel('Wavelength [Angstroms]')\n",
    "pl.ylabel('Flux [electrons/exposure/M1/pixel]')"
   ]
  },
  {
   "cell_type": "markdown",
   "metadata": {
    "papermill": {
     "duration": 0.041952,
     "end_time": "2020-08-27T22:46:51.073360",
     "exception": false,
     "start_time": "2020-08-27T22:46:51.031408",
     "status": "completed"
    },
    "tags": []
   },
   "source": [
    "DESI has dedicated fibers that point at the sky, rather than at galaxies.  This allows use to measure the sky background in order to subtract the mean level:"
   ]
  },
  {
   "cell_type": "code",
   "execution_count": 41,
   "metadata": {
    "execution": {
     "iopub.execute_input": "2020-08-27T22:46:51.161768Z",
     "iopub.status.busy": "2020-08-27T22:46:51.161278Z",
     "iopub.status.idle": "2020-08-27T22:46:51.163043Z",
     "shell.execute_reply": "2020-08-27T22:46:51.163391Z"
    },
    "papermill": {
     "duration": 0.047362,
     "end_time": "2020-08-27T22:46:51.163545",
     "exception": false,
     "start_time": "2020-08-27T22:46:51.116183",
     "status": "completed"
    },
    "tags": []
   },
   "outputs": [],
   "source": [
    "data -= background"
   ]
  },
  {
   "cell_type": "code",
   "execution_count": 42,
   "metadata": {
    "execution": {
     "iopub.execute_input": "2020-08-27T22:46:51.301066Z",
     "iopub.status.busy": "2020-08-27T22:46:51.257276Z",
     "iopub.status.idle": "2020-08-27T22:46:51.421004Z",
     "shell.execute_reply": "2020-08-27T22:46:51.421404Z"
    },
    "papermill": {
     "duration": 0.215583,
     "end_time": "2020-08-27T22:46:51.421574",
     "exception": false,
     "start_time": "2020-08-27T22:46:51.205991",
     "status": "completed"
    },
    "tags": []
   },
   "outputs": [
    {
     "data": {
      "text/plain": [
       "Text(0, 0.5, 'Flux [electrons/exposure/M1/pixel]')"
      ]
     },
     "execution_count": 42,
     "metadata": {},
     "output_type": "execute_result"
    },
    {
     "data": {
      "image/png": "[encoded data removed]",
      "text/plain": [
       "<Figure size 432x288 with 1 Axes>"
      ]
     },
     "metadata": {
      "needs_background": "light"
     },
     "output_type": "display_data"
    }
   ],
   "source": [
    "pl.plot(wave, profile, alpha=0.5)\n",
    "pl.plot(wave, background, alpha=0.5)\n",
    "pl.plot(wave, data)\n",
    "\n",
    "pl.xlim((1. + z) * 3720., (1. + z) * 3740.)\n",
    "\n",
    "pl.xlabel('Wavelength [Angstroms]')\n",
    "pl.ylabel('Flux [electrons/exposure/M1/pixel]')"
   ]
  },
  {
   "cell_type": "markdown",
   "metadata": {
    "papermill": {
     "duration": 0.042255,
     "end_time": "2020-08-27T22:46:51.507296",
     "exception": false,
     "start_time": "2020-08-27T22:46:51.465041",
     "status": "completed"
    },
    "tags": []
   },
   "source": [
    "We need to establish if this is enough!  This will be an excercise in fitting, as in the Intro.  We'll define a best-fit metric:  $\\chi^2  = \\sum_p \\left ( \\frac{D_p - A \\cdot M_p}{\\sigma_p} \\right )^2$ that calculates the cumulative (error weighted) square distance of the data from the model.  Where $A$ represent the line flux, $M$ is the model we defined above and $\\sigma_p$ is the (background dominated) standard deviation of electrons in each pixel."
   ]
  },
  {
   "cell_type": "markdown",
   "metadata": {
    "papermill": {
     "duration": 0.043428,
     "end_time": "2020-08-27T22:46:51.593908",
     "exception": false,
     "start_time": "2020-08-27T22:46:51.550480",
     "status": "completed"
    },
    "tags": []
   },
   "source": [
    "If we differentiate this with respect to $A$, we find the best-fitting line flux (remember, the truth was defined above).   $A = \\left (\\sum_p D_p M_p / \\sigma_p^2 \\right ) / \\left (\\sum_p M_p^2 / \\sigma_p^2 \\right )$m or"
   ]
  },
  {
   "cell_type": "code",
   "execution_count": 43,
   "metadata": {
    "execution": {
     "iopub.execute_input": "2020-08-27T22:46:51.687247Z",
     "iopub.status.busy": "2020-08-27T22:46:51.686521Z",
     "iopub.status.idle": "2020-08-27T22:46:51.689114Z",
     "shell.execute_reply": "2020-08-27T22:46:51.689598Z"
    },
    "papermill": {
     "duration": 0.049859,
     "end_time": "2020-08-27T22:46:51.689751",
     "exception": false,
     "start_time": "2020-08-27T22:46:51.639892",
     "status": "completed"
    },
    "tags": []
   },
   "outputs": [],
   "source": [
    "# Estimated line flux\n",
    "Mp            = model(wave, width, z) * dlambda # [ergs/s/cm2/pixel]\n",
    "Mp           /= Energys                         # [photons/s/cm2/pixel].  \n",
    "Mp           *= Area                            # [photons/s/pixel/M1].\n",
    "Mp           *= QE                              # [electrons/s/pixel/M1].\n",
    "Mp           *= exptime                         # [electrons/exposure/pixel/M1]. \n",
    "Mp           *= fiberfrac                       # [electrons/exposure/pixel/M1]."
   ]
  },
  {
   "cell_type": "code",
   "execution_count": 44,
   "metadata": {
    "execution": {
     "iopub.execute_input": "2020-08-27T22:46:51.790607Z",
     "iopub.status.busy": "2020-08-27T22:46:51.790092Z",
     "iopub.status.idle": "2020-08-27T22:46:51.896277Z",
     "shell.execute_reply": "2020-08-27T22:46:51.896631Z"
    },
    "papermill": {
     "duration": 0.163573,
     "end_time": "2020-08-27T22:46:51.896794",
     "exception": false,
     "start_time": "2020-08-27T22:46:51.733221",
     "status": "completed"
    },
    "tags": []
   },
   "outputs": [
    {
     "data": {
      "text/plain": [
       "Text(0, 0.5, 'Flux [electrons/exposure/M1/pixel]')"
      ]
     },
     "execution_count": 44,
     "metadata": {},
     "output_type": "execute_result"
    },
    {
     "data": {
      "image/png": "[encoded data removed]",
      "text/plain": [
       "<Figure size 432x288 with 1 Axes>"
      ]
     },
     "metadata": {
      "needs_background": "light"
     },
     "output_type": "display_data"
    }
   ],
   "source": [
    "pl.plot(wave,             data)\n",
    "pl.plot(wave,   Mp * line_flux)\n",
    "\n",
    "pl.xlim((1. + z) * 3720., (1. + z) * 3740.)\n",
    "\n",
    "pl.xlabel('Wavelength [Angstroms]')\n",
    "pl.ylabel('Flux [electrons/exposure/M1/pixel]')"
   ]
  },
  {
   "cell_type": "code",
   "execution_count": 45,
   "metadata": {
    "execution": {
     "iopub.execute_input": "2020-08-27T22:46:51.989112Z",
     "iopub.status.busy": "2020-08-27T22:46:51.987992Z",
     "iopub.status.idle": "2020-08-27T22:46:51.991849Z",
     "shell.execute_reply": "2020-08-27T22:46:51.992195Z"
    },
    "papermill": {
     "duration": 0.051768,
     "end_time": "2020-08-27T22:46:51.992356",
     "exception": false,
     "start_time": "2020-08-27T22:46:51.940588",
     "status": "completed"
    },
    "tags": []
   },
   "outputs": [
    {
     "data": {
      "text/plain": [
       "8.063893164052282e-17"
      ]
     },
     "execution_count": 45,
     "metadata": {},
     "output_type": "execute_result"
    }
   ],
   "source": [
    "est_line_flux = np.sum(data * Mp / pixel_variance) / np.sum(Mp**2. / pixel_variance)\n",
    "est_line_flux "
   ]
  },
  {
   "cell_type": "markdown",
   "metadata": {
    "papermill": {
     "duration": 0.043725,
     "end_time": "2020-08-27T22:46:52.080454",
     "exception": false,
     "start_time": "2020-08-27T22:46:52.036729",
     "status": "completed"
    },
    "tags": []
   },
   "source": [
    "Incredible!  We've been able to measure the line flux of our emission line galaxy.  Now what is the error on our measurement?  You can get this from the second derivative of $\\chi^2$, $\\sigma_A^{-2} = \\left ( \\frac{1}{2} \\right )  \\frac{\\partial^2 \\chi^2}{\\partial^2 A} = \\sum_p \\frac{M_p^2}{\\sigma_p^2}$.  "
   ]
  },
  {
   "cell_type": "code",
   "execution_count": 46,
   "metadata": {
    "execution": {
     "iopub.execute_input": "2020-08-27T22:46:52.172391Z",
     "iopub.status.busy": "2020-08-27T22:46:52.171800Z",
     "iopub.status.idle": "2020-08-27T22:46:52.174188Z",
     "shell.execute_reply": "2020-08-27T22:46:52.174528Z"
    },
    "papermill": {
     "duration": 0.050264,
     "end_time": "2020-08-27T22:46:52.174680",
     "exception": false,
     "start_time": "2020-08-27T22:46:52.124416",
     "status": "completed"
    },
    "tags": []
   },
   "outputs": [
    {
     "data": {
      "text/plain": [
       "3.0496513616343895e-18"
      ]
     },
     "execution_count": 46,
     "metadata": {},
     "output_type": "execute_result"
    }
   ],
   "source": [
    "varA = np.sum(Mp**2 / pixel_variance)\n",
    "sigA = 1. / np.sqrt(varA)\n",
    "sigA"
   ]
  },
  {
   "cell_type": "markdown",
   "metadata": {
    "papermill": {
     "duration": 0.045218,
     "end_time": "2020-08-27T22:46:52.265628",
     "exception": false,
     "start_time": "2020-08-27T22:46:52.220410",
     "status": "completed"
    },
    "tags": []
   },
   "source": [
    "Giving a signal-to-noise of (how many times bigger is the 'signal' than the noise), $SNR = A / \\sigma_A$."
   ]
  },
  {
   "cell_type": "code",
   "execution_count": 47,
   "metadata": {
    "execution": {
     "iopub.execute_input": "2020-08-27T22:46:52.359230Z",
     "iopub.status.busy": "2020-08-27T22:46:52.358631Z",
     "iopub.status.idle": "2020-08-27T22:46:52.360800Z",
     "shell.execute_reply": "2020-08-27T22:46:52.361161Z"
    },
    "papermill": {
     "duration": 0.051635,
     "end_time": "2020-08-27T22:46:52.361391",
     "exception": false,
     "start_time": "2020-08-27T22:46:52.309756",
     "status": "completed"
    },
    "tags": []
   },
   "outputs": [
    {
     "name": "stdout",
     "output_type": "stream",
     "text": [
      "At a limiting OII line flux of 8.000e-17, with a resolution 9000.000, the SNR is 26.442!\n"
     ]
    }
   ],
   "source": [
    "SNR  = est_line_flux / sigA\n",
    "print('At a limiting OII line flux of {:.3e}, with a resolution {:.3f}, the SNR is {:.3f}!'.format(line_flux, R, SNR))"
   ]
  },
  {
   "cell_type": "markdown",
   "metadata": {
    "papermill": {
     "duration": 0.044942,
     "end_time": "2020-08-27T22:46:52.451796",
     "exception": false,
     "start_time": "2020-08-27T22:46:52.406854",
     "status": "completed"
    },
    "tags": []
   },
   "source": [
    "So, finally, the instrumental resolution we've chosen was sufficient to reach the line flux we needed to get 17 Million ELGs. In fact, we have some room to spare as a SNR of 10 is sufficient to be confident we can get a redshift.  This is (almost) exactly the DESI design and looks like this!"
   ]
  },
  {
   "cell_type": "markdown",
   "metadata": {
    "papermill": {
     "duration": 0.04379,
     "end_time": "2020-08-27T22:46:52.538971",
     "exception": false,
     "start_time": "2020-08-27T22:46:52.495181",
     "status": "completed"
    },
    "tags": []
   },
   "source": [
    "<img src=\"images/spectrograph.png\" alt=\"Drawing\" style=\"width: 700px;\"/>"
   ]
  },
  {
   "cell_type": "markdown",
   "metadata": {
    "papermill": {
     "duration": 0.050743,
     "end_time": "2020-08-27T22:46:52.634654",
     "exception": false,
     "start_time": "2020-08-27T22:46:52.583911",
     "status": "completed"
    },
    "tags": []
   },
   "source": [
    "Congratulations!  Your careful analysis has just designed the DESI experiment.  You'd be all set to write your first science paper but, unfortunately, someone beat you to it."
   ]
  },
  {
   "cell_type": "markdown",
   "metadata": {
    "papermill": {
     "duration": 0.044323,
     "end_time": "2020-08-27T22:46:52.729055",
     "exception": false,
     "start_time": "2020-08-27T22:46:52.684732",
     "status": "completed"
    },
    "tags": []
   },
   "source": [
    "![title](images/comparat.png)"
   ]
  },
  {
   "cell_type": "markdown",
   "metadata": {
    "papermill": {
     "duration": 0.044938,
     "end_time": "2020-08-27T22:46:52.820210",
     "exception": false,
     "start_time": "2020-08-27T22:46:52.775272",
     "status": "completed"
    },
    "tags": []
   },
   "source": [
    "Let's really save on the pennies.  Can you find the resolution necessary to achieve a the minimum SNR required, i.e. what $R$ gives a SNR of 10? Trial and error from Cell 9 will get you to an answer but, with some thought, you might think of a quicker way! "
   ]
  },
  {
   "cell_type": "markdown",
   "metadata": {
    "papermill": {
     "duration": 0.044898,
     "end_time": "2020-08-27T22:46:52.910389",
     "exception": false,
     "start_time": "2020-08-27T22:46:52.865491",
     "status": "completed"
    },
    "tags": []
   },
   "source": [
    "Improve this notebook!  Now you're an expert, why not tidy up the things we missed?  For instance, we've assumed the sky background to be flat in flux.  Is this really true?  Why not use Google and find out.  "
   ]
  },
  {
   "cell_type": "markdown",
   "metadata": {
    "papermill": {
     "duration": 0.044985,
     "end_time": "2020-08-27T22:46:53.002379",
     "exception": false,
     "start_time": "2020-08-27T22:46:52.957394",
     "status": "completed"
    },
    "tags": []
   },
   "source": [
    "See [here](https://arxiv.org/pdf/1310.0615.pdf), [here](https://arxiv.org/pdf/2007.14484.pdf) and [here](https://arxiv.org/pdf/2007.14484.pdf) is you're feeling brave and want to know more."
   ]
  }
 ],
 "metadata": {
  "kernelspec": {
   "display_name": "Python 3",
   "language": "python",
   "name": "python3"
  },
  "language_info": {
   "codemirror_mode": {
    "name": "ipython",
    "version": 3
   },
   "file_extension": ".py",
   "mimetype": "text/x-python",
   "name": "python",
   "nbconvert_exporter": "python",
   "pygments_lexer": "ipython3",
   "version": "3.7.6"
  },
  "papermill": {
   "duration": 13.130806,
   "end_time": "2020-08-27T22:46:54.264532",
   "environment_variables": {},
   "exception": null,
   "input_path": "./DesigningDESI.ipynb",
   "output_path": "./pmout/pmout.ipynb",
   "parameters": {
    "alpha": 0.6,
    "ratio": 0.1
   },
   "start_time": "2020-08-27T22:46:41.133726",
   "version": "2.1.2"
  }
 },
 "nbformat": 4,
 "nbformat_minor": 4
}